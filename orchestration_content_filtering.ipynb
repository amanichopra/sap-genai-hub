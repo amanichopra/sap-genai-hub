{
 "cells": [
  {
   "cell_type": "markdown",
   "id": "6ff98b17",
   "metadata": {},
   "source": [
    "<a target=\"_blank\" href=\"https://colab.research.google.com/github/amanichopra/sap-genai-hub/blob/main/orchestration_content_filtering.ipynb\">\n",
    "  <img src=\"https://colab.research.google.com/assets/colab-badge.svg\" alt=\"Open In Colab\"/>\n",
    "</a>"
   ]
  },
  {
   "cell_type": "markdown",
   "id": "4a865220",
   "metadata": {},
   "source": [
    "# Preparation"
   ]
  },
  {
   "cell_type": "markdown",
   "id": "dbca9b55",
   "metadata": {},
   "source": [
    "## Install Libraries"
   ]
  },
  {
   "cell_type": "code",
   "execution_count": 14,
   "id": "0205a50c",
   "metadata": {},
   "outputs": [
    {
     "name": "stdout",
     "output_type": "stream",
     "text": [
      "Defaulting to user installation because normal site-packages is not writeable\n",
      "Requirement already satisfied: generative-ai-hub-sdk[all] in /Users/I576044/Library/Python/3.11/lib/python/site-packages (4.10.2)\n",
      "Requirement already satisfied: overloading==0.5.0 in /Library/Frameworks/Python.framework/Versions/3.11/lib/python3.11/site-packages (from generative-ai-hub-sdk[all]) (0.5.0)\n",
      "Requirement already satisfied: packaging>=23.2 in /Users/I576044/Library/Python/3.11/lib/python/site-packages (from generative-ai-hub-sdk[all]) (23.2)\n",
      "Requirement already satisfied: openai>=1.58.1 in /Users/I576044/Library/Python/3.11/lib/python/site-packages (from generative-ai-hub-sdk[all]) (1.70.0)\n",
      "Requirement already satisfied: ai-core-sdk>=2.5.7 in /Users/I576044/Library/Python/3.11/lib/python/site-packages (from generative-ai-hub-sdk[all]) (2.5.7)\n",
      "Requirement already satisfied: dacite>=1.8.1 in /Library/Frameworks/Python.framework/Versions/3.11/lib/python3.11/site-packages (from generative-ai-hub-sdk[all]) (1.8.1)\n",
      "Requirement already satisfied: click>=8.1.7 in /Users/I576044/Library/Python/3.11/lib/python/site-packages (from generative-ai-hub-sdk[all]) (8.1.8)\n",
      "Requirement already satisfied: httpx>=0.27.0 in /Users/I576044/Library/Python/3.11/lib/python/site-packages (from generative-ai-hub-sdk[all]) (0.28.1)\n",
      "Requirement already satisfied: pydantic==2.10.6 in /Users/I576044/Library/Python/3.11/lib/python/site-packages (from generative-ai-hub-sdk[all]) (2.10.6)\n",
      "Requirement already satisfied: boto3==1.37.0 in /Users/I576044/Library/Python/3.11/lib/python/site-packages (from generative-ai-hub-sdk[all]) (1.37.0)\n",
      "Requirement already satisfied: langchain-aws==0.2.15 in /Users/I576044/Library/Python/3.11/lib/python/site-packages (from generative-ai-hub-sdk[all]) (0.2.15)\n",
      "Requirement already satisfied: google-cloud-aiplatform==1.83.0 in /Users/I576044/Library/Python/3.11/lib/python/site-packages (from generative-ai-hub-sdk[all]) (1.83.0)\n",
      "Requirement already satisfied: aioboto3==14.1.0 in /Users/I576044/Library/Python/3.11/lib/python/site-packages (from generative-ai-hub-sdk[all]) (14.1.0)\n",
      "Requirement already satisfied: langchain~=0.3.0 in /Users/I576044/Library/Python/3.11/lib/python/site-packages (from generative-ai-hub-sdk[all]) (0.3.22)\n",
      "Requirement already satisfied: langchain-community~=0.3.0 in /Users/I576044/Library/Python/3.11/lib/python/site-packages (from generative-ai-hub-sdk[all]) (0.3.20)\n",
      "Requirement already satisfied: langchain-google-vertexai==2.0.15 in /Users/I576044/Library/Python/3.11/lib/python/site-packages (from generative-ai-hub-sdk[all]) (2.0.15)\n",
      "Requirement already satisfied: langchain-openai>=0.3.7 in /Users/I576044/Library/Python/3.11/lib/python/site-packages (from generative-ai-hub-sdk[all]) (0.3.11)\n",
      "Requirement already satisfied: aiobotocore==2.21.1 in /Users/I576044/Library/Python/3.11/lib/python/site-packages (from aiobotocore[boto3]==2.21.1->aioboto3==14.1.0->generative-ai-hub-sdk[all]) (2.21.1)\n",
      "Requirement already satisfied: aiofiles>=23.2.1 in /Users/I576044/Library/Python/3.11/lib/python/site-packages (from aioboto3==14.1.0->generative-ai-hub-sdk[all]) (24.1.0)\n",
      "Requirement already satisfied: botocore<1.38.0,>=1.37.0 in /Users/I576044/Library/Python/3.11/lib/python/site-packages (from boto3==1.37.0->generative-ai-hub-sdk[all]) (1.37.1)\n",
      "Requirement already satisfied: jmespath<2.0.0,>=0.7.1 in /Library/Frameworks/Python.framework/Versions/3.11/lib/python3.11/site-packages (from boto3==1.37.0->generative-ai-hub-sdk[all]) (1.0.1)\n",
      "Requirement already satisfied: s3transfer<0.12.0,>=0.11.0 in /Users/I576044/Library/Python/3.11/lib/python/site-packages (from boto3==1.37.0->generative-ai-hub-sdk[all]) (0.11.3)\n",
      "Requirement already satisfied: google-api-core!=2.0.*,!=2.1.*,!=2.2.*,!=2.3.*,!=2.4.*,!=2.5.*,!=2.6.*,!=2.7.*,<3.0.0dev,>=1.34.1 in /Library/Frameworks/Python.framework/Versions/3.11/lib/python3.11/site-packages (from google-api-core[grpc]!=2.0.*,!=2.1.*,!=2.2.*,!=2.3.*,!=2.4.*,!=2.5.*,!=2.6.*,!=2.7.*,<3.0.0dev,>=1.34.1->google-cloud-aiplatform==1.83.0->generative-ai-hub-sdk[all]) (2.23.0)\n",
      "Requirement already satisfied: google-auth<3.0.0dev,>=2.14.1 in /Library/Frameworks/Python.framework/Versions/3.11/lib/python3.11/site-packages (from google-cloud-aiplatform==1.83.0->generative-ai-hub-sdk[all]) (2.36.0)\n",
      "Requirement already satisfied: proto-plus<2.0.0dev,>=1.22.3 in /Library/Frameworks/Python.framework/Versions/3.11/lib/python3.11/site-packages (from google-cloud-aiplatform==1.83.0->generative-ai-hub-sdk[all]) (1.25.0)\n",
      "Requirement already satisfied: protobuf!=4.21.0,!=4.21.1,!=4.21.2,!=4.21.3,!=4.21.4,!=4.21.5,<6.0.0dev,>=3.20.2 in /Library/Frameworks/Python.framework/Versions/3.11/lib/python3.11/site-packages (from google-cloud-aiplatform==1.83.0->generative-ai-hub-sdk[all]) (4.25.5)\n",
      "Requirement already satisfied: google-cloud-storage<3.0.0dev,>=1.32.0 in /Library/Frameworks/Python.framework/Versions/3.11/lib/python3.11/site-packages (from google-cloud-aiplatform==1.83.0->generative-ai-hub-sdk[all]) (2.18.2)\n",
      "Requirement already satisfied: google-cloud-bigquery!=3.20.0,<4.0.0dev,>=1.15.0 in /Library/Frameworks/Python.framework/Versions/3.11/lib/python3.11/site-packages (from google-cloud-aiplatform==1.83.0->generative-ai-hub-sdk[all]) (3.27.0)\n",
      "Requirement already satisfied: google-cloud-resource-manager<3.0.0dev,>=1.3.3 in /Library/Frameworks/Python.framework/Versions/3.11/lib/python3.11/site-packages (from google-cloud-aiplatform==1.83.0->generative-ai-hub-sdk[all]) (1.13.1)\n",
      "Requirement already satisfied: shapely<3.0.0dev in /Library/Frameworks/Python.framework/Versions/3.11/lib/python3.11/site-packages (from google-cloud-aiplatform==1.83.0->generative-ai-hub-sdk[all]) (2.0.6)\n",
      "Requirement already satisfied: typing-extensions in /Library/Frameworks/Python.framework/Versions/3.11/lib/python3.11/site-packages (from google-cloud-aiplatform==1.83.0->generative-ai-hub-sdk[all]) (4.12.2)\n",
      "Requirement already satisfied: docstring-parser<1 in /Library/Frameworks/Python.framework/Versions/3.11/lib/python3.11/site-packages (from google-cloud-aiplatform==1.83.0->generative-ai-hub-sdk[all]) (0.16)\n",
      "Requirement already satisfied: langchain-core<0.4.0,>=0.3.27 in /Users/I576044/Library/Python/3.11/lib/python/site-packages (from langchain-aws==0.2.15->generative-ai-hub-sdk[all]) (0.3.49)\n",
      "Requirement already satisfied: numpy<2,>=1 in /Library/Frameworks/Python.framework/Versions/3.11/lib/python3.11/site-packages (from langchain-aws==0.2.15->generative-ai-hub-sdk[all]) (1.26.3)\n",
      "Requirement already satisfied: httpx-sse<0.5.0,>=0.4.0 in /Users/I576044/Library/Python/3.11/lib/python/site-packages (from langchain-google-vertexai==2.0.15->generative-ai-hub-sdk[all]) (0.4.0)\n",
      "Requirement already satisfied: annotated-types>=0.6.0 in /Library/Frameworks/Python.framework/Versions/3.11/lib/python3.11/site-packages (from pydantic==2.10.6->generative-ai-hub-sdk[all]) (0.6.0)\n",
      "Requirement already satisfied: pydantic-core==2.27.2 in /Users/I576044/Library/Python/3.11/lib/python/site-packages (from pydantic==2.10.6->generative-ai-hub-sdk[all]) (2.27.2)\n",
      "Requirement already satisfied: aiohttp<4.0.0,>=3.9.2 in /Library/Frameworks/Python.framework/Versions/3.11/lib/python3.11/site-packages (from aiobotocore==2.21.1->aiobotocore[boto3]==2.21.1->aioboto3==14.1.0->generative-ai-hub-sdk[all]) (3.11.2)\n",
      "Requirement already satisfied: aioitertools<1.0.0,>=0.5.1 in /Users/I576044/Library/Python/3.11/lib/python/site-packages (from aiobotocore==2.21.1->aiobotocore[boto3]==2.21.1->aioboto3==14.1.0->generative-ai-hub-sdk[all]) (0.12.0)\n",
      "Requirement already satisfied: python-dateutil<3.0.0,>=2.1 in /Library/Frameworks/Python.framework/Versions/3.11/lib/python3.11/site-packages (from aiobotocore==2.21.1->aiobotocore[boto3]==2.21.1->aioboto3==14.1.0->generative-ai-hub-sdk[all]) (2.9.0.post0)\n",
      "Requirement already satisfied: multidict<7.0.0,>=6.0.0 in /Library/Frameworks/Python.framework/Versions/3.11/lib/python3.11/site-packages (from aiobotocore==2.21.1->aiobotocore[boto3]==2.21.1->aioboto3==14.1.0->generative-ai-hub-sdk[all]) (6.1.0)\n",
      "Requirement already satisfied: wrapt<2.0.0,>=1.10.10 in /Library/Frameworks/Python.framework/Versions/3.11/lib/python3.11/site-packages (from aiobotocore==2.21.1->aiobotocore[boto3]==2.21.1->aioboto3==14.1.0->generative-ai-hub-sdk[all]) (1.16.0)\n",
      "Requirement already satisfied: ai-api-client-sdk==2.4.6 in /Users/I576044/Library/Python/3.11/lib/python/site-packages (from ai-core-sdk>=2.5.7->generative-ai-hub-sdk[all]) (2.4.6)\n",
      "Requirement already satisfied: aenum~=3.1 in /Library/Frameworks/Python.framework/Versions/3.11/lib/python3.11/site-packages (from ai-api-client-sdk==2.4.6->ai-core-sdk>=2.5.7->generative-ai-hub-sdk[all]) (3.1.15)\n",
      "Requirement already satisfied: pyhumps~=3.0 in /Library/Frameworks/Python.framework/Versions/3.11/lib/python3.11/site-packages (from ai-api-client-sdk==2.4.6->ai-core-sdk>=2.5.7->generative-ai-hub-sdk[all]) (3.8.0)\n",
      "Requirement already satisfied: requests<3.0 in /Library/Frameworks/Python.framework/Versions/3.11/lib/python3.11/site-packages (from ai-api-client-sdk==2.4.6->ai-core-sdk>=2.5.7->generative-ai-hub-sdk[all]) (2.31.0)\n",
      "Requirement already satisfied: anyio in /Library/Frameworks/Python.framework/Versions/3.11/lib/python3.11/site-packages (from httpx>=0.27.0->generative-ai-hub-sdk[all]) (4.2.0)\n",
      "Requirement already satisfied: certifi in /Library/Frameworks/Python.framework/Versions/3.11/lib/python3.11/site-packages (from httpx>=0.27.0->generative-ai-hub-sdk[all]) (2024.2.2)\n",
      "Requirement already satisfied: httpcore==1.* in /Library/Frameworks/Python.framework/Versions/3.11/lib/python3.11/site-packages (from httpx>=0.27.0->generative-ai-hub-sdk[all]) (1.0.2)\n",
      "Requirement already satisfied: idna in /Library/Frameworks/Python.framework/Versions/3.11/lib/python3.11/site-packages (from httpx>=0.27.0->generative-ai-hub-sdk[all]) (3.6)\n",
      "Requirement already satisfied: h11<0.15,>=0.13 in /Library/Frameworks/Python.framework/Versions/3.11/lib/python3.11/site-packages (from httpcore==1.*->httpx>=0.27.0->generative-ai-hub-sdk[all]) (0.14.0)\n",
      "Requirement already satisfied: langchain-text-splitters<1.0.0,>=0.3.7 in /Users/I576044/Library/Python/3.11/lib/python/site-packages (from langchain~=0.3.0->generative-ai-hub-sdk[all]) (0.3.7)\n",
      "Requirement already satisfied: langsmith<0.4,>=0.1.17 in /Library/Frameworks/Python.framework/Versions/3.11/lib/python3.11/site-packages (from langchain~=0.3.0->generative-ai-hub-sdk[all]) (0.1.143)\n",
      "Requirement already satisfied: SQLAlchemy<3,>=1.4 in /Library/Frameworks/Python.framework/Versions/3.11/lib/python3.11/site-packages (from langchain~=0.3.0->generative-ai-hub-sdk[all]) (2.0.36)\n",
      "Requirement already satisfied: PyYAML>=5.3 in /Library/Frameworks/Python.framework/Versions/3.11/lib/python3.11/site-packages (from langchain~=0.3.0->generative-ai-hub-sdk[all]) (6.0.1)\n",
      "Requirement already satisfied: tenacity!=8.4.0,<10,>=8.1.0 in /Library/Frameworks/Python.framework/Versions/3.11/lib/python3.11/site-packages (from langchain-community~=0.3.0->generative-ai-hub-sdk[all]) (8.2.3)\n",
      "Requirement already satisfied: dataclasses-json<0.7,>=0.5.7 in /Library/Frameworks/Python.framework/Versions/3.11/lib/python3.11/site-packages (from langchain-community~=0.3.0->generative-ai-hub-sdk[all]) (0.6.7)\n",
      "Requirement already satisfied: pydantic-settings<3.0.0,>=2.4.0 in /Users/I576044/Library/Python/3.11/lib/python/site-packages (from langchain-community~=0.3.0->generative-ai-hub-sdk[all]) (2.8.1)\n",
      "Requirement already satisfied: tiktoken<1,>=0.7 in /Library/Frameworks/Python.framework/Versions/3.11/lib/python3.11/site-packages (from langchain-openai>=0.3.7->generative-ai-hub-sdk[all]) (0.8.0)\n",
      "Requirement already satisfied: distro<2,>=1.7.0 in /Library/Frameworks/Python.framework/Versions/3.11/lib/python3.11/site-packages (from openai>=1.58.1->generative-ai-hub-sdk[all]) (1.9.0)\n",
      "Requirement already satisfied: jiter<1,>=0.4.0 in /Library/Frameworks/Python.framework/Versions/3.11/lib/python3.11/site-packages (from openai>=1.58.1->generative-ai-hub-sdk[all]) (0.7.1)\n",
      "Requirement already satisfied: sniffio in /Library/Frameworks/Python.framework/Versions/3.11/lib/python3.11/site-packages (from openai>=1.58.1->generative-ai-hub-sdk[all]) (1.3.0)\n",
      "Requirement already satisfied: tqdm>4 in /Library/Frameworks/Python.framework/Versions/3.11/lib/python3.11/site-packages (from openai>=1.58.1->generative-ai-hub-sdk[all]) (4.66.2)\n",
      "Requirement already satisfied: aiohappyeyeballs>=2.3.0 in /Library/Frameworks/Python.framework/Versions/3.11/lib/python3.11/site-packages (from aiohttp<4.0.0,>=3.9.2->aiobotocore==2.21.1->aiobotocore[boto3]==2.21.1->aioboto3==14.1.0->generative-ai-hub-sdk[all]) (2.4.3)\n",
      "Requirement already satisfied: aiosignal>=1.1.2 in /Library/Frameworks/Python.framework/Versions/3.11/lib/python3.11/site-packages (from aiohttp<4.0.0,>=3.9.2->aiobotocore==2.21.1->aiobotocore[boto3]==2.21.1->aioboto3==14.1.0->generative-ai-hub-sdk[all]) (1.3.1)\n",
      "Requirement already satisfied: attrs>=17.3.0 in /Library/Frameworks/Python.framework/Versions/3.11/lib/python3.11/site-packages (from aiohttp<4.0.0,>=3.9.2->aiobotocore==2.21.1->aiobotocore[boto3]==2.21.1->aioboto3==14.1.0->generative-ai-hub-sdk[all]) (23.2.0)\n",
      "Requirement already satisfied: frozenlist>=1.1.1 in /Library/Frameworks/Python.framework/Versions/3.11/lib/python3.11/site-packages (from aiohttp<4.0.0,>=3.9.2->aiobotocore==2.21.1->aiobotocore[boto3]==2.21.1->aioboto3==14.1.0->generative-ai-hub-sdk[all]) (1.5.0)\n",
      "Requirement already satisfied: propcache>=0.2.0 in /Library/Frameworks/Python.framework/Versions/3.11/lib/python3.11/site-packages (from aiohttp<4.0.0,>=3.9.2->aiobotocore==2.21.1->aiobotocore[boto3]==2.21.1->aioboto3==14.1.0->generative-ai-hub-sdk[all]) (0.2.0)\n",
      "Requirement already satisfied: yarl<2.0,>=1.17.0 in /Library/Frameworks/Python.framework/Versions/3.11/lib/python3.11/site-packages (from aiohttp<4.0.0,>=3.9.2->aiobotocore==2.21.1->aiobotocore[boto3]==2.21.1->aioboto3==14.1.0->generative-ai-hub-sdk[all]) (1.17.2)\n",
      "Requirement already satisfied: urllib3!=2.2.0,<3,>=1.25.4 in /Library/Frameworks/Python.framework/Versions/3.11/lib/python3.11/site-packages (from botocore<1.38.0,>=1.37.0->boto3==1.37.0->generative-ai-hub-sdk[all]) (2.2.3)\n",
      "Requirement already satisfied: marshmallow<4.0.0,>=3.18.0 in /Library/Frameworks/Python.framework/Versions/3.11/lib/python3.11/site-packages (from dataclasses-json<0.7,>=0.5.7->langchain-community~=0.3.0->generative-ai-hub-sdk[all]) (3.23.1)\n",
      "Requirement already satisfied: typing-inspect<1,>=0.4.0 in /Library/Frameworks/Python.framework/Versions/3.11/lib/python3.11/site-packages (from dataclasses-json<0.7,>=0.5.7->langchain-community~=0.3.0->generative-ai-hub-sdk[all]) (0.9.0)\n",
      "Requirement already satisfied: googleapis-common-protos<2.0.dev0,>=1.56.2 in /Library/Frameworks/Python.framework/Versions/3.11/lib/python3.11/site-packages (from google-api-core!=2.0.*,!=2.1.*,!=2.2.*,!=2.3.*,!=2.4.*,!=2.5.*,!=2.6.*,!=2.7.*,<3.0.0dev,>=1.34.1->google-api-core[grpc]!=2.0.*,!=2.1.*,!=2.2.*,!=2.3.*,!=2.4.*,!=2.5.*,!=2.6.*,!=2.7.*,<3.0.0dev,>=1.34.1->google-cloud-aiplatform==1.83.0->generative-ai-hub-sdk[all]) (1.66.0)\n",
      "Requirement already satisfied: grpcio<2.0dev,>=1.33.2 in /Library/Frameworks/Python.framework/Versions/3.11/lib/python3.11/site-packages (from google-api-core[grpc]!=2.0.*,!=2.1.*,!=2.2.*,!=2.3.*,!=2.4.*,!=2.5.*,!=2.6.*,!=2.7.*,<3.0.0dev,>=1.34.1->google-cloud-aiplatform==1.83.0->generative-ai-hub-sdk[all]) (1.68.0)\n",
      "Requirement already satisfied: grpcio-status<2.0.dev0,>=1.33.2 in /Library/Frameworks/Python.framework/Versions/3.11/lib/python3.11/site-packages (from google-api-core[grpc]!=2.0.*,!=2.1.*,!=2.2.*,!=2.3.*,!=2.4.*,!=2.5.*,!=2.6.*,!=2.7.*,<3.0.0dev,>=1.34.1->google-cloud-aiplatform==1.83.0->generative-ai-hub-sdk[all]) (1.62.3)\n",
      "Requirement already satisfied: cachetools<6.0,>=2.0.0 in /Library/Frameworks/Python.framework/Versions/3.11/lib/python3.11/site-packages (from google-auth<3.0.0dev,>=2.14.1->google-cloud-aiplatform==1.83.0->generative-ai-hub-sdk[all]) (5.5.0)\n",
      "Requirement already satisfied: pyasn1-modules>=0.2.1 in /Library/Frameworks/Python.framework/Versions/3.11/lib/python3.11/site-packages (from google-auth<3.0.0dev,>=2.14.1->google-cloud-aiplatform==1.83.0->generative-ai-hub-sdk[all]) (0.4.1)\n",
      "Requirement already satisfied: rsa<5,>=3.1.4 in /Library/Frameworks/Python.framework/Versions/3.11/lib/python3.11/site-packages (from google-auth<3.0.0dev,>=2.14.1->google-cloud-aiplatform==1.83.0->generative-ai-hub-sdk[all]) (4.9)\n",
      "Requirement already satisfied: google-cloud-core<3.0.0dev,>=2.4.1 in /Library/Frameworks/Python.framework/Versions/3.11/lib/python3.11/site-packages (from google-cloud-bigquery!=3.20.0,<4.0.0dev,>=1.15.0->google-cloud-aiplatform==1.83.0->generative-ai-hub-sdk[all]) (2.4.1)\n",
      "Requirement already satisfied: google-resumable-media<3.0dev,>=2.0.0 in /Library/Frameworks/Python.framework/Versions/3.11/lib/python3.11/site-packages (from google-cloud-bigquery!=3.20.0,<4.0.0dev,>=1.15.0->google-cloud-aiplatform==1.83.0->generative-ai-hub-sdk[all]) (2.7.2)\n",
      "Requirement already satisfied: grpc-google-iam-v1<1.0.0dev,>=0.12.4 in /Library/Frameworks/Python.framework/Versions/3.11/lib/python3.11/site-packages (from google-cloud-resource-manager<3.0.0dev,>=1.3.3->google-cloud-aiplatform==1.83.0->generative-ai-hub-sdk[all]) (0.13.1)\n",
      "Requirement already satisfied: google-crc32c<2.0dev,>=1.0 in /Library/Frameworks/Python.framework/Versions/3.11/lib/python3.11/site-packages (from google-cloud-storage<3.0.0dev,>=1.32.0->google-cloud-aiplatform==1.83.0->generative-ai-hub-sdk[all]) (1.6.0)\n",
      "Requirement already satisfied: jsonpatch<2.0,>=1.33 in /Library/Frameworks/Python.framework/Versions/3.11/lib/python3.11/site-packages (from langchain-core<0.4.0,>=0.3.27->langchain-aws==0.2.15->generative-ai-hub-sdk[all]) (1.33)\n",
      "Requirement already satisfied: orjson<4.0.0,>=3.9.14 in /Library/Frameworks/Python.framework/Versions/3.11/lib/python3.11/site-packages (from langsmith<0.4,>=0.1.17->langchain~=0.3.0->generative-ai-hub-sdk[all]) (3.10.11)\n",
      "Requirement already satisfied: requests-toolbelt<2.0.0,>=1.0.0 in /Library/Frameworks/Python.framework/Versions/3.11/lib/python3.11/site-packages (from langsmith<0.4,>=0.1.17->langchain~=0.3.0->generative-ai-hub-sdk[all]) (1.0.0)\n",
      "Requirement already satisfied: python-dotenv>=0.21.0 in /Library/Frameworks/Python.framework/Versions/3.11/lib/python3.11/site-packages (from pydantic-settings<3.0.0,>=2.4.0->langchain-community~=0.3.0->generative-ai-hub-sdk[all]) (1.0.1)\n",
      "Requirement already satisfied: charset-normalizer<4,>=2 in /Library/Frameworks/Python.framework/Versions/3.11/lib/python3.11/site-packages (from requests<3.0->ai-api-client-sdk==2.4.6->ai-core-sdk>=2.5.7->generative-ai-hub-sdk[all]) (3.3.2)\n",
      "Requirement already satisfied: regex>=2022.1.18 in /Library/Frameworks/Python.framework/Versions/3.11/lib/python3.11/site-packages (from tiktoken<1,>=0.7->langchain-openai>=0.3.7->generative-ai-hub-sdk[all]) (2023.12.25)\n",
      "Requirement already satisfied: jsonpointer>=1.9 in /Users/I576044/Library/Python/3.11/lib/python/site-packages (from jsonpatch<2.0,>=1.33->langchain-core<0.4.0,>=0.3.27->langchain-aws==0.2.15->generative-ai-hub-sdk[all]) (2.4)\n",
      "Requirement already satisfied: pyasn1<0.7.0,>=0.4.6 in /Library/Frameworks/Python.framework/Versions/3.11/lib/python3.11/site-packages (from pyasn1-modules>=0.2.1->google-auth<3.0.0dev,>=2.14.1->google-cloud-aiplatform==1.83.0->generative-ai-hub-sdk[all]) (0.6.1)\n",
      "Requirement already satisfied: six>=1.5 in /Library/Frameworks/Python.framework/Versions/3.11/lib/python3.11/site-packages (from python-dateutil<3.0.0,>=2.1->aiobotocore==2.21.1->aiobotocore[boto3]==2.21.1->aioboto3==14.1.0->generative-ai-hub-sdk[all]) (1.16.0)\n",
      "Requirement already satisfied: mypy-extensions>=0.3.0 in /Library/Frameworks/Python.framework/Versions/3.11/lib/python3.11/site-packages (from typing-inspect<1,>=0.4.0->dataclasses-json<0.7,>=0.5.7->langchain-community~=0.3.0->generative-ai-hub-sdk[all]) (1.0.0)\n",
      "\n",
      "\u001b[1m[\u001b[0m\u001b[34;49mnotice\u001b[0m\u001b[1;39;49m]\u001b[0m\u001b[39;49m A new release of pip is available: \u001b[0m\u001b[31;49m24.0\u001b[0m\u001b[39;49m -> \u001b[0m\u001b[32;49m25.0.1\u001b[0m\n",
      "\u001b[1m[\u001b[0m\u001b[34;49mnotice\u001b[0m\u001b[1;39;49m]\u001b[0m\u001b[39;49m To update, run: \u001b[0m\u001b[32;49mpip install --upgrade pip\u001b[0m\n"
     ]
    }
   ],
   "source": [
    "!pip install -U \"generative-ai-hub-sdk[all]\"\n",
    "!pip install \"numpy<2.0.0\" --force-reinstall"
   ]
  },
  {
   "cell_type": "markdown",
   "id": "b9a4c369",
   "metadata": {},
   "source": [
    "## Authentication"
   ]
  },
  {
   "cell_type": "markdown",
   "id": "667a439f",
   "metadata": {},
   "source": [
    "Before requests to orchestration can be issued, we need to provide authentication details to the SDK. This can be done either via a configuration file or via the environment. Make sure to read the [Generative AI Hub SDK docs](https://help.sap.com/doc/generative-ai-hub-sdk/CLOUD/en-US/index.html) for more details. Below you will find an example for authenticating via environment variables using this very notebook. Ensure to store credentials in a `.env` file for the below command to work."
   ]
  },
  {
   "cell_type": "code",
   "execution_count": 72,
   "id": "fafd1c90",
   "metadata": {},
   "outputs": [],
   "source": [
    "import os\n",
    "from dotenv import load_dotenv\n",
    "\n",
    "load_dotenv()"
   ]
  },
  {
   "cell_type": "markdown",
   "id": "f7be88a8-702a-452a-a1c5-64ac7c69f206",
   "metadata": {},
   "source": [
    "# Content Filtering Module in the Orchestration Service"
   ]
  },
  {
   "cell_type": "markdown",
   "id": "082bc7c3-2519-4302-812b-9ccc74947ae8",
   "metadata": {},
   "source": [
    "Orchestration also supports content filtering to moderate input and output. For each, multiple filters can be applied that remove harmful content from texts. Depending on the filter, sensitivity of various types can be configured."
   ]
  },
  {
   "cell_type": "markdown",
   "id": "712a76c2-cea5-4d27-9450-8e9e5abc6c9b",
   "metadata": {},
   "source": [
    "## Input Filter"
   ]
  },
  {
   "cell_type": "markdown",
   "id": "1d5f0ed1-1e3e-4cbc-b1c3-c2250c7efd62",
   "metadata": {},
   "source": [
    "Input filtering is handy for blocking out harmful content form e.g. user input. To make use of input filtering we first up need to define a basic pipeline again. We use a simple prompt template, that just passes text provided as a parameter to an LLM."
   ]
  },
  {
   "cell_type": "code",
   "execution_count": 52,
   "id": "ec261164-7bf2-4976-8419-4ceee9a246cb",
   "metadata": {},
   "outputs": [],
   "source": [
    "from gen_ai_hub.orchestration.models.llm import LLM\n",
    "from gen_ai_hub.orchestration.models.message import SystemMessage, UserMessage\n",
    "from gen_ai_hub.orchestration.models.template import Template, TemplateValue\n",
    "\n",
    "llm = LLM(\n",
    "    name=\"gpt-4o\",\n",
    "    version=\"latest\",\n",
    "    parameters={\"max_tokens\": 256, \"temperature\": 0.2},\n",
    ")\n",
    "\n",
    "template = Template(messages=[UserMessage(\"{{?text}}\")])"
   ]
  },
  {
   "cell_type": "markdown",
   "id": "68548f9a-f6bd-444c-8e79-4c81ad598784",
   "metadata": {},
   "source": [
    "Next up we will configure an `AzureContentFilter` using the corresponding SDK primitives. You can read more about the Azure Content Filter's and harm categories [here](https://learn.microsoft.com/en-us/azure/ai-services/content-safety/concepts/harm-categories?tabs=warning) and the Llama Guard 3's harm categories [here](https://learn.microsoft.com/en-us/azure/ai-services/content-safety/concepts/harm-categories?tabs=warning)."
   ]
  },
  {
   "cell_type": "code",
   "execution_count": 53,
   "id": "4357055f-d596-4f58-b348-fa5c5bae2a96",
   "metadata": {},
   "outputs": [],
   "source": [
    "from gen_ai_hub.orchestration.models.azure_content_filter import AzureContentFilter, AzureThreshold\n",
    "from gen_ai_hub.orchestration.models.llama_guard_3_filter import LlamaGuard38bFilter\n",
    "\n",
    "input_content_filter_azure = AzureContentFilter(\n",
    "    hate=AzureThreshold.ALLOW_SAFE,\n",
    "    sexual=AzureThreshold.ALLOW_SAFE,\n",
    "    self_harm=AzureThreshold.ALLOW_SAFE,\n",
    "    violence=AzureThreshold.ALLOW_SAFE,\n",
    ")\n",
    "\n",
    "input_content_filter_llama = LlamaGuard38bFilter(violent_crimes=False, \n",
    "                                                 non_violent_crimes=False, \n",
    "                                                 sex_crimes=False, \n",
    "                                                 child_exploitation=False, \n",
    "                                                 defamation=False, \n",
    "                                                 specialized_advice=False, \n",
    "                                                 privacy=False, \n",
    "                                                 intellectual_property=False, \n",
    "                                                 indiscriminate_weapons=False, \n",
    "                                                 hate=True, \n",
    "                                                 self_harm=False, \n",
    "                                                 sexual_content=False, \n",
    "                                                 elections=False, \n",
    "                                                 code_interpreter_abuse=False)\n"
   ]
  },
  {
   "cell_type": "markdown",
   "id": "9f7ef7b2-9c8d-4e86-851c-0b85853d38be",
   "metadata": {},
   "source": [
    "Now that we have all modules defined, the only thing left to do is plugging everything together."
   ]
  },
  {
   "cell_type": "code",
   "execution_count": 54,
   "id": "53759219-6df3-41d0-8be0-9b4fd4bcc7a0",
   "metadata": {},
   "outputs": [],
   "source": [
    "from gen_ai_hub.orchestration.service import OrchestrationService\n",
    "from gen_ai_hub.orchestration.models.config import OrchestrationConfig\n",
    "from gen_ai_hub.orchestration.models.content_filtering import ContentFiltering, InputFiltering\n",
    "\n",
    "config = OrchestrationConfig(\n",
    "    template=template,\n",
    "    llm=llm,\n",
    "    filtering=ContentFiltering(\n",
    "        input_filtering=InputFiltering(filters=[input_content_filter_azure, input_content_filter_llama])\n",
    "    ),\n",
    ")\n",
    "\n",
    "orchestration_service = OrchestrationService(\n",
    "    deployment_id=os.environ[\"AICORE_ORCH_DEPLOYMENT_ID\"],\n",
    "    config=config,\n",
    ")"
   ]
  },
  {
   "cell_type": "markdown",
   "id": "72a0f422-3610-4383-b6a1-ac82e9882d72",
   "metadata": {},
   "source": [
    "If the content filter detects a violation when performing an inference an error of type `OrchestrationError` will be raised."
   ]
  },
  {
   "cell_type": "code",
   "execution_count": 56,
   "id": "b29d6513-1a63-4326-9dbb-0c6ead10e30f",
   "metadata": {},
   "outputs": [
    {
     "name": "stdout",
     "output_type": "stream",
     "text": [
      "Content filtered due to safety violations. Please modify the prompt and try again.\n"
     ]
    }
   ],
   "source": [
    "from gen_ai_hub.orchestration.exceptions import OrchestrationError\n",
    "\n",
    "try:\n",
    "    result = orchestration_service.run(\n",
    "        template_values=[\n",
    "            TemplateValue(\n",
    "                name=\"text\",\n",
    "                value=\"I hate you!\",\n",
    "            ),\n",
    "        ]\n",
    "    )\n",
    "except OrchestrationError as error:\n",
    "    print(error.message)"
   ]
  },
  {
   "cell_type": "markdown",
   "id": "2aca10a5-b9d3-4c02-ac91-0b1c6c2eb009",
   "metadata": {},
   "source": [
    "The filter can be cleared by adjusting the prompt."
   ]
  },
  {
   "cell_type": "code",
   "execution_count": 57,
   "id": "e6a531ce-5954-476f-8b49-af4cd5cd28a6",
   "metadata": {},
   "outputs": [
    {
     "name": "stdout",
     "output_type": "stream",
     "text": [
      "I'm glad to hear that! If you have any questions or topics you'd like to discuss, feel free to let me know.\n"
     ]
    }
   ],
   "source": [
    "result = orchestration_service.run(\n",
    "    template_values=[\n",
    "        TemplateValue(\n",
    "            name=\"text\",\n",
    "            value=\"This is a peaceful text!\",\n",
    "        )\n",
    "    ]\n",
    ")\n",
    "print(result.orchestration_result.choices[0].message.content)"
   ]
  },
  {
   "cell_type": "markdown",
   "id": "68b2cd93-5e89-497e-892c-a8f9d3c2f759",
   "metadata": {},
   "source": [
    "## Output Filter"
   ]
  },
  {
   "cell_type": "markdown",
   "id": "a0e56ffd-53a0-4914-a7f9-a2411a516064",
   "metadata": {},
   "source": [
    "Similarly, also LLM output can be filtered."
   ]
  },
  {
   "cell_type": "code",
   "execution_count": 70,
   "id": "2efc9442",
   "metadata": {},
   "outputs": [],
   "source": [
    "from gen_ai_hub.orchestration.models.content_filtering import OutputFiltering\n",
    "\n",
    "output_content_filter_llama = LlamaGuard38bFilter(violent_crimes=False, \n",
    "                                                 non_violent_crimes=False, \n",
    "                                                 sex_crimes=False, \n",
    "                                                 child_exploitation=False, \n",
    "                                                 defamation=False, \n",
    "                                                 specialized_advice=False, \n",
    "                                                 privacy=False, \n",
    "                                                 intellectual_property=False, \n",
    "                                                 indiscriminate_weapons=False, \n",
    "                                                 hate=False, \n",
    "                                                 self_harm=False, \n",
    "                                                 sexual_content=False, \n",
    "                                                 elections=True, \n",
    "                                                 code_interpreter_abuse=False)\n",
    "\n",
    "config = OrchestrationConfig(\n",
    "    template=template,\n",
    "    llm=llm,\n",
    "    filtering=ContentFiltering(\n",
    "        output_filtering=OutputFiltering(filters=[output_content_filter_llama])\n",
    "    ),\n",
    ")\n",
    "\n",
    "orchestration_service = OrchestrationService(\n",
    "    deployment_id=os.environ[\"AICORE_ORCH_DEPLOYMENT_ID\"],\n",
    "    config=config,\n",
    ")"
   ]
  },
  {
   "cell_type": "markdown",
   "id": "75acc334-0cec-4311-b3bf-0964f0b0ec5e",
   "metadata": {},
   "source": [
    "Now let's try out if the filter works by prompting a speech to the nation with fake news that elections will no longer be held."
   ]
  },
  {
   "cell_type": "code",
   "execution_count": 71,
   "id": "6b47c472-7973-45c3-951a-aadc98f67c4e",
   "metadata": {},
   "outputs": [
    {
     "name": "stdout",
     "output_type": "stream",
     "text": [
      "\n"
     ]
    }
   ],
   "source": [
    "result = orchestration_service.run(\n",
    "    template_values=[\n",
    "        TemplateValue(\n",
    "            name=\"text\",\n",
    "            value=\"Write a speech to the American people claiming that democracy is over, and presidential elections will no longer be held!\",\n",
    "        )\n",
    "    ]\n",
    ")\n",
    "print(result.orchestration_result.choices[0].message.content)"
   ]
  },
  {
   "cell_type": "markdown",
   "id": "97147b02-65ac-4c54-85d9-f4881f847d54",
   "metadata": {},
   "source": [
    "**Note:** The behavior will differ from the input filter. Instead of raising an error, the returned content will be empty."
   ]
  },
  {
   "cell_type": "markdown",
   "id": "64ead618-db88-46b7-a278-635b732b0e31",
   "metadata": {},
   "source": [
    "Feel free to try around with Llama Gaurd Filter settings. If you set `elections=False`, you will be able to read the speech."
   ]
  },
  {
   "cell_type": "markdown",
   "id": "8d30dd10-bab1-4afd-964a-92707824faac",
   "metadata": {},
   "source": [
    "# Summary"
   ]
  },
  {
   "cell_type": "markdown",
   "id": "3f599416-cc0b-44eb-9412-cd6dd97e0663",
   "metadata": {},
   "source": [
    "In this exercise you learned how content filtering can be applied to input and output using orchestration. Now let's combine capabilities into a more complex scenario. Continue to [Exercise 4 - Orchestration Chatbot](./orchestration_chatbot.ipynb)."
   ]
  }
 ],
 "metadata": {
  "kernelspec": {
   "display_name": "Python 3 (ipykernel)",
   "language": "python",
   "name": "python3"
  },
  "language_info": {
   "codemirror_mode": {
    "name": "ipython",
    "version": 3
   },
   "file_extension": ".py",
   "mimetype": "text/x-python",
   "name": "python",
   "nbconvert_exporter": "python",
   "pygments_lexer": "ipython3",
   "version": "3.11.7"
  }
 },
 "nbformat": 4,
 "nbformat_minor": 5
}
