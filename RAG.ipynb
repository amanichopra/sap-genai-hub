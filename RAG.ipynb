{
 "cells": [
  {
   "cell_type": "markdown",
   "id": "0e97e030",
   "metadata": {},
   "source": [
    "<a target=\"_blank\" href=\"https://colab.research.google.com/github/amanichopra/sap-genai-hub/blob/main/RAG.ipynb\">\n",
    "  <img src=\"https://colab.research.google.com/assets/colab-badge.svg\" alt=\"Open In Colab\"/>\n",
    "</a>"
   ]
  },
  {
   "cell_type": "markdown",
   "id": "637c87e6-ce3e-418a-811a-58edb1793d1d",
   "metadata": {},
   "source": [
    "# Preparation"
   ]
  },
  {
   "cell_type": "markdown",
   "id": "bd414455",
   "metadata": {},
   "source": [
    "## Install Libraries"
   ]
  },
  {
   "cell_type": "code",
   "execution_count": 35,
   "id": "9d234a63",
   "metadata": {},
   "outputs": [
    {
     "name": "stdout",
     "output_type": "stream",
     "text": [
      "Defaulting to user installation because normal site-packages is not writeable\n",
      "Requirement already satisfied: generative-ai-hub-sdk[all] in /Users/I576044/Library/Python/3.11/lib/python/site-packages (4.10.2)\n",
      "Requirement already satisfied: overloading==0.5.0 in /Library/Frameworks/Python.framework/Versions/3.11/lib/python3.11/site-packages (from generative-ai-hub-sdk[all]) (0.5.0)\n",
      "Requirement already satisfied: packaging>=23.2 in /Users/I576044/Library/Python/3.11/lib/python/site-packages (from generative-ai-hub-sdk[all]) (23.2)\n",
      "Requirement already satisfied: openai>=1.58.1 in /Users/I576044/Library/Python/3.11/lib/python/site-packages (from generative-ai-hub-sdk[all]) (1.70.0)\n",
      "Requirement already satisfied: ai-core-sdk>=2.5.7 in /Users/I576044/Library/Python/3.11/lib/python/site-packages (from generative-ai-hub-sdk[all]) (2.5.7)\n",
      "Requirement already satisfied: dacite>=1.8.1 in /Library/Frameworks/Python.framework/Versions/3.11/lib/python3.11/site-packages (from generative-ai-hub-sdk[all]) (1.8.1)\n",
      "Requirement already satisfied: click>=8.1.7 in /Users/I576044/Library/Python/3.11/lib/python/site-packages (from generative-ai-hub-sdk[all]) (8.1.8)\n",
      "Requirement already satisfied: httpx>=0.27.0 in /Users/I576044/Library/Python/3.11/lib/python/site-packages (from generative-ai-hub-sdk[all]) (0.28.1)\n",
      "Requirement already satisfied: pydantic==2.10.6 in /Users/I576044/Library/Python/3.11/lib/python/site-packages (from generative-ai-hub-sdk[all]) (2.10.6)\n",
      "Requirement already satisfied: boto3==1.37.0 in /Users/I576044/Library/Python/3.11/lib/python/site-packages (from generative-ai-hub-sdk[all]) (1.37.0)\n",
      "Requirement already satisfied: langchain-aws==0.2.15 in /Users/I576044/Library/Python/3.11/lib/python/site-packages (from generative-ai-hub-sdk[all]) (0.2.15)\n",
      "Requirement already satisfied: google-cloud-aiplatform==1.83.0 in /Users/I576044/Library/Python/3.11/lib/python/site-packages (from generative-ai-hub-sdk[all]) (1.83.0)\n",
      "Requirement already satisfied: aioboto3==14.1.0 in /Users/I576044/Library/Python/3.11/lib/python/site-packages (from generative-ai-hub-sdk[all]) (14.1.0)\n",
      "Requirement already satisfied: langchain~=0.3.0 in /Users/I576044/Library/Python/3.11/lib/python/site-packages (from generative-ai-hub-sdk[all]) (0.3.22)\n",
      "Requirement already satisfied: langchain-community~=0.3.0 in /Users/I576044/Library/Python/3.11/lib/python/site-packages (from generative-ai-hub-sdk[all]) (0.3.20)\n",
      "Requirement already satisfied: langchain-google-vertexai==2.0.15 in /Users/I576044/Library/Python/3.11/lib/python/site-packages (from generative-ai-hub-sdk[all]) (2.0.15)\n",
      "Requirement already satisfied: langchain-openai>=0.3.7 in /Users/I576044/Library/Python/3.11/lib/python/site-packages (from generative-ai-hub-sdk[all]) (0.3.11)\n",
      "Requirement already satisfied: aiobotocore==2.21.1 in /Users/I576044/Library/Python/3.11/lib/python/site-packages (from aiobotocore[boto3]==2.21.1->aioboto3==14.1.0->generative-ai-hub-sdk[all]) (2.21.1)\n",
      "Requirement already satisfied: aiofiles>=23.2.1 in /Users/I576044/Library/Python/3.11/lib/python/site-packages (from aioboto3==14.1.0->generative-ai-hub-sdk[all]) (24.1.0)\n",
      "Requirement already satisfied: botocore<1.38.0,>=1.37.0 in /Users/I576044/Library/Python/3.11/lib/python/site-packages (from boto3==1.37.0->generative-ai-hub-sdk[all]) (1.37.1)\n",
      "Requirement already satisfied: jmespath<2.0.0,>=0.7.1 in /Library/Frameworks/Python.framework/Versions/3.11/lib/python3.11/site-packages (from boto3==1.37.0->generative-ai-hub-sdk[all]) (1.0.1)\n",
      "Requirement already satisfied: s3transfer<0.12.0,>=0.11.0 in /Users/I576044/Library/Python/3.11/lib/python/site-packages (from boto3==1.37.0->generative-ai-hub-sdk[all]) (0.11.3)\n",
      "Requirement already satisfied: google-api-core!=2.0.*,!=2.1.*,!=2.2.*,!=2.3.*,!=2.4.*,!=2.5.*,!=2.6.*,!=2.7.*,<3.0.0dev,>=1.34.1 in /Library/Frameworks/Python.framework/Versions/3.11/lib/python3.11/site-packages (from google-api-core[grpc]!=2.0.*,!=2.1.*,!=2.2.*,!=2.3.*,!=2.4.*,!=2.5.*,!=2.6.*,!=2.7.*,<3.0.0dev,>=1.34.1->google-cloud-aiplatform==1.83.0->generative-ai-hub-sdk[all]) (2.23.0)\n",
      "Requirement already satisfied: google-auth<3.0.0dev,>=2.14.1 in /Library/Frameworks/Python.framework/Versions/3.11/lib/python3.11/site-packages (from google-cloud-aiplatform==1.83.0->generative-ai-hub-sdk[all]) (2.36.0)\n",
      "Requirement already satisfied: proto-plus<2.0.0dev,>=1.22.3 in /Library/Frameworks/Python.framework/Versions/3.11/lib/python3.11/site-packages (from google-cloud-aiplatform==1.83.0->generative-ai-hub-sdk[all]) (1.25.0)\n",
      "Requirement already satisfied: protobuf!=4.21.0,!=4.21.1,!=4.21.2,!=4.21.3,!=4.21.4,!=4.21.5,<6.0.0dev,>=3.20.2 in /Library/Frameworks/Python.framework/Versions/3.11/lib/python3.11/site-packages (from google-cloud-aiplatform==1.83.0->generative-ai-hub-sdk[all]) (4.25.5)\n",
      "Requirement already satisfied: google-cloud-storage<3.0.0dev,>=1.32.0 in /Library/Frameworks/Python.framework/Versions/3.11/lib/python3.11/site-packages (from google-cloud-aiplatform==1.83.0->generative-ai-hub-sdk[all]) (2.18.2)\n",
      "Requirement already satisfied: google-cloud-bigquery!=3.20.0,<4.0.0dev,>=1.15.0 in /Library/Frameworks/Python.framework/Versions/3.11/lib/python3.11/site-packages (from google-cloud-aiplatform==1.83.0->generative-ai-hub-sdk[all]) (3.27.0)\n",
      "Requirement already satisfied: google-cloud-resource-manager<3.0.0dev,>=1.3.3 in /Library/Frameworks/Python.framework/Versions/3.11/lib/python3.11/site-packages (from google-cloud-aiplatform==1.83.0->generative-ai-hub-sdk[all]) (1.13.1)\n",
      "Requirement already satisfied: shapely<3.0.0dev in /Library/Frameworks/Python.framework/Versions/3.11/lib/python3.11/site-packages (from google-cloud-aiplatform==1.83.0->generative-ai-hub-sdk[all]) (2.0.6)\n",
      "Requirement already satisfied: typing-extensions in /Library/Frameworks/Python.framework/Versions/3.11/lib/python3.11/site-packages (from google-cloud-aiplatform==1.83.0->generative-ai-hub-sdk[all]) (4.12.2)\n",
      "Requirement already satisfied: docstring-parser<1 in /Library/Frameworks/Python.framework/Versions/3.11/lib/python3.11/site-packages (from google-cloud-aiplatform==1.83.0->generative-ai-hub-sdk[all]) (0.16)\n",
      "Requirement already satisfied: langchain-core<0.4.0,>=0.3.27 in /Users/I576044/Library/Python/3.11/lib/python/site-packages (from langchain-aws==0.2.15->generative-ai-hub-sdk[all]) (0.3.49)\n",
      "Requirement already satisfied: numpy<2,>=1 in /Library/Frameworks/Python.framework/Versions/3.11/lib/python3.11/site-packages (from langchain-aws==0.2.15->generative-ai-hub-sdk[all]) (1.26.3)\n",
      "Requirement already satisfied: httpx-sse<0.5.0,>=0.4.0 in /Users/I576044/Library/Python/3.11/lib/python/site-packages (from langchain-google-vertexai==2.0.15->generative-ai-hub-sdk[all]) (0.4.0)\n",
      "Requirement already satisfied: annotated-types>=0.6.0 in /Library/Frameworks/Python.framework/Versions/3.11/lib/python3.11/site-packages (from pydantic==2.10.6->generative-ai-hub-sdk[all]) (0.6.0)\n",
      "Requirement already satisfied: pydantic-core==2.27.2 in /Users/I576044/Library/Python/3.11/lib/python/site-packages (from pydantic==2.10.6->generative-ai-hub-sdk[all]) (2.27.2)\n",
      "Requirement already satisfied: aiohttp<4.0.0,>=3.9.2 in /Library/Frameworks/Python.framework/Versions/3.11/lib/python3.11/site-packages (from aiobotocore==2.21.1->aiobotocore[boto3]==2.21.1->aioboto3==14.1.0->generative-ai-hub-sdk[all]) (3.11.2)\n",
      "Requirement already satisfied: aioitertools<1.0.0,>=0.5.1 in /Users/I576044/Library/Python/3.11/lib/python/site-packages (from aiobotocore==2.21.1->aiobotocore[boto3]==2.21.1->aioboto3==14.1.0->generative-ai-hub-sdk[all]) (0.12.0)\n",
      "Requirement already satisfied: python-dateutil<3.0.0,>=2.1 in /Library/Frameworks/Python.framework/Versions/3.11/lib/python3.11/site-packages (from aiobotocore==2.21.1->aiobotocore[boto3]==2.21.1->aioboto3==14.1.0->generative-ai-hub-sdk[all]) (2.9.0.post0)\n",
      "Requirement already satisfied: multidict<7.0.0,>=6.0.0 in /Library/Frameworks/Python.framework/Versions/3.11/lib/python3.11/site-packages (from aiobotocore==2.21.1->aiobotocore[boto3]==2.21.1->aioboto3==14.1.0->generative-ai-hub-sdk[all]) (6.1.0)\n",
      "Requirement already satisfied: wrapt<2.0.0,>=1.10.10 in /Library/Frameworks/Python.framework/Versions/3.11/lib/python3.11/site-packages (from aiobotocore==2.21.1->aiobotocore[boto3]==2.21.1->aioboto3==14.1.0->generative-ai-hub-sdk[all]) (1.16.0)\n",
      "Requirement already satisfied: ai-api-client-sdk==2.4.6 in /Users/I576044/Library/Python/3.11/lib/python/site-packages (from ai-core-sdk>=2.5.7->generative-ai-hub-sdk[all]) (2.4.6)\n",
      "Requirement already satisfied: aenum~=3.1 in /Library/Frameworks/Python.framework/Versions/3.11/lib/python3.11/site-packages (from ai-api-client-sdk==2.4.6->ai-core-sdk>=2.5.7->generative-ai-hub-sdk[all]) (3.1.15)\n",
      "Requirement already satisfied: pyhumps~=3.0 in /Library/Frameworks/Python.framework/Versions/3.11/lib/python3.11/site-packages (from ai-api-client-sdk==2.4.6->ai-core-sdk>=2.5.7->generative-ai-hub-sdk[all]) (3.8.0)\n",
      "Requirement already satisfied: requests<3.0 in /Library/Frameworks/Python.framework/Versions/3.11/lib/python3.11/site-packages (from ai-api-client-sdk==2.4.6->ai-core-sdk>=2.5.7->generative-ai-hub-sdk[all]) (2.31.0)\n",
      "Requirement already satisfied: anyio in /Library/Frameworks/Python.framework/Versions/3.11/lib/python3.11/site-packages (from httpx>=0.27.0->generative-ai-hub-sdk[all]) (4.2.0)\n",
      "Requirement already satisfied: certifi in /Library/Frameworks/Python.framework/Versions/3.11/lib/python3.11/site-packages (from httpx>=0.27.0->generative-ai-hub-sdk[all]) (2024.2.2)\n",
      "Requirement already satisfied: httpcore==1.* in /Library/Frameworks/Python.framework/Versions/3.11/lib/python3.11/site-packages (from httpx>=0.27.0->generative-ai-hub-sdk[all]) (1.0.2)\n",
      "Requirement already satisfied: idna in /Library/Frameworks/Python.framework/Versions/3.11/lib/python3.11/site-packages (from httpx>=0.27.0->generative-ai-hub-sdk[all]) (3.6)\n",
      "Requirement already satisfied: h11<0.15,>=0.13 in /Library/Frameworks/Python.framework/Versions/3.11/lib/python3.11/site-packages (from httpcore==1.*->httpx>=0.27.0->generative-ai-hub-sdk[all]) (0.14.0)\n",
      "Requirement already satisfied: langchain-text-splitters<1.0.0,>=0.3.7 in /Users/I576044/Library/Python/3.11/lib/python/site-packages (from langchain~=0.3.0->generative-ai-hub-sdk[all]) (0.3.7)\n",
      "Requirement already satisfied: langsmith<0.4,>=0.1.17 in /Library/Frameworks/Python.framework/Versions/3.11/lib/python3.11/site-packages (from langchain~=0.3.0->generative-ai-hub-sdk[all]) (0.1.143)\n",
      "Requirement already satisfied: SQLAlchemy<3,>=1.4 in /Users/I576044/Library/Python/3.11/lib/python/site-packages (from langchain~=0.3.0->generative-ai-hub-sdk[all]) (2.0.40)\n",
      "Requirement already satisfied: PyYAML>=5.3 in /Library/Frameworks/Python.framework/Versions/3.11/lib/python3.11/site-packages (from langchain~=0.3.0->generative-ai-hub-sdk[all]) (6.0.1)\n",
      "Requirement already satisfied: tenacity!=8.4.0,<10,>=8.1.0 in /Library/Frameworks/Python.framework/Versions/3.11/lib/python3.11/site-packages (from langchain-community~=0.3.0->generative-ai-hub-sdk[all]) (8.2.3)\n",
      "Requirement already satisfied: dataclasses-json<0.7,>=0.5.7 in /Library/Frameworks/Python.framework/Versions/3.11/lib/python3.11/site-packages (from langchain-community~=0.3.0->generative-ai-hub-sdk[all]) (0.6.7)\n",
      "Requirement already satisfied: pydantic-settings<3.0.0,>=2.4.0 in /Users/I576044/Library/Python/3.11/lib/python/site-packages (from langchain-community~=0.3.0->generative-ai-hub-sdk[all]) (2.8.1)\n",
      "Requirement already satisfied: tiktoken<1,>=0.7 in /Library/Frameworks/Python.framework/Versions/3.11/lib/python3.11/site-packages (from langchain-openai>=0.3.7->generative-ai-hub-sdk[all]) (0.8.0)\n",
      "Requirement already satisfied: distro<2,>=1.7.0 in /Library/Frameworks/Python.framework/Versions/3.11/lib/python3.11/site-packages (from openai>=1.58.1->generative-ai-hub-sdk[all]) (1.9.0)\n",
      "Requirement already satisfied: jiter<1,>=0.4.0 in /Library/Frameworks/Python.framework/Versions/3.11/lib/python3.11/site-packages (from openai>=1.58.1->generative-ai-hub-sdk[all]) (0.7.1)\n",
      "Requirement already satisfied: sniffio in /Library/Frameworks/Python.framework/Versions/3.11/lib/python3.11/site-packages (from openai>=1.58.1->generative-ai-hub-sdk[all]) (1.3.0)\n",
      "Requirement already satisfied: tqdm>4 in /Library/Frameworks/Python.framework/Versions/3.11/lib/python3.11/site-packages (from openai>=1.58.1->generative-ai-hub-sdk[all]) (4.66.2)\n",
      "Requirement already satisfied: aiohappyeyeballs>=2.3.0 in /Library/Frameworks/Python.framework/Versions/3.11/lib/python3.11/site-packages (from aiohttp<4.0.0,>=3.9.2->aiobotocore==2.21.1->aiobotocore[boto3]==2.21.1->aioboto3==14.1.0->generative-ai-hub-sdk[all]) (2.4.3)\n",
      "Requirement already satisfied: aiosignal>=1.1.2 in /Library/Frameworks/Python.framework/Versions/3.11/lib/python3.11/site-packages (from aiohttp<4.0.0,>=3.9.2->aiobotocore==2.21.1->aiobotocore[boto3]==2.21.1->aioboto3==14.1.0->generative-ai-hub-sdk[all]) (1.3.1)\n",
      "Requirement already satisfied: attrs>=17.3.0 in /Library/Frameworks/Python.framework/Versions/3.11/lib/python3.11/site-packages (from aiohttp<4.0.0,>=3.9.2->aiobotocore==2.21.1->aiobotocore[boto3]==2.21.1->aioboto3==14.1.0->generative-ai-hub-sdk[all]) (23.2.0)\n",
      "Requirement already satisfied: frozenlist>=1.1.1 in /Library/Frameworks/Python.framework/Versions/3.11/lib/python3.11/site-packages (from aiohttp<4.0.0,>=3.9.2->aiobotocore==2.21.1->aiobotocore[boto3]==2.21.1->aioboto3==14.1.0->generative-ai-hub-sdk[all]) (1.5.0)\n",
      "Requirement already satisfied: propcache>=0.2.0 in /Library/Frameworks/Python.framework/Versions/3.11/lib/python3.11/site-packages (from aiohttp<4.0.0,>=3.9.2->aiobotocore==2.21.1->aiobotocore[boto3]==2.21.1->aioboto3==14.1.0->generative-ai-hub-sdk[all]) (0.2.0)\n",
      "Requirement already satisfied: yarl<2.0,>=1.17.0 in /Library/Frameworks/Python.framework/Versions/3.11/lib/python3.11/site-packages (from aiohttp<4.0.0,>=3.9.2->aiobotocore==2.21.1->aiobotocore[boto3]==2.21.1->aioboto3==14.1.0->generative-ai-hub-sdk[all]) (1.17.2)\n",
      "Requirement already satisfied: urllib3!=2.2.0,<3,>=1.25.4 in /Library/Frameworks/Python.framework/Versions/3.11/lib/python3.11/site-packages (from botocore<1.38.0,>=1.37.0->boto3==1.37.0->generative-ai-hub-sdk[all]) (2.2.3)\n",
      "Requirement already satisfied: marshmallow<4.0.0,>=3.18.0 in /Library/Frameworks/Python.framework/Versions/3.11/lib/python3.11/site-packages (from dataclasses-json<0.7,>=0.5.7->langchain-community~=0.3.0->generative-ai-hub-sdk[all]) (3.23.1)\n",
      "Requirement already satisfied: typing-inspect<1,>=0.4.0 in /Library/Frameworks/Python.framework/Versions/3.11/lib/python3.11/site-packages (from dataclasses-json<0.7,>=0.5.7->langchain-community~=0.3.0->generative-ai-hub-sdk[all]) (0.9.0)\n",
      "Requirement already satisfied: googleapis-common-protos<2.0.dev0,>=1.56.2 in /Library/Frameworks/Python.framework/Versions/3.11/lib/python3.11/site-packages (from google-api-core!=2.0.*,!=2.1.*,!=2.2.*,!=2.3.*,!=2.4.*,!=2.5.*,!=2.6.*,!=2.7.*,<3.0.0dev,>=1.34.1->google-api-core[grpc]!=2.0.*,!=2.1.*,!=2.2.*,!=2.3.*,!=2.4.*,!=2.5.*,!=2.6.*,!=2.7.*,<3.0.0dev,>=1.34.1->google-cloud-aiplatform==1.83.0->generative-ai-hub-sdk[all]) (1.66.0)\n",
      "Requirement already satisfied: grpcio<2.0dev,>=1.33.2 in /Library/Frameworks/Python.framework/Versions/3.11/lib/python3.11/site-packages (from google-api-core[grpc]!=2.0.*,!=2.1.*,!=2.2.*,!=2.3.*,!=2.4.*,!=2.5.*,!=2.6.*,!=2.7.*,<3.0.0dev,>=1.34.1->google-cloud-aiplatform==1.83.0->generative-ai-hub-sdk[all]) (1.68.0)\n",
      "Requirement already satisfied: grpcio-status<2.0.dev0,>=1.33.2 in /Library/Frameworks/Python.framework/Versions/3.11/lib/python3.11/site-packages (from google-api-core[grpc]!=2.0.*,!=2.1.*,!=2.2.*,!=2.3.*,!=2.4.*,!=2.5.*,!=2.6.*,!=2.7.*,<3.0.0dev,>=1.34.1->google-cloud-aiplatform==1.83.0->generative-ai-hub-sdk[all]) (1.62.3)\n",
      "Requirement already satisfied: cachetools<6.0,>=2.0.0 in /Library/Frameworks/Python.framework/Versions/3.11/lib/python3.11/site-packages (from google-auth<3.0.0dev,>=2.14.1->google-cloud-aiplatform==1.83.0->generative-ai-hub-sdk[all]) (5.5.0)\n",
      "Requirement already satisfied: pyasn1-modules>=0.2.1 in /Library/Frameworks/Python.framework/Versions/3.11/lib/python3.11/site-packages (from google-auth<3.0.0dev,>=2.14.1->google-cloud-aiplatform==1.83.0->generative-ai-hub-sdk[all]) (0.4.1)\n",
      "Requirement already satisfied: rsa<5,>=3.1.4 in /Library/Frameworks/Python.framework/Versions/3.11/lib/python3.11/site-packages (from google-auth<3.0.0dev,>=2.14.1->google-cloud-aiplatform==1.83.0->generative-ai-hub-sdk[all]) (4.9)\n",
      "Requirement already satisfied: google-cloud-core<3.0.0dev,>=2.4.1 in /Library/Frameworks/Python.framework/Versions/3.11/lib/python3.11/site-packages (from google-cloud-bigquery!=3.20.0,<4.0.0dev,>=1.15.0->google-cloud-aiplatform==1.83.0->generative-ai-hub-sdk[all]) (2.4.1)\n",
      "Requirement already satisfied: google-resumable-media<3.0dev,>=2.0.0 in /Library/Frameworks/Python.framework/Versions/3.11/lib/python3.11/site-packages (from google-cloud-bigquery!=3.20.0,<4.0.0dev,>=1.15.0->google-cloud-aiplatform==1.83.0->generative-ai-hub-sdk[all]) (2.7.2)\n",
      "Requirement already satisfied: grpc-google-iam-v1<1.0.0dev,>=0.12.4 in /Library/Frameworks/Python.framework/Versions/3.11/lib/python3.11/site-packages (from google-cloud-resource-manager<3.0.0dev,>=1.3.3->google-cloud-aiplatform==1.83.0->generative-ai-hub-sdk[all]) (0.13.1)\n",
      "Requirement already satisfied: google-crc32c<2.0dev,>=1.0 in /Library/Frameworks/Python.framework/Versions/3.11/lib/python3.11/site-packages (from google-cloud-storage<3.0.0dev,>=1.32.0->google-cloud-aiplatform==1.83.0->generative-ai-hub-sdk[all]) (1.6.0)\n",
      "Requirement already satisfied: jsonpatch<2.0,>=1.33 in /Library/Frameworks/Python.framework/Versions/3.11/lib/python3.11/site-packages (from langchain-core<0.4.0,>=0.3.27->langchain-aws==0.2.15->generative-ai-hub-sdk[all]) (1.33)\n",
      "Requirement already satisfied: orjson<4.0.0,>=3.9.14 in /Library/Frameworks/Python.framework/Versions/3.11/lib/python3.11/site-packages (from langsmith<0.4,>=0.1.17->langchain~=0.3.0->generative-ai-hub-sdk[all]) (3.10.11)\n",
      "Requirement already satisfied: requests-toolbelt<2.0.0,>=1.0.0 in /Library/Frameworks/Python.framework/Versions/3.11/lib/python3.11/site-packages (from langsmith<0.4,>=0.1.17->langchain~=0.3.0->generative-ai-hub-sdk[all]) (1.0.0)\n",
      "Requirement already satisfied: python-dotenv>=0.21.0 in /Library/Frameworks/Python.framework/Versions/3.11/lib/python3.11/site-packages (from pydantic-settings<3.0.0,>=2.4.0->langchain-community~=0.3.0->generative-ai-hub-sdk[all]) (1.0.1)\n",
      "Requirement already satisfied: charset-normalizer<4,>=2 in /Library/Frameworks/Python.framework/Versions/3.11/lib/python3.11/site-packages (from requests<3.0->ai-api-client-sdk==2.4.6->ai-core-sdk>=2.5.7->generative-ai-hub-sdk[all]) (3.3.2)\n",
      "Requirement already satisfied: regex>=2022.1.18 in /Library/Frameworks/Python.framework/Versions/3.11/lib/python3.11/site-packages (from tiktoken<1,>=0.7->langchain-openai>=0.3.7->generative-ai-hub-sdk[all]) (2023.12.25)\n",
      "Requirement already satisfied: jsonpointer>=1.9 in /Users/I576044/Library/Python/3.11/lib/python/site-packages (from jsonpatch<2.0,>=1.33->langchain-core<0.4.0,>=0.3.27->langchain-aws==0.2.15->generative-ai-hub-sdk[all]) (2.4)\n",
      "Requirement already satisfied: pyasn1<0.7.0,>=0.4.6 in /Library/Frameworks/Python.framework/Versions/3.11/lib/python3.11/site-packages (from pyasn1-modules>=0.2.1->google-auth<3.0.0dev,>=2.14.1->google-cloud-aiplatform==1.83.0->generative-ai-hub-sdk[all]) (0.6.1)\n",
      "Requirement already satisfied: six>=1.5 in /Library/Frameworks/Python.framework/Versions/3.11/lib/python3.11/site-packages (from python-dateutil<3.0.0,>=2.1->aiobotocore==2.21.1->aiobotocore[boto3]==2.21.1->aioboto3==14.1.0->generative-ai-hub-sdk[all]) (1.16.0)\n",
      "Requirement already satisfied: mypy-extensions>=0.3.0 in /Library/Frameworks/Python.framework/Versions/3.11/lib/python3.11/site-packages (from typing-inspect<1,>=0.4.0->dataclasses-json<0.7,>=0.5.7->langchain-community~=0.3.0->generative-ai-hub-sdk[all]) (1.0.0)\n",
      "\n",
      "\u001b[1m[\u001b[0m\u001b[34;49mnotice\u001b[0m\u001b[1;39;49m]\u001b[0m\u001b[39;49m A new release of pip is available: \u001b[0m\u001b[31;49m24.0\u001b[0m\u001b[39;49m -> \u001b[0m\u001b[32;49m25.0.1\u001b[0m\n",
      "\u001b[1m[\u001b[0m\u001b[34;49mnotice\u001b[0m\u001b[1;39;49m]\u001b[0m\u001b[39;49m To update, run: \u001b[0m\u001b[32;49mpip install --upgrade pip\u001b[0m\n",
      "Defaulting to user installation because normal site-packages is not writeable\n",
      "Requirement already satisfied: pdfplumber in /Library/Frameworks/Python.framework/Versions/3.11/lib/python3.11/site-packages (0.11.6)\n",
      "Requirement already satisfied: pdfminer.six==20250327 in /Library/Frameworks/Python.framework/Versions/3.11/lib/python3.11/site-packages (from pdfplumber) (20250327)\n",
      "Requirement already satisfied: Pillow>=9.1 in /Library/Frameworks/Python.framework/Versions/3.11/lib/python3.11/site-packages (from pdfplumber) (10.2.0)\n",
      "Requirement already satisfied: pypdfium2>=4.18.0 in /Library/Frameworks/Python.framework/Versions/3.11/lib/python3.11/site-packages (from pdfplumber) (4.30.1)\n",
      "Requirement already satisfied: charset-normalizer>=2.0.0 in /Library/Frameworks/Python.framework/Versions/3.11/lib/python3.11/site-packages (from pdfminer.six==20250327->pdfplumber) (3.3.2)\n",
      "Requirement already satisfied: cryptography>=36.0.0 in /Library/Frameworks/Python.framework/Versions/3.11/lib/python3.11/site-packages (from pdfminer.six==20250327->pdfplumber) (42.0.5)\n",
      "Requirement already satisfied: cffi>=1.12 in /Users/I576044/Library/Python/3.11/lib/python/site-packages (from cryptography>=36.0.0->pdfminer.six==20250327->pdfplumber) (1.16.0)\n",
      "Requirement already satisfied: pycparser in /Users/I576044/Library/Python/3.11/lib/python/site-packages (from cffi>=1.12->cryptography>=36.0.0->pdfminer.six==20250327->pdfplumber) (2.22)\n",
      "\n",
      "\u001b[1m[\u001b[0m\u001b[34;49mnotice\u001b[0m\u001b[1;39;49m]\u001b[0m\u001b[39;49m A new release of pip is available: \u001b[0m\u001b[31;49m24.0\u001b[0m\u001b[39;49m -> \u001b[0m\u001b[32;49m25.0.1\u001b[0m\n",
      "\u001b[1m[\u001b[0m\u001b[34;49mnotice\u001b[0m\u001b[1;39;49m]\u001b[0m\u001b[39;49m To update, run: \u001b[0m\u001b[32;49mpip install --upgrade pip\u001b[0m\n",
      "Defaulting to user installation because normal site-packages is not writeable\n",
      "Requirement already satisfied: hdbcli in /Library/Frameworks/Python.framework/Versions/3.11/lib/python3.11/site-packages (2.22.32)\n",
      "\n",
      "\u001b[1m[\u001b[0m\u001b[34;49mnotice\u001b[0m\u001b[1;39;49m]\u001b[0m\u001b[39;49m A new release of pip is available: \u001b[0m\u001b[31;49m24.0\u001b[0m\u001b[39;49m -> \u001b[0m\u001b[32;49m25.0.1\u001b[0m\n",
      "\u001b[1m[\u001b[0m\u001b[34;49mnotice\u001b[0m\u001b[1;39;49m]\u001b[0m\u001b[39;49m To update, run: \u001b[0m\u001b[32;49mpip install --upgrade pip\u001b[0m\n",
      "Defaulting to user installation because normal site-packages is not writeable\n",
      "Requirement already satisfied: langchain in /Users/I576044/Library/Python/3.11/lib/python/site-packages (0.3.22)\n",
      "Requirement already satisfied: langchain-core<1.0.0,>=0.3.49 in /Users/I576044/Library/Python/3.11/lib/python/site-packages (from langchain) (0.3.49)\n",
      "Requirement already satisfied: langchain-text-splitters<1.0.0,>=0.3.7 in /Users/I576044/Library/Python/3.11/lib/python/site-packages (from langchain) (0.3.7)\n",
      "Requirement already satisfied: langsmith<0.4,>=0.1.17 in /Library/Frameworks/Python.framework/Versions/3.11/lib/python3.11/site-packages (from langchain) (0.1.143)\n",
      "Requirement already satisfied: pydantic<3.0.0,>=2.7.4 in /Users/I576044/Library/Python/3.11/lib/python/site-packages (from langchain) (2.10.6)\n",
      "Requirement already satisfied: SQLAlchemy<3,>=1.4 in /Users/I576044/Library/Python/3.11/lib/python/site-packages (from langchain) (2.0.40)\n",
      "Requirement already satisfied: requests<3,>=2 in /Library/Frameworks/Python.framework/Versions/3.11/lib/python3.11/site-packages (from langchain) (2.31.0)\n",
      "Requirement already satisfied: PyYAML>=5.3 in /Library/Frameworks/Python.framework/Versions/3.11/lib/python3.11/site-packages (from langchain) (6.0.1)\n",
      "Requirement already satisfied: tenacity!=8.4.0,<10.0.0,>=8.1.0 in /Library/Frameworks/Python.framework/Versions/3.11/lib/python3.11/site-packages (from langchain-core<1.0.0,>=0.3.49->langchain) (8.2.3)\n",
      "Requirement already satisfied: jsonpatch<2.0,>=1.33 in /Library/Frameworks/Python.framework/Versions/3.11/lib/python3.11/site-packages (from langchain-core<1.0.0,>=0.3.49->langchain) (1.33)\n",
      "Requirement already satisfied: packaging<25,>=23.2 in /Users/I576044/Library/Python/3.11/lib/python/site-packages (from langchain-core<1.0.0,>=0.3.49->langchain) (23.2)\n",
      "Requirement already satisfied: typing-extensions>=4.7 in /Library/Frameworks/Python.framework/Versions/3.11/lib/python3.11/site-packages (from langchain-core<1.0.0,>=0.3.49->langchain) (4.12.2)\n",
      "Requirement already satisfied: httpx<1,>=0.23.0 in /Users/I576044/Library/Python/3.11/lib/python/site-packages (from langsmith<0.4,>=0.1.17->langchain) (0.28.1)\n",
      "Requirement already satisfied: orjson<4.0.0,>=3.9.14 in /Library/Frameworks/Python.framework/Versions/3.11/lib/python3.11/site-packages (from langsmith<0.4,>=0.1.17->langchain) (3.10.11)\n",
      "Requirement already satisfied: requests-toolbelt<2.0.0,>=1.0.0 in /Library/Frameworks/Python.framework/Versions/3.11/lib/python3.11/site-packages (from langsmith<0.4,>=0.1.17->langchain) (1.0.0)\n",
      "Requirement already satisfied: annotated-types>=0.6.0 in /Library/Frameworks/Python.framework/Versions/3.11/lib/python3.11/site-packages (from pydantic<3.0.0,>=2.7.4->langchain) (0.6.0)\n",
      "Requirement already satisfied: pydantic-core==2.27.2 in /Users/I576044/Library/Python/3.11/lib/python/site-packages (from pydantic<3.0.0,>=2.7.4->langchain) (2.27.2)\n",
      "Requirement already satisfied: charset-normalizer<4,>=2 in /Library/Frameworks/Python.framework/Versions/3.11/lib/python3.11/site-packages (from requests<3,>=2->langchain) (3.3.2)\n",
      "Requirement already satisfied: idna<4,>=2.5 in /Library/Frameworks/Python.framework/Versions/3.11/lib/python3.11/site-packages (from requests<3,>=2->langchain) (3.6)\n",
      "Requirement already satisfied: urllib3<3,>=1.21.1 in /Library/Frameworks/Python.framework/Versions/3.11/lib/python3.11/site-packages (from requests<3,>=2->langchain) (2.2.3)\n",
      "Requirement already satisfied: certifi>=2017.4.17 in /Library/Frameworks/Python.framework/Versions/3.11/lib/python3.11/site-packages (from requests<3,>=2->langchain) (2024.2.2)\n",
      "Requirement already satisfied: anyio in /Library/Frameworks/Python.framework/Versions/3.11/lib/python3.11/site-packages (from httpx<1,>=0.23.0->langsmith<0.4,>=0.1.17->langchain) (4.2.0)\n",
      "Requirement already satisfied: httpcore==1.* in /Library/Frameworks/Python.framework/Versions/3.11/lib/python3.11/site-packages (from httpx<1,>=0.23.0->langsmith<0.4,>=0.1.17->langchain) (1.0.2)\n",
      "Requirement already satisfied: h11<0.15,>=0.13 in /Library/Frameworks/Python.framework/Versions/3.11/lib/python3.11/site-packages (from httpcore==1.*->httpx<1,>=0.23.0->langsmith<0.4,>=0.1.17->langchain) (0.14.0)\n",
      "Requirement already satisfied: jsonpointer>=1.9 in /Users/I576044/Library/Python/3.11/lib/python/site-packages (from jsonpatch<2.0,>=1.33->langchain-core<1.0.0,>=0.3.49->langchain) (2.4)\n",
      "Requirement already satisfied: sniffio>=1.1 in /Library/Frameworks/Python.framework/Versions/3.11/lib/python3.11/site-packages (from anyio->httpx<1,>=0.23.0->langsmith<0.4,>=0.1.17->langchain) (1.3.0)\n",
      "\n",
      "\u001b[1m[\u001b[0m\u001b[34;49mnotice\u001b[0m\u001b[1;39;49m]\u001b[0m\u001b[39;49m A new release of pip is available: \u001b[0m\u001b[31;49m24.0\u001b[0m\u001b[39;49m -> \u001b[0m\u001b[32;49m25.0.1\u001b[0m\n",
      "\u001b[1m[\u001b[0m\u001b[34;49mnotice\u001b[0m\u001b[1;39;49m]\u001b[0m\u001b[39;49m To update, run: \u001b[0m\u001b[32;49mpip install --upgrade pip\u001b[0m\n",
      "Defaulting to user installation because normal site-packages is not writeable\n",
      "Requirement already satisfied: boto3 in /Users/I576044/Library/Python/3.11/lib/python/site-packages (1.37.0)\n",
      "Requirement already satisfied: botocore<1.38.0,>=1.37.0 in /Users/I576044/Library/Python/3.11/lib/python/site-packages (from boto3) (1.37.1)\n",
      "Requirement already satisfied: jmespath<2.0.0,>=0.7.1 in /Library/Frameworks/Python.framework/Versions/3.11/lib/python3.11/site-packages (from boto3) (1.0.1)\n",
      "Requirement already satisfied: s3transfer<0.12.0,>=0.11.0 in /Users/I576044/Library/Python/3.11/lib/python/site-packages (from boto3) (0.11.3)\n",
      "Requirement already satisfied: python-dateutil<3.0.0,>=2.1 in /Library/Frameworks/Python.framework/Versions/3.11/lib/python3.11/site-packages (from botocore<1.38.0,>=1.37.0->boto3) (2.9.0.post0)\n",
      "Requirement already satisfied: urllib3!=2.2.0,<3,>=1.25.4 in /Library/Frameworks/Python.framework/Versions/3.11/lib/python3.11/site-packages (from botocore<1.38.0,>=1.37.0->boto3) (2.2.3)\n",
      "Requirement already satisfied: six>=1.5 in /Library/Frameworks/Python.framework/Versions/3.11/lib/python3.11/site-packages (from python-dateutil<3.0.0,>=2.1->botocore<1.38.0,>=1.37.0->boto3) (1.16.0)\n",
      "\n",
      "\u001b[1m[\u001b[0m\u001b[34;49mnotice\u001b[0m\u001b[1;39;49m]\u001b[0m\u001b[39;49m A new release of pip is available: \u001b[0m\u001b[31;49m24.0\u001b[0m\u001b[39;49m -> \u001b[0m\u001b[32;49m25.0.1\u001b[0m\n",
      "\u001b[1m[\u001b[0m\u001b[34;49mnotice\u001b[0m\u001b[1;39;49m]\u001b[0m\u001b[39;49m To update, run: \u001b[0m\u001b[32;49mpip install --upgrade pip\u001b[0m\n"
     ]
    }
   ],
   "source": [
    "!pip install \"generative-ai-hub-sdk[all]\"\n",
    "!pip install pdfplumber\n",
    "!pip install hdbcli\n",
    "!pip install langchain\n",
    "!pip install boto3\n",
    "!pip install ai-core-sdk\n",
    "!pip install \"numpy<2.0.0\" --force-reinstall"
   ]
  },
  {
   "cell_type": "markdown",
   "id": "15c6f3c2",
   "metadata": {},
   "source": [
    "Now, make sure to reset the runtime. In Google Colab, you can do this by clicking `Runtime` and `Restart Session`, as shown here:\n",
    "\n",
    "<img src=\"assets/colab_restart_session.png\" style=\"width:500px\">\n",
    "\n",
    "Now, you can continue by running the below cells. The packages have already been installed into the runtime before restarting."
   ]
  },
  {
   "cell_type": "markdown",
   "id": "3ee09bfd-3ac5-4eb5-85a4-902ceb22cc27",
   "metadata": {},
   "source": [
    "## Authentication"
   ]
  },
  {
   "cell_type": "markdown",
   "id": "3da77e21-8ce3-462a-82bd-9b455f4b70e4",
   "metadata": {},
   "source": [
    "Before requests to orchestration can be issued, we need to provide authentication details to the SDK. This can be done either via a configuration file or via the environment. Make sure to read the [Generative AI Hub SDK docs](https://help.sap.com/doc/generative-ai-hub-sdk/CLOUD/en-US/index.html) for more details. Below you will find an example for authenticating via environment variables using this very notebook. Ensure to store credentials in a file called `env_vars.env` file for the below command to work. If using Google Colab, you can place this file in the project folder by clicking the folder icon on the left and dropping the file in the workspace as shown:\n",
    "\n",
    "<img src=\"./assets/upload_env.png\" style=\"width:500px\">"
   ]
  },
  {
   "cell_type": "code",
   "execution_count": 26,
   "id": "15a9c85d",
   "metadata": {},
   "outputs": [
    {
     "data": {
      "text/plain": [
       "True"
      ]
     },
     "execution_count": 26,
     "metadata": {},
     "output_type": "execute_result"
    }
   ],
   "source": [
    "import os\n",
    "from dotenv import load_dotenv\n",
    "\n",
    "load_dotenv(dotenv_path='env_vars.env')"
   ]
  },
  {
   "cell_type": "markdown",
   "id": "1e8f1dfa-cd15-452c-a97e-23df5c546eef",
   "metadata": {},
   "source": [
    "# RAG"
   ]
  },
  {
   "cell_type": "markdown",
   "id": "3d569326-4f43-4bae-a364-7d766ec07bcf",
   "metadata": {},
   "source": [
    "RAG (Retrieval-Augmented Generation) is a technique that enhances a language model by combining it with a retrieval system. It fetches relevant information from external sources (like documents or databases) and uses it to generate more accurate and informed responses.\n",
    "\n",
    "Why RAG is useful:\n",
    "- Improves factual accuracy and reduces hallucinations.\n",
    "- Accesses external or private knowledge without retraining the model.\n",
    "- Keeps models up-to-date without needing continuous fine-tuning.\n",
    "\n",
    "LLMs have a fixed-size context window (e.g., 4k–128k tokens depending on the model), and this creates key limitations:\n",
    "- They can’t handle very long documents or large corpora at once.\n",
    "- They forget earlier parts of the input once the token limit is reached.\n",
    "- They can’t retain large histories in ongoing conversations or workflows.\n",
    "- Pushing large chunks of text into the model wastes compute and may reduce response quality.\n",
    "\n",
    "RAG solves this by retrieving and inserting only the most relevant pieces, keeping the context window small and meaningful."
   ]
  },
  {
   "cell_type": "markdown",
   "id": "39aeb17a",
   "metadata": {},
   "source": [
    "<img src=\"assets/rag_workflow.png\" alt=\"Drawing\" style=\"width: 800px;\"/>\n"
   ]
  },
  {
   "cell_type": "markdown",
   "id": "d39dcdfd",
   "metadata": {},
   "source": [
    "We will try to build an AI expert on meal planning and nutrition advice. The user should be able to ask the expert to generate a recipe based on the recipes he/she has made in the past. "
   ]
  },
  {
   "cell_type": "markdown",
   "id": "9464c105",
   "metadata": {},
   "source": [
    "Suppose, we ask the expert to generate a recipe without context."
   ]
  },
  {
   "cell_type": "code",
   "execution_count": 33,
   "id": "2685aba0",
   "metadata": {},
   "outputs": [
    {
     "name": "stdout",
     "output_type": "stream",
     "text": [
      "Great! Since you haven't made any similar recipes in the past, let's start with a simple and delicious dish that incorporates salmon, zucchini, and noodles. Here's a recipe for Salmon and Zucchini Noodle Stir-Fry:\n",
      "\n",
      "### Salmon and Zucchini Noodle Stir-Fry\n",
      "\n",
      "#### Ingredients:\n",
      "- 2 salmon fillets (about 6 oz each)\n",
      "- 2 medium zucchinis\n",
      "- 8 oz noodles (such as soba, rice noodles, or spaghetti)\n",
      "- 2 tablespoons olive oil\n",
      "- 2 cloves garlic, minced\n",
      "- 1 tablespoon soy sauce\n",
      "- 1 tablespoon lemon juice\n",
      "- 1 teaspoon honey or maple syrup\n",
      "- Salt and pepper to taste\n",
      "- Optional: sesame seeds and chopped green onions for garnish\n",
      "\n",
      "#### Instructions:\n",
      "1. **Prepare the Zucchini Noodles**: Use a spiralizer or a vegetable peeler to create zucchini noodles. Set aside.\n",
      "\n",
      "2. **Cook the Noodles**: Cook the noodles according to the package instructions. Drain and set aside.\n",
      "\n",
      "3. **Cook the Salmon**: Season the salmon fillets with salt and pepper. Heat 1 tablespoon of olive oil in a large skillet over medium-high heat. Add the salmon fillets, skin-side down, and cook for about 4-5 minutes on each side, or until cooked through. Remove from the skillet and set aside.\n",
      "\n",
      "4. **Stir-Fry the Zucchini**: In the same skillet, add the remaining tablespoon of olive oil. Add the minced garlic and sauté for about 30 seconds until fragrant. Add the zucchini noodles and stir-fry for 2-3 minutes until just tender.\n",
      "\n",
      "5. **Combine Ingredients**: Add the cooked noodles to the skillet with the zucchini. Pour in the soy sauce, lemon juice, and honey. Toss everything together to combine and heat through.\n",
      "\n",
      "6. **Serve**: Divide the noodle and zucchini mixture between plates. Top each serving with a salmon fillet. Garnish with sesame seeds and chopped green onions if desired.\n",
      "\n",
      "7. **Enjoy**: Serve immediately and enjoy your delicious and healthy meal!\n",
      "\n",
      "This dish is not only flavorful but also quick to prepare, making it perfect for a weeknight dinner. If you have any other ingredients you'd like to incorporate or specific dietary preferences, feel free to let me know!\n"
     ]
    }
   ],
   "source": [
    "from gen_ai_hub.orchestration.models.llm import LLM\n",
    "from gen_ai_hub.orchestration.models.message import SystemMessage, UserMessage\n",
    "from gen_ai_hub.orchestration.models.template import Template, TemplateValue\n",
    "from gen_ai_hub.orchestration.models.config import OrchestrationConfig\n",
    "from gen_ai_hub.orchestration.service import OrchestrationService\n",
    "\n",
    "llm = LLM(\n",
    "    name=\"gpt-4o\",\n",
    "    version=\"latest\",\n",
    "    parameters={\"max_tokens\": 1000, \"temperature\": 0.2},\n",
    ")\n",
    "\n",
    "template = Template(\n",
    "    messages=[\n",
    "        SystemMessage(\"You are a nutrition and meal planning expert. Your job is to suggest similar recipes based on what ingredients the user wants. \" \\\n",
    "        \"You will also be given a list of recipes he/she has made in the past as inspiration for new recipes the user likes.\"),\n",
    "        UserMessage(\n",
    "            \"I want a recipe with at least the following ingredients: {{?ingr_string}}\" \\\n",
    "            \"Here are similar recipes I've made in the past: {{?sim_recipes}}\",\n",
    "        ),\n",
    "    ]\n",
    ")\n",
    "\n",
    "config = OrchestrationConfig(\n",
    "    template=template,\n",
    "    llm=llm,\n",
    ")\n",
    "\n",
    "orchestration_service = OrchestrationService(\n",
    "    deployment_id=os.environ['AICORE_ORCH_DEPLOYMENT_ID'],\n",
    "    config=config,\n",
    ")\n",
    "\n",
    "result = orchestration_service.run(\n",
    "    template_values=[\n",
    "        TemplateValue(\n",
    "            name=\"ingr_string\",\n",
    "            value=\"salmon, zuchinni, noodles\",\n",
    "        ),\n",
    "        TemplateValue(\n",
    "            name=\"sim_recipes\",\n",
    "            value='None',\n",
    "        ),\n",
    "    ]\n",
    ")\n",
    "\n",
    "print(result.orchestration_result.choices[0].message.content)"
   ]
  },
  {
   "cell_type": "markdown",
   "id": "3bf932ba",
   "metadata": {},
   "source": [
    "The expert generates a plausable recipe, but I usually use shiritaki noodles when I make salmon, I don't add honey/maple syrup since I don't want sugar, and I really don't like Soy sause. Thus, it's important to pass context of the recipes I've made w/ Salmon, so that the expert understands my food preferences. First, we will export the data from MyFitnessPal where I have stored thousands of recipes that I've made."
   ]
  },
  {
   "cell_type": "code",
   "execution_count": 2,
   "id": "82248a13",
   "metadata": {},
   "outputs": [
    {
     "name": "stderr",
     "output_type": "stream",
     "text": [
      "CropBox missing from /Page, defaulting to MediaBox\n",
      "CropBox missing from /Page, defaulting to MediaBox\n",
      "CropBox missing from /Page, defaulting to MediaBox\n",
      "CropBox missing from /Page, defaulting to MediaBox\n",
      "CropBox missing from /Page, defaulting to MediaBox\n",
      "CropBox missing from /Page, defaulting to MediaBox\n",
      "CropBox missing from /Page, defaulting to MediaBox\n",
      "CropBox missing from /Page, defaulting to MediaBox\n",
      "CropBox missing from /Page, defaulting to MediaBox\n",
      "CropBox missing from /Page, defaulting to MediaBox\n",
      "CropBox missing from /Page, defaulting to MediaBox\n",
      "CropBox missing from /Page, defaulting to MediaBox\n",
      "CropBox missing from /Page, defaulting to MediaBox\n",
      "CropBox missing from /Page, defaulting to MediaBox\n",
      "CropBox missing from /Page, defaulting to MediaBox\n",
      "CropBox missing from /Page, defaulting to MediaBox\n",
      "CropBox missing from /Page, defaulting to MediaBox\n",
      "CropBox missing from /Page, defaulting to MediaBox\n",
      "CropBox missing from /Page, defaulting to MediaBox\n",
      "CropBox missing from /Page, defaulting to MediaBox\n",
      "CropBox missing from /Page, defaulting to MediaBox\n",
      "CropBox missing from /Page, defaulting to MediaBox\n",
      "CropBox missing from /Page, defaulting to MediaBox\n",
      "CropBox missing from /Page, defaulting to MediaBox\n",
      "CropBox missing from /Page, defaulting to MediaBox\n",
      "CropBox missing from /Page, defaulting to MediaBox\n",
      "CropBox missing from /Page, defaulting to MediaBox\n",
      "CropBox missing from /Page, defaulting to MediaBox\n",
      "CropBox missing from /Page, defaulting to MediaBox\n",
      "CropBox missing from /Page, defaulting to MediaBox\n",
      "CropBox missing from /Page, defaulting to MediaBox\n",
      "CropBox missing from /Page, defaulting to MediaBox\n",
      "CropBox missing from /Page, defaulting to MediaBox\n",
      "CropBox missing from /Page, defaulting to MediaBox\n",
      "CropBox missing from /Page, defaulting to MediaBox\n",
      "CropBox missing from /Page, defaulting to MediaBox\n",
      "CropBox missing from /Page, defaulting to MediaBox\n",
      "CropBox missing from /Page, defaulting to MediaBox\n",
      "CropBox missing from /Page, defaulting to MediaBox\n",
      "CropBox missing from /Page, defaulting to MediaBox\n",
      "CropBox missing from /Page, defaulting to MediaBox\n",
      "CropBox missing from /Page, defaulting to MediaBox\n",
      "CropBox missing from /Page, defaulting to MediaBox\n",
      "CropBox missing from /Page, defaulting to MediaBox\n",
      "CropBox missing from /Page, defaulting to MediaBox\n",
      "CropBox missing from /Page, defaulting to MediaBox\n",
      "CropBox missing from /Page, defaulting to MediaBox\n",
      "CropBox missing from /Page, defaulting to MediaBox\n",
      "CropBox missing from /Page, defaulting to MediaBox\n",
      "CropBox missing from /Page, defaulting to MediaBox\n",
      "CropBox missing from /Page, defaulting to MediaBox\n",
      "CropBox missing from /Page, defaulting to MediaBox\n",
      "CropBox missing from /Page, defaulting to MediaBox\n",
      "CropBox missing from /Page, defaulting to MediaBox\n",
      "CropBox missing from /Page, defaulting to MediaBox\n",
      "CropBox missing from /Page, defaulting to MediaBox\n",
      "CropBox missing from /Page, defaulting to MediaBox\n",
      "CropBox missing from /Page, defaulting to MediaBox\n",
      "CropBox missing from /Page, defaulting to MediaBox\n",
      "CropBox missing from /Page, defaulting to MediaBox\n",
      "CropBox missing from /Page, defaulting to MediaBox\n",
      "CropBox missing from /Page, defaulting to MediaBox\n",
      "CropBox missing from /Page, defaulting to MediaBox\n",
      "CropBox missing from /Page, defaulting to MediaBox\n",
      "CropBox missing from /Page, defaulting to MediaBox\n",
      "CropBox missing from /Page, defaulting to MediaBox\n",
      "CropBox missing from /Page, defaulting to MediaBox\n",
      "CropBox missing from /Page, defaulting to MediaBox\n",
      "CropBox missing from /Page, defaulting to MediaBox\n",
      "CropBox missing from /Page, defaulting to MediaBox\n",
      "CropBox missing from /Page, defaulting to MediaBox\n",
      "CropBox missing from /Page, defaulting to MediaBox\n",
      "CropBox missing from /Page, defaulting to MediaBox\n",
      "CropBox missing from /Page, defaulting to MediaBox\n",
      "CropBox missing from /Page, defaulting to MediaBox\n",
      "CropBox missing from /Page, defaulting to MediaBox\n",
      "CropBox missing from /Page, defaulting to MediaBox\n",
      "CropBox missing from /Page, defaulting to MediaBox\n",
      "CropBox missing from /Page, defaulting to MediaBox\n",
      "CropBox missing from /Page, defaulting to MediaBox\n",
      "CropBox missing from /Page, defaulting to MediaBox\n",
      "CropBox missing from /Page, defaulting to MediaBox\n",
      "CropBox missing from /Page, defaulting to MediaBox\n",
      "CropBox missing from /Page, defaulting to MediaBox\n",
      "CropBox missing from /Page, defaulting to MediaBox\n",
      "CropBox missing from /Page, defaulting to MediaBox\n",
      "CropBox missing from /Page, defaulting to MediaBox\n",
      "CropBox missing from /Page, defaulting to MediaBox\n",
      "CropBox missing from /Page, defaulting to MediaBox\n",
      "CropBox missing from /Page, defaulting to MediaBox\n",
      "CropBox missing from /Page, defaulting to MediaBox\n",
      "CropBox missing from /Page, defaulting to MediaBox\n",
      "CropBox missing from /Page, defaulting to MediaBox\n",
      "CropBox missing from /Page, defaulting to MediaBox\n",
      "CropBox missing from /Page, defaulting to MediaBox\n",
      "CropBox missing from /Page, defaulting to MediaBox\n",
      "CropBox missing from /Page, defaulting to MediaBox\n",
      "CropBox missing from /Page, defaulting to MediaBox\n",
      "CropBox missing from /Page, defaulting to MediaBox\n",
      "CropBox missing from /Page, defaulting to MediaBox\n",
      "CropBox missing from /Page, defaulting to MediaBox\n",
      "CropBox missing from /Page, defaulting to MediaBox\n",
      "CropBox missing from /Page, defaulting to MediaBox\n",
      "CropBox missing from /Page, defaulting to MediaBox\n",
      "CropBox missing from /Page, defaulting to MediaBox\n",
      "CropBox missing from /Page, defaulting to MediaBox\n",
      "CropBox missing from /Page, defaulting to MediaBox\n",
      "CropBox missing from /Page, defaulting to MediaBox\n",
      "CropBox missing from /Page, defaulting to MediaBox\n",
      "CropBox missing from /Page, defaulting to MediaBox\n",
      "CropBox missing from /Page, defaulting to MediaBox\n",
      "CropBox missing from /Page, defaulting to MediaBox\n",
      "CropBox missing from /Page, defaulting to MediaBox\n",
      "CropBox missing from /Page, defaulting to MediaBox\n",
      "CropBox missing from /Page, defaulting to MediaBox\n",
      "CropBox missing from /Page, defaulting to MediaBox\n",
      "CropBox missing from /Page, defaulting to MediaBox\n",
      "CropBox missing from /Page, defaulting to MediaBox\n",
      "CropBox missing from /Page, defaulting to MediaBox\n",
      "CropBox missing from /Page, defaulting to MediaBox\n",
      "CropBox missing from /Page, defaulting to MediaBox\n",
      "CropBox missing from /Page, defaulting to MediaBox\n",
      "CropBox missing from /Page, defaulting to MediaBox\n",
      "CropBox missing from /Page, defaulting to MediaBox\n",
      "CropBox missing from /Page, defaulting to MediaBox\n",
      "CropBox missing from /Page, defaulting to MediaBox\n",
      "CropBox missing from /Page, defaulting to MediaBox\n",
      "CropBox missing from /Page, defaulting to MediaBox\n",
      "CropBox missing from /Page, defaulting to MediaBox\n",
      "CropBox missing from /Page, defaulting to MediaBox\n",
      "CropBox missing from /Page, defaulting to MediaBox\n",
      "CropBox missing from /Page, defaulting to MediaBox\n",
      "CropBox missing from /Page, defaulting to MediaBox\n",
      "CropBox missing from /Page, defaulting to MediaBox\n",
      "CropBox missing from /Page, defaulting to MediaBox\n",
      "CropBox missing from /Page, defaulting to MediaBox\n",
      "CropBox missing from /Page, defaulting to MediaBox\n",
      "CropBox missing from /Page, defaulting to MediaBox\n",
      "CropBox missing from /Page, defaulting to MediaBox\n",
      "CropBox missing from /Page, defaulting to MediaBox\n",
      "CropBox missing from /Page, defaulting to MediaBox\n",
      "CropBox missing from /Page, defaulting to MediaBox\n",
      "CropBox missing from /Page, defaulting to MediaBox\n",
      "CropBox missing from /Page, defaulting to MediaBox\n",
      "CropBox missing from /Page, defaulting to MediaBox\n",
      "CropBox missing from /Page, defaulting to MediaBox\n",
      "CropBox missing from /Page, defaulting to MediaBox\n",
      "CropBox missing from /Page, defaulting to MediaBox\n",
      "CropBox missing from /Page, defaulting to MediaBox\n",
      "CropBox missing from /Page, defaulting to MediaBox\n",
      "CropBox missing from /Page, defaulting to MediaBox\n",
      "CropBox missing from /Page, defaulting to MediaBox\n",
      "CropBox missing from /Page, defaulting to MediaBox\n",
      "CropBox missing from /Page, defaulting to MediaBox\n",
      "CropBox missing from /Page, defaulting to MediaBox\n",
      "CropBox missing from /Page, defaulting to MediaBox\n",
      "CropBox missing from /Page, defaulting to MediaBox\n",
      "CropBox missing from /Page, defaulting to MediaBox\n",
      "CropBox missing from /Page, defaulting to MediaBox\n",
      "CropBox missing from /Page, defaulting to MediaBox\n",
      "CropBox missing from /Page, defaulting to MediaBox\n",
      "CropBox missing from /Page, defaulting to MediaBox\n",
      "CropBox missing from /Page, defaulting to MediaBox\n",
      "CropBox missing from /Page, defaulting to MediaBox\n",
      "CropBox missing from /Page, defaulting to MediaBox\n",
      "CropBox missing from /Page, defaulting to MediaBox\n",
      "CropBox missing from /Page, defaulting to MediaBox\n",
      "CropBox missing from /Page, defaulting to MediaBox\n",
      "CropBox missing from /Page, defaulting to MediaBox\n",
      "CropBox missing from /Page, defaulting to MediaBox\n",
      "CropBox missing from /Page, defaulting to MediaBox\n",
      "CropBox missing from /Page, defaulting to MediaBox\n",
      "CropBox missing from /Page, defaulting to MediaBox\n",
      "CropBox missing from /Page, defaulting to MediaBox\n",
      "CropBox missing from /Page, defaulting to MediaBox\n",
      "CropBox missing from /Page, defaulting to MediaBox\n",
      "CropBox missing from /Page, defaulting to MediaBox\n",
      "CropBox missing from /Page, defaulting to MediaBox\n",
      "CropBox missing from /Page, defaulting to MediaBox\n",
      "CropBox missing from /Page, defaulting to MediaBox\n",
      "CropBox missing from /Page, defaulting to MediaBox\n",
      "CropBox missing from /Page, defaulting to MediaBox\n",
      "CropBox missing from /Page, defaulting to MediaBox\n",
      "CropBox missing from /Page, defaulting to MediaBox\n",
      "CropBox missing from /Page, defaulting to MediaBox\n",
      "CropBox missing from /Page, defaulting to MediaBox\n",
      "CropBox missing from /Page, defaulting to MediaBox\n",
      "CropBox missing from /Page, defaulting to MediaBox\n"
     ]
    }
   ],
   "source": [
    "import re\n",
    "import pandas as pd\n",
    "import pdfplumber\n",
    "\n",
    "# Regex patterns\n",
    "date_pattern = re.compile(r\"([A-Z][a-z]+\\s\\d{1,2},\\s\\d{4})\")  # e.g., May 9, 2022\n",
    "meal_keywords = [\"Breakfast\", \"Lunch\", \"Dinner\", \"Morning Snack\", \"Midday Snack\", \"Snack\", \"Afternoon Snack\", \"Evening Snack\", \"Brunch\", \"Late Night Snack\"]\n",
    "\n",
    "extraction = []\n",
    "for path in ['rag_data/mfp_4-29-22_9-8-22.pdf', 'rag_data/mfp_4-26-24_4-26-25.pdf', 'rag_data/mfp_4-26-23_4-26-24.pdf']:\n",
    "\n",
    "    # Open the PDF again for custom extraction\n",
    "    records = []\n",
    "    current_date = None\n",
    "    current_meal = None\n",
    "\n",
    "    with pdfplumber.open(path) as pdf:\n",
    "        for page in pdf.pages:\n",
    "            text = page.extract_text()\n",
    "            lines = text.split(\"\\n\")\n",
    "            \n",
    "            for line in lines:\n",
    "                line = line.strip()\n",
    "                if not line:\n",
    "                    continue\n",
    "\n",
    "                # Check if line is a date\n",
    "                date_match = date_pattern.match(line)\n",
    "                if date_match:\n",
    "                    current_date = date_match.group(1)\n",
    "                    continue\n",
    "\n",
    "                # Check if line is a meal section\n",
    "                if any(meal.lower() in line.lower() for meal in meal_keywords):\n",
    "                    current_meal = line.lower()\n",
    "                    continue\n",
    "\n",
    "                # Skip non-ingredient lines\n",
    "                # Heuristic: ingredients lines have ingredient name, followed by comma, followed by quantitiy, and then followed by nutrition facts\n",
    "                if current_date and current_meal and ',' in line and 'MyFitnessPal' not in line:\n",
    "                    # Save the record\n",
    "                    records.append({\n",
    "                        \"date\": pd.to_datetime(current_date),\n",
    "                        \"meal_name\": current_meal.replace(\"\\n\", \" \").strip(),\n",
    "                        \"ingredient_name\": line\n",
    "                    })\n",
    "    df = pd.DataFrame(records)\n",
    "    extraction.append(df)\n",
    "extraction = pd.concat(extraction)"
   ]
  },
  {
   "cell_type": "code",
   "execution_count": 3,
   "id": "33c5eb9a",
   "metadata": {},
   "outputs": [
    {
     "data": {
      "text/html": [
       "<div>\n",
       "<style scoped>\n",
       "    .dataframe tbody tr th:only-of-type {\n",
       "        vertical-align: middle;\n",
       "    }\n",
       "\n",
       "    .dataframe tbody tr th {\n",
       "        vertical-align: top;\n",
       "    }\n",
       "\n",
       "    .dataframe thead th {\n",
       "        text-align: right;\n",
       "    }\n",
       "</style>\n",
       "<table border=\"1\" class=\"dataframe\">\n",
       "  <thead>\n",
       "    <tr style=\"text-align: right;\">\n",
       "      <th></th>\n",
       "      <th>date</th>\n",
       "      <th>meal_name</th>\n",
       "      <th>ingredient_name</th>\n",
       "    </tr>\n",
       "  </thead>\n",
       "  <tbody>\n",
       "    <tr>\n",
       "      <th>0</th>\n",
       "      <td>2022-05-01</td>\n",
       "      <td>breakfast</td>\n",
       "      <td>Black pepper, 1 tbsp, ground 17 4g 0g 1g 0mg 1...</td>\n",
       "    </tr>\n",
       "    <tr>\n",
       "      <th>32</th>\n",
       "      <td>2022-05-01</td>\n",
       "      <td>morning snack</td>\n",
       "      <td>Large Egg - One Large Egg, 3 each 210 0g 15g 1...</td>\n",
       "    </tr>\n",
       "    <tr>\n",
       "      <th>31</th>\n",
       "      <td>2022-05-01</td>\n",
       "      <td>morning snack</td>\n",
       "      <td>Spinach, 2 cup 14 2g 0g 2g 0mg 47mg 0g 1g</td>\n",
       "    </tr>\n",
       "    <tr>\n",
       "      <th>30</th>\n",
       "      <td>2022-05-01</td>\n",
       "      <td>morning snack</td>\n",
       "      <td>Egg Beater Whites - Kirkland, 92 g 50 0g 0g 10...</td>\n",
       "    </tr>\n",
       "    <tr>\n",
       "      <th>29</th>\n",
       "      <td>2022-05-01</td>\n",
       "      <td>morning snack</td>\n",
       "      <td>Generic - Red Onions, 60 g 20 5g 0g 1g -- 6mg ...</td>\n",
       "    </tr>\n",
       "  </tbody>\n",
       "</table>\n",
       "</div>"
      ],
      "text/plain": [
       "         date      meal_name  \\\n",
       "0  2022-05-01      breakfast   \n",
       "32 2022-05-01  morning snack   \n",
       "31 2022-05-01  morning snack   \n",
       "30 2022-05-01  morning snack   \n",
       "29 2022-05-01  morning snack   \n",
       "\n",
       "                                      ingredient_name  \n",
       "0   Black pepper, 1 tbsp, ground 17 4g 0g 1g 0mg 1...  \n",
       "32  Large Egg - One Large Egg, 3 each 210 0g 15g 1...  \n",
       "31          Spinach, 2 cup 14 2g 0g 2g 0mg 47mg 0g 1g  \n",
       "30  Egg Beater Whites - Kirkland, 92 g 50 0g 0g 10...  \n",
       "29  Generic - Red Onions, 60 g 20 5g 0g 1g -- 6mg ...  "
      ]
     },
     "execution_count": 3,
     "metadata": {},
     "output_type": "execute_result"
    }
   ],
   "source": [
    "extraction.sort_values('date').head()"
   ]
  },
  {
   "cell_type": "markdown",
   "id": "ee70d29d",
   "metadata": {},
   "source": [
    "Now let's create a string vector representation for each meal."
   ]
  },
  {
   "cell_type": "code",
   "execution_count": 4,
   "id": "0237f4e8",
   "metadata": {},
   "outputs": [
    {
     "data": {
      "text/plain": [
       "(285, 3)"
      ]
     },
     "execution_count": 4,
     "metadata": {},
     "output_type": "execute_result"
    }
   ],
   "source": [
    "meals = extraction.groupby(['date', 'meal_name']).agg(list).reset_index()\n",
    "newline = '\\n'\n",
    "meals['ingredient_name'] = meals['ingredient_name'].map(lambda x: f'Ingredients:\\n{f\"{newline}\".join(sorted(x))}')\n",
    "meals.shape"
   ]
  },
  {
   "cell_type": "code",
   "execution_count": 5,
   "id": "90941016",
   "metadata": {},
   "outputs": [
    {
     "name": "stdout",
     "output_type": "stream",
     "text": [
      "Ingredients:\n",
      "Black pepper, 1 tbsp, ground 17 4g 0g 1g 0mg 1mg 0g 2g\n",
      "Garlic powder, 1 tsp 10 2g 0g 1g 0mg 2mg 0g 0g\n",
      "Green Chili Company - Hatch Green Chili, 22.5 g 9 2g 0g 0g 0mg 2mg 1g 0g\n",
      "Happy Farms - Mozzarella Shredded Cheese, 0.5 cup 160 4g 12g 12g 30mg 360mg 2g 0g\n",
      "Kale - Kale - Chopped, 85 g 42 9g 1g 3g 0mg 37mg 0g 2g\n",
      "Kirkwood (Aldi) - Turkey, Ground, Raw, 85/15, 4 oz\n",
      "Olive oil - Organic Olive Oil, 0.5 tbsp 60 0g 7g 0g 0mg 0mg 0g 0g\n",
      "Spelt Bagel - Bagel, 1 bagel 280 46g 6g 8g 0mg 430mg 1g 6g\n"
     ]
    }
   ],
   "source": [
    "print(meals.iloc[0, 2])"
   ]
  },
  {
   "cell_type": "markdown",
   "id": "be943bca-8929-4985-8599-428734792bc7",
   "metadata": {},
   "source": [
    "Now, to highlight why RAG is so useful, let's pass in all the recipes from the extraction as context to the model when asking it to generate a new recipe with our favorite ingredients."
   ]
  },
  {
   "cell_type": "code",
   "execution_count": 34,
   "id": "311a7151-e10a-4e95-b03a-92047c077215",
   "metadata": {},
   "outputs": [
    {
     "ename": "OrchestrationError",
     "evalue": "This model's maximum context length is 128000 tokens. However, your messages resulted in 296823 tokens. Please reduce the length of the messages.",
     "output_type": "error",
     "traceback": [
      "\u001b[0;31m---------------------------------------------------------------------------\u001b[0m",
      "\u001b[0;31mHTTPStatusError\u001b[0m                           Traceback (most recent call last)",
      "File \u001b[0;32m~/Library/Python/3.11/lib/python/site-packages/gen_ai_hub/orchestration/service.py:257\u001b[0m, in \u001b[0;36mOrchestrationService._execute_request\u001b[0;34m(self, config, template_values, history, stream, stream_options, timeout)\u001b[0m\n\u001b[1;32m    256\u001b[0m \u001b[38;5;28;01mtry\u001b[39;00m:\n\u001b[0;32m--> 257\u001b[0m     \u001b[43mresponse\u001b[49m\u001b[38;5;241;43m.\u001b[39;49m\u001b[43mraise_for_status\u001b[49m\u001b[43m(\u001b[49m\u001b[43m)\u001b[49m\n\u001b[1;32m    258\u001b[0m \u001b[38;5;28;01mexcept\u001b[39;00m httpx\u001b[38;5;241m.\u001b[39mHTTPStatusError \u001b[38;5;28;01mas\u001b[39;00m error:\n",
      "File \u001b[0;32m~/Library/Python/3.11/lib/python/site-packages/httpx/_models.py:829\u001b[0m, in \u001b[0;36mResponse.raise_for_status\u001b[0;34m(self)\u001b[0m\n\u001b[1;32m    828\u001b[0m message \u001b[38;5;241m=\u001b[39m message\u001b[38;5;241m.\u001b[39mformat(\u001b[38;5;28mself\u001b[39m, error_type\u001b[38;5;241m=\u001b[39merror_type)\n\u001b[0;32m--> 829\u001b[0m \u001b[38;5;28;01mraise\u001b[39;00m HTTPStatusError(message, request\u001b[38;5;241m=\u001b[39mrequest, response\u001b[38;5;241m=\u001b[39m\u001b[38;5;28mself\u001b[39m)\n",
      "\u001b[0;31mHTTPStatusError\u001b[0m: Client error '400 Bad Request' for url 'https://api.ai.prod.us-east-1.aws.ml.hana.ondemand.com/v2/inference/deployments/d00185d3c6a8fe73/completion'\nFor more information check: https://developer.mozilla.org/en-US/docs/Web/HTTP/Status/400",
      "\nThe above exception was the direct cause of the following exception:\n",
      "\u001b[0;31mOrchestrationError\u001b[0m                        Traceback (most recent call last)",
      "Cell \u001b[0;32mIn[34], line 1\u001b[0m\n\u001b[0;32m----> 1\u001b[0m result \u001b[38;5;241m=\u001b[39m \u001b[43morchestration_service\u001b[49m\u001b[38;5;241;43m.\u001b[39;49m\u001b[43mrun\u001b[49m\u001b[43m(\u001b[49m\n\u001b[1;32m      2\u001b[0m \u001b[43m    \u001b[49m\u001b[43mtemplate_values\u001b[49m\u001b[38;5;241;43m=\u001b[39;49m\u001b[43m[\u001b[49m\n\u001b[1;32m      3\u001b[0m \u001b[43m        \u001b[49m\u001b[43mTemplateValue\u001b[49m\u001b[43m(\u001b[49m\n\u001b[1;32m      4\u001b[0m \u001b[43m            \u001b[49m\u001b[43mname\u001b[49m\u001b[38;5;241;43m=\u001b[39;49m\u001b[38;5;124;43m\"\u001b[39;49m\u001b[38;5;124;43mingr_string\u001b[39;49m\u001b[38;5;124;43m\"\u001b[39;49m\u001b[43m,\u001b[49m\n\u001b[1;32m      5\u001b[0m \u001b[43m            \u001b[49m\u001b[43mvalue\u001b[49m\u001b[38;5;241;43m=\u001b[39;49m\u001b[38;5;124;43m\"\u001b[39;49m\u001b[38;5;124;43msalmon, zuchinni, noodles\u001b[39;49m\u001b[38;5;124;43m\"\u001b[39;49m\u001b[43m,\u001b[49m\n\u001b[1;32m      6\u001b[0m \u001b[43m        \u001b[49m\u001b[43m)\u001b[49m\u001b[43m,\u001b[49m\n\u001b[1;32m      7\u001b[0m \u001b[43m        \u001b[49m\u001b[43mTemplateValue\u001b[49m\u001b[43m(\u001b[49m\n\u001b[1;32m      8\u001b[0m \u001b[43m            \u001b[49m\u001b[43mname\u001b[49m\u001b[38;5;241;43m=\u001b[39;49m\u001b[38;5;124;43m\"\u001b[39;49m\u001b[38;5;124;43msim_recipes\u001b[39;49m\u001b[38;5;124;43m\"\u001b[39;49m\u001b[43m,\u001b[49m\n\u001b[1;32m      9\u001b[0m \u001b[43m            \u001b[49m\u001b[43mvalue\u001b[49m\u001b[38;5;241;43m=\u001b[39;49m\u001b[38;5;124;43m'\u001b[39;49m\u001b[38;5;130;43;01m\\n\u001b[39;49;00m\u001b[38;5;130;43;01m\\n\u001b[39;49;00m\u001b[38;5;124;43m'\u001b[39;49m\u001b[38;5;241;43m.\u001b[39;49m\u001b[43mjoin\u001b[49m\u001b[43m(\u001b[49m\u001b[43mmeals\u001b[49m\u001b[43m[\u001b[49m\u001b[38;5;124;43m'\u001b[39;49m\u001b[38;5;124;43mingredient_name\u001b[39;49m\u001b[38;5;124;43m'\u001b[39;49m\u001b[43m]\u001b[49m\u001b[38;5;241;43m.\u001b[39;49m\u001b[43mtolist\u001b[49m\u001b[43m(\u001b[49m\u001b[43m)\u001b[49m\u001b[38;5;241;43m*\u001b[39;49m\u001b[38;5;241;43m5\u001b[39;49m\u001b[43m)\u001b[49m\u001b[43m,\u001b[49m\n\u001b[1;32m     10\u001b[0m \u001b[43m        \u001b[49m\u001b[43m)\u001b[49m\u001b[43m,\u001b[49m\n\u001b[1;32m     11\u001b[0m \u001b[43m    \u001b[49m\u001b[43m]\u001b[49m\n\u001b[1;32m     12\u001b[0m \u001b[43m)\u001b[49m\n\u001b[1;32m     14\u001b[0m \u001b[38;5;28mprint\u001b[39m(result\u001b[38;5;241m.\u001b[39morchestration_result\u001b[38;5;241m.\u001b[39mchoices[\u001b[38;5;241m0\u001b[39m]\u001b[38;5;241m.\u001b[39mmessage\u001b[38;5;241m.\u001b[39mcontent)\n",
      "File \u001b[0;32m~/Library/Python/3.11/lib/python/site-packages/gen_ai_hub/orchestration/service.py:357\u001b[0m, in \u001b[0;36mOrchestrationService.run\u001b[0;34m(self, config, template_values, history, timeout)\u001b[0m\n\u001b[1;32m    338\u001b[0m \u001b[38;5;28;01mdef\u001b[39;00m \u001b[38;5;21mrun\u001b[39m(\n\u001b[1;32m    339\u001b[0m     \u001b[38;5;28mself\u001b[39m,\n\u001b[1;32m    340\u001b[0m     config: Optional[OrchestrationConfig] \u001b[38;5;241m=\u001b[39m \u001b[38;5;28;01mNone\u001b[39;00m,\n\u001b[0;32m   (...)\u001b[0m\n\u001b[1;32m    343\u001b[0m     timeout: Union[\u001b[38;5;28mint\u001b[39m, \u001b[38;5;28mfloat\u001b[39m, httpx\u001b[38;5;241m.\u001b[39mTimeout, \u001b[38;5;28;01mNone\u001b[39;00m] \u001b[38;5;241m=\u001b[39m \u001b[38;5;28;01mNone\u001b[39;00m,\n\u001b[1;32m    344\u001b[0m ) \u001b[38;5;241m-\u001b[39m\u001b[38;5;241m>\u001b[39m OrchestrationResponse:\n\u001b[1;32m    345\u001b[0m \u001b[38;5;250m    \u001b[39m\u001b[38;5;124;03m\"\"\"\u001b[39;00m\n\u001b[1;32m    346\u001b[0m \u001b[38;5;124;03m    Executes an orchestration request synchronously (non-streaming).\u001b[39;00m\n\u001b[1;32m    347\u001b[0m \n\u001b[0;32m   (...)\u001b[0m\n\u001b[1;32m    355\u001b[0m \u001b[38;5;124;03m        An OrchestrationResponse object.\u001b[39;00m\n\u001b[1;32m    356\u001b[0m \u001b[38;5;124;03m    \"\"\"\u001b[39;00m\n\u001b[0;32m--> 357\u001b[0m     \u001b[38;5;28;01mreturn\u001b[39;00m \u001b[38;5;28;43mself\u001b[39;49m\u001b[38;5;241;43m.\u001b[39;49m\u001b[43m_execute_request\u001b[49m\u001b[43m(\u001b[49m\n\u001b[1;32m    358\u001b[0m \u001b[43m        \u001b[49m\u001b[43mconfig\u001b[49m\u001b[38;5;241;43m=\u001b[39;49m\u001b[43mconfig\u001b[49m\u001b[43m \u001b[49m\u001b[38;5;129;43;01mor\u001b[39;49;00m\u001b[43m \u001b[49m\u001b[38;5;28;43mself\u001b[39;49m\u001b[38;5;241;43m.\u001b[39;49m\u001b[43mconfig\u001b[49m\u001b[43m,\u001b[49m\n\u001b[1;32m    359\u001b[0m \u001b[43m        \u001b[49m\u001b[43mtemplate_values\u001b[49m\u001b[38;5;241;43m=\u001b[39;49m\u001b[43mtemplate_values\u001b[49m\u001b[43m,\u001b[49m\n\u001b[1;32m    360\u001b[0m \u001b[43m        \u001b[49m\u001b[43mhistory\u001b[49m\u001b[38;5;241;43m=\u001b[39;49m\u001b[43mhistory\u001b[49m\u001b[43m,\u001b[49m\n\u001b[1;32m    361\u001b[0m \u001b[43m        \u001b[49m\u001b[43mstream\u001b[49m\u001b[38;5;241;43m=\u001b[39;49m\u001b[38;5;28;43;01mFalse\u001b[39;49;00m\u001b[43m,\u001b[49m\n\u001b[1;32m    362\u001b[0m \u001b[43m        \u001b[49m\u001b[43mtimeout\u001b[49m\u001b[38;5;241;43m=\u001b[39;49m\u001b[43mtimeout\u001b[49m\u001b[43m,\u001b[49m\n\u001b[1;32m    363\u001b[0m \u001b[43m    \u001b[49m\u001b[43m)\u001b[49m\n",
      "File \u001b[0;32m~/Library/Python/3.11/lib/python/site-packages/gen_ai_hub/orchestration/service.py:259\u001b[0m, in \u001b[0;36mOrchestrationService._execute_request\u001b[0;34m(self, config, template_values, history, stream, stream_options, timeout)\u001b[0m\n\u001b[1;32m    257\u001b[0m     response\u001b[38;5;241m.\u001b[39mraise_for_status()\n\u001b[1;32m    258\u001b[0m \u001b[38;5;28;01mexcept\u001b[39;00m httpx\u001b[38;5;241m.\u001b[39mHTTPStatusError \u001b[38;5;28;01mas\u001b[39;00m error:\n\u001b[0;32m--> 259\u001b[0m     \u001b[43m_handle_http_error\u001b[49m\u001b[43m(\u001b[49m\u001b[43merror\u001b[49m\u001b[43m,\u001b[49m\u001b[43m \u001b[49m\u001b[43mresponse\u001b[49m\u001b[43m)\u001b[49m\n\u001b[1;32m    261\u001b[0m data \u001b[38;5;241m=\u001b[39m response\u001b[38;5;241m.\u001b[39mjson()\n\u001b[1;32m    262\u001b[0m \u001b[38;5;28;01mreturn\u001b[39;00m dacite\u001b[38;5;241m.\u001b[39mfrom_dict(\n\u001b[1;32m    263\u001b[0m     data_class\u001b[38;5;241m=\u001b[39mOrchestrationResponse,\n\u001b[1;32m    264\u001b[0m     data\u001b[38;5;241m=\u001b[39mdata,\n\u001b[1;32m    265\u001b[0m     config\u001b[38;5;241m=\u001b[39mdacite\u001b[38;5;241m.\u001b[39mConfig(cast\u001b[38;5;241m=\u001b[39m[Enum]),\n\u001b[1;32m    266\u001b[0m )\n",
      "File \u001b[0;32m~/Library/Python/3.11/lib/python/site-packages/gen_ai_hub/orchestration/sse_client.py:281\u001b[0m, in \u001b[0;36m_handle_http_error\u001b[0;34m(error, response)\u001b[0m\n\u001b[1;32m    279\u001b[0m     \u001b[38;5;28;01mraise\u001b[39;00m error\n\u001b[1;32m    280\u001b[0m error_content \u001b[38;5;241m=\u001b[39m response\u001b[38;5;241m.\u001b[39mjson()\n\u001b[0;32m--> 281\u001b[0m \u001b[38;5;28;01mraise\u001b[39;00m OrchestrationError(\n\u001b[1;32m    282\u001b[0m     request_id\u001b[38;5;241m=\u001b[39merror_content\u001b[38;5;241m.\u001b[39mget(\u001b[38;5;124m\"\u001b[39m\u001b[38;5;124mrequest_id\u001b[39m\u001b[38;5;124m\"\u001b[39m),\n\u001b[1;32m    283\u001b[0m     message\u001b[38;5;241m=\u001b[39merror_content\u001b[38;5;241m.\u001b[39mget(\u001b[38;5;124m\"\u001b[39m\u001b[38;5;124mmessage\u001b[39m\u001b[38;5;124m\"\u001b[39m),\n\u001b[1;32m    284\u001b[0m     code\u001b[38;5;241m=\u001b[39merror_content\u001b[38;5;241m.\u001b[39mget(\u001b[38;5;124m\"\u001b[39m\u001b[38;5;124mcode\u001b[39m\u001b[38;5;124m\"\u001b[39m),\n\u001b[1;32m    285\u001b[0m     location\u001b[38;5;241m=\u001b[39merror_content\u001b[38;5;241m.\u001b[39mget(\u001b[38;5;124m\"\u001b[39m\u001b[38;5;124mlocation\u001b[39m\u001b[38;5;124m\"\u001b[39m),\n\u001b[1;32m    286\u001b[0m     module_results\u001b[38;5;241m=\u001b[39merror_content\u001b[38;5;241m.\u001b[39mget(\u001b[38;5;124m\"\u001b[39m\u001b[38;5;124mmodule_results\u001b[39m\u001b[38;5;124m\"\u001b[39m, {}),\n\u001b[1;32m    287\u001b[0m ) \u001b[38;5;28;01mfrom\u001b[39;00m \u001b[38;5;21;01merror\u001b[39;00m\n",
      "\u001b[0;31mOrchestrationError\u001b[0m: This model's maximum context length is 128000 tokens. However, your messages resulted in 296823 tokens. Please reduce the length of the messages."
     ]
    }
   ],
   "source": [
    "result = orchestration_service.run(\n",
    "    template_values=[\n",
    "        TemplateValue(\n",
    "            name=\"ingr_string\",\n",
    "            value=\"salmon, zuchinni, noodles\",\n",
    "        ),\n",
    "        TemplateValue(\n",
    "            name=\"sim_recipes\",\n",
    "            value='\\n\\n'.join(meals['ingredient_name'].tolist()*5),\n",
    "        ),\n",
    "    ]\n",
    ")\n",
    "\n",
    "print(result.orchestration_result.choices[0].message.content)"
   ]
  },
  {
   "cell_type": "markdown",
   "id": "7f116aab-49fd-4161-934c-b675172626e4",
   "metadata": {},
   "source": [
    "Clearly, we see that the recipes we have extracted exceed the model's context window. Our options are to use a model with a larger context window such as `gemini-1.5-pro` which supports up to 2 million tokens, or use RAG. However, long-context still struggle with long contexts since there is information overload. Inference costs also tend to be much higher since there are more tokens being processed."
   ]
  },
  {
   "cell_type": "markdown",
   "id": "263e8096",
   "metadata": {},
   "source": [
    "Let's proceed by loading the recipes into a HANA vector DB. First, we will establish a DB connection to HANA."
   ]
  },
  {
   "cell_type": "code",
   "execution_count": 9,
   "id": "99af79b8-1f77-4244-8528-40f1a8864e0b",
   "metadata": {},
   "outputs": [],
   "source": [
    "from hdbcli import dbapi\n",
    "\n",
    "conn = dbapi.connect(\n",
    "    address=os.environ.get(\"HANA_HOST\"),\n",
    "    port=os.environ.get(\"HANA_PORT\"),\n",
    "    user=os.environ.get(\"HANA_USER\"),\n",
    "    password=os.environ.get(\"HANA_PASSWORD\"),\n",
    "    autocommit=True,\n",
    "    sslValidateCertificate=True,\n",
    ")"
   ]
  },
  {
   "cell_type": "markdown",
   "id": "ed302d6b",
   "metadata": {},
   "source": [
    "Now, we will create a vector DB."
   ]
  },
  {
   "cell_type": "code",
   "execution_count": null,
   "id": "42698755",
   "metadata": {},
   "outputs": [],
   "source": [
    "def populate_db(db, text_chunks):\n",
    "    \"\"\"add documents to the vector db\"\"\"\n",
    "\n",
    "    # add the loaded document chunks\n",
    "    db.add_documents(text_chunks)\n",
    "\n",
    "def clear_db(conn, table):\n",
    "    cur = conn.cursor()\n",
    "    cur.execute(f'DELETE FROM {table}')\n",
    "    cur.close()\n",
    "    return True\n",
    "\n",
    "def drop_db(conn, table):\n",
    "    cur = conn.cursor()\n",
    "    cur.execute(f'DROP TABLE {table}')\n",
    "    cur.close()\n",
    "    return True\n",
    "\n",
    "def query(conn, query):\n",
    "    cur = conn.cursor()\n",
    "    cur.execute(query)\n",
    "    res = cur.fetchall()\n",
    "    cur.close()\n",
    "    return res\n",
    "\n",
    "create_q = \"\"\"CREATE COLUMN TABLE \"INGREDIENT_EMBEDDINGS\" (\n",
    "    \"VEC_TEXT\" NCLOB MEMORY THRESHOLD 1000,\n",
    "\t\"VEC_META\" NCLOB MEMORY THRESHOLD 1000,\n",
    "\t\"VEC_VECTOR\" REAL_VECTOR\n",
    "    )\n",
    "    UNLOAD PRIORITY 5 AUTO MERGE;\"\"\"\n",
    "print(drop_db(conn, 'INGREDIENT_EMBEDDINGS'))\n",
    "query(conn, create_q)"
   ]
  },
  {
   "cell_type": "markdown",
   "id": "dea8cba3",
   "metadata": {},
   "source": [
    "Now, we'll load the vector DB with meals."
   ]
  },
  {
   "cell_type": "code",
   "execution_count": 17,
   "id": "2e557f1f",
   "metadata": {},
   "outputs": [
    {
     "name": "stdout",
     "output_type": "stream",
     "text": [
      "[(0,)]\n",
      "[(285,)]\n"
     ]
    }
   ],
   "source": [
    "from gen_ai_hub.proxy.langchain.openai import OpenAIEmbeddings\n",
    "from langchain_community.vectorstores.hanavector import HanaDB\n",
    "from langchain.schema.document import Document\n",
    "\n",
    "embedding_mod = OpenAIEmbeddings(proxy_model_name='text-embedding-3-small')\n",
    "\n",
    "db = HanaDB(\n",
    "    embedding=embedding_mod, connection=conn, table_name=\"INGREDIENT_EMBEDDINGS\"\n",
    ")\n",
    "clear_db(conn, table='INGREDIENT_EMBEDDINGS')\n",
    "print(query(conn, 'SELECT COUNT(*) from INGREDIENT_EMBEDDINGS'))\n",
    "populate_db(db, [Document(page_content=row['ingredient_name'], metadata={'source': row['meal_name'], 'embedding_model': 'text-embedding-3-small', 'date': row['date'].strftime('%Y-%m-%d')}) for _, row in meals.iterrows()])\n",
    "print(query(conn, 'SELECT COUNT(*) from INGREDIENT_EMBEDDINGS'))"
   ]
  },
  {
   "cell_type": "markdown",
   "id": "37e5214d",
   "metadata": {},
   "source": [
    "Finally, let's test to make sure we can retrieve relevant meals given a query."
   ]
  },
  {
   "cell_type": "code",
   "execution_count": 32,
   "id": "2e625d46",
   "metadata": {},
   "outputs": [
    {
     "data": {
      "text/plain": [
       "[Document(metadata={'source': 'morning snack', 'embedding_model': 'text-embedding-3-small', 'date': '2025-01-20'}, page_content='Ingredients:\\nBlack pepper, 1 tbsp, ground 17 4g 0g 1g 0mg 1mg 0g 2g\\nGarlic powder, 1 tsp 10 2g 0g 1g 0mg 2mg 0g 0g\\nHomemade - Zuchinni Noodles, 200 grams 34 6g 1g 2g 0mg 16mg 5g 2g\\nShiritaki - Noodles Lowcarb, 100 gram 20 4g 0g 1g 0mg 0mg 0g 6g\\nSwad Chutney-Coriander - Chutney-Coriander, 2 tsp 9 1g 1g 0g -- 162mg 0g --\\natlantic salmon - atlantic salmon, 187.5 g 315 0g 18g 38g 0mg 53mg 0g 0g\\nhummus - Hummus, 4 tbsp 140 8g 10g 4g 0mg 260mg 2g 4g\\norganic turmeric - turmeric, 1 tsp (9g) 8 1g 0g 0g 0mg 1mg 0g 1g'),\n",
       " Document(metadata={'source': 'morning snack', 'embedding_model': 'text-embedding-3-small', 'date': '2023-10-02'}, page_content=\"Ingredients:\\nBlack pepper, 1 tbsp, ground 17 4g 0g 1g 0mg 1mg 0g 2g\\nHomemade - Zuchinni Noodles, 200 grams 34 6g 1g 2g 0mg 16mg 5g 2g\\nSwad Chutney-Coriander - Chutney-Coriander, 2 tsp 9 1g 1g 0g -- 162mg 0g --\\nTrader Giotto's Parmesan - Parmesan Cheese, 1 oz\\natlantic salmon - atlantic salmon, 187.5 g 315 0g 18g 38g 0mg 53mg 0g 0g\\nhummus - Hummus, 4 tbsp 140 8g 10g 4g 0mg 260mg 2g 4g\\norganic turmeric - turmeric, 1 tsp (9g) 8 1g 0g 0g 0mg 1mg 0g 1g\"),\n",
       " Document(metadata={'source': 'lunch', 'embedding_model': 'text-embedding-3-small', 'date': '2025-03-03'}, page_content=\"Ingredients:\\nBlack pepper, 1 tbsp, ground 17 4g 0g 1g 0mg 1mg 0g 2g\\nHomemade - Zuchinni Noodles, 200 grams 34 6g 1g 2g 0mg 16mg 5g 2g\\nShiritaki - Noodles Lowcarb, 100 gram 20 4g 0g 1g 0mg 0mg 0g 6g\\nTrader Giotto's Parmesan - Parmesan Cheese, 1 oz\\nTrader Joe's - Greek Yogurt 0% Nonfat Plain, 0.75 Cup\\natlantic salmon - atlantic salmon, 187.5 g 315 0g 18g 38g 0mg 53mg 0g 0g\\nherbie's - chipotle chilli powder, 5 gram 16 3g 1g 1g 0mg 0mg 0g 0g\\nhummus - Hummus, 4 tbsp 140 8g 10g 4g 0mg 260mg 2g 4g\"),\n",
       " Document(metadata={'source': 'dinner', 'embedding_model': 'text-embedding-3-small', 'date': '2024-12-02'}, page_content=\"Ingredients:\\nBlack pepper, 1 tbsp, ground 17 4g 0g 1g 0mg 1mg 0g 2g\\nChopped white onions - Chopped white onions, 75 g 31 6g 0g 1g 0mg 0mg 5g 0g\\nHomemade - Zuchinni Noodles, 200 grams 34 6g 1g 2g 0mg 16mg 5g 2g\\nShiritaki - Noodles Lowcarb, 100 gram 20 4g 0g 1g 0mg 0mg 0g 6g\\nSushi Ginger - Pickled Ginger, 15 g 30 7g 0g 0g 0mg 65mg 5g 0g\\nTomatoes - Cherry Tomatoes - Raw, 1 oz (28g) 13 1g 0g 0g 0mg 1mg 1g 0g\\nTrader Joe's - Organic Light Whipped Cream Cheese, 6\\natlantic salmon - atlantic salmon, 187.5 g 315 0g 18g 38g 0mg 53mg 0g 0g\\nbrown rice uncooked - brown rice uncooked, 25 gram 89 18g 1g 2g -- -- -- --\"),\n",
       " Document(metadata={'source': 'morning snack', 'embedding_model': 'text-embedding-3-small', 'date': '2024-01-15'}, page_content=\"Ingredients:\\nAvocado, 1.2 medium 288 15g 26g 4g 0mg 13mg 1g 12g\\nHomemade - Zuchinni Noodles, 200 grams 34 6g 1g 2g 0mg 16mg 5g 2g\\nTrader Joe's - Greek Yogurt 0% Nonfat Plain, 0.75 Cup\\natlantic salmon - atlantic salmon, 187.5 g 315 0g 18g 38g 0mg 53mg 0g 0g\\nhummus - Hummus, 4 tbsp 140 8g 10g 4g 0mg 260mg 2g 4g\"),\n",
       " Document(metadata={'source': 'lunch', 'embedding_model': 'text-embedding-3-small', 'date': '2023-06-05'}, page_content=\"Ingredients:\\nCastle - Cumin Seeds, 1 tsp 10 1g 0g 0g -- -- -- --\\nHomemade - Zuchinni Noodles, 200 grams 34 6g 1g 2g 0mg 16mg 5g 2g\\nOlive oil - Organic Olive Oil, 0.5 tbsp 60 0g 7g 0g 0mg 0mg 0g 0g\\nRosemary, fresh, 2 tablespoon 4 1g 0g 0g 0mg 1mg 0g 0g\\nShiritaki - Noodles Lowcarb, 50 gram 10 2g 0g 1g 0mg 0mg 0g 3g\\nTrader Giotto's Parmesan - Parmesan Cheese, 1 oz\\nTrader Joe's - Greek Yogurt 0% Nonfat Plain, 0.75 Cup\\natlantic salmon - atlantic salmon, 187.5 g 315 0g 18g 38g 0mg 53mg 0g 0g\\nherbie's - chipotle chilli powder, 5 gram 16 3g 1g 1g 0mg 0mg 0g 0g\"),\n",
       " Document(metadata={'source': 'breakfast', 'embedding_model': 'text-embedding-3-small', 'date': '2023-07-31'}, page_content=\"Ingredients:\\nBlack pepper, 1 tbsp, ground 17 4g 0g 1g 0mg 1mg 0g 2g\\nCooked , 6 oz\\nGarlic powder, 1 tsp 10 2g 0g 1g 0mg 2mg 0g 0g\\nHomemade - Zuchinni Noodles, 200 grams 34 6g 1g 2g 0mg 16mg 5g 2g\\nOlive oil - Organic Olive Oil, 1 tbsp 120 0g 14g 0g 0mg 0mg 0g 0g\\nRaw chickpeas - Chickpeas, 100 g 358 42g 6g 24g 0mg 10mg 4g 18g\\nTomatoes - Cherry Tomatoes - Raw, 1 oz (28g) 13 1g 0g 0g 0mg 1mg 1g 0g\\nTrader Giotto's Parmesan - Parmesan Cheese, 1 oz\\nherbie's - chipotle chilli powder, 5 gram 16 3g 1g 1g 0mg 0mg 0g 0g\"),\n",
       " Document(metadata={'source': 'lunch', 'embedding_model': 'text-embedding-3-small', 'date': '2022-05-09'}, page_content=\"Ingredients:\\nBlack pepper, 1 tbsp, ground 17 4g 0g 1g 0mg 1mg 0g 2g\\nCastle - Cumin Seeds, 1 tsp 10 1g 0g 0g -- -- -- --\\nGreen Chili Company - Hatch Green Chili, 22.5 g 9 2g 0g 0g 0mg 2mg 1g 0g\\nOlive oil - Organic Olive Oil, 1 tbsp 120 0g 14g 0g 0mg 0mg 0g 0g\\nShiritaki - Noodles Lowcarb, 50 gram 10 2g 0g 1g 0mg 0mg 0g 3g\\nTrader Joe's - Greek Yogurt 0% Nonfat Plain, 1.5 Cup\\nZucchini - Fresh Zucchini Raw (196 g) bk, 1.5 medium\\natlantic salmon - atlantic salmon, 187.5 g 315 0g 18g 38g 0mg 53mg 0g 0g\"),\n",
       " Document(metadata={'source': 'dinner', 'embedding_model': 'text-embedding-3-small', 'date': '2022-09-05'}, page_content='Ingredients:\\nBlack pepper, 1 tbsp, ground 17 4g 0g 1g 0mg 1mg 0g 2g\\nBlue Diamond - Whole Natural Almonds !, 1 oz 160 6g 14g 6g 0mg 0mg 1g 3g\\nOlive oil - Organic Olive Oil, 1 tbsp 120 0g 14g 0g 0mg 0mg 0g 0g\\nShiritaki - Noodles Lowcarb, 50 gram 10 2g 0g 1g 0mg 0mg 0g 3g\\nZucchini - Fresh Zucchini Raw (196 g) bk, 1.5 medium\\natlantic salmon - atlantic salmon, 187.5 g 315 0g 18g 38g 0mg 53mg 0g 0g\\norganic turmeric - turmeric, 1 tsp (9g) 8 1g 0g 0g 0mg 1mg 0g 1g'),\n",
       " Document(metadata={'source': 'dinner', 'embedding_model': 'text-embedding-3-small', 'date': '2023-10-09'}, page_content=\"Ingredients:\\nHemp Seed (Hemp Hearts) - Trader Joe's Raw Shelled,\\nHomemade - Zuchinni Noodles, 200 grams 34 6g 1g 2g 0mg 16mg 5g 2g\\nShiritaki - Noodles Lowcarb, 50 gram 10 2g 0g 1g 0mg 0mg 0g 3g\\nTrader Giotto's Parmesan - Parmesan Cheese, 1 oz\\nTrader Joe's - Greek Yogurt 0% Nonfat Plain, 1.5 Cup\\natlantic salmon - atlantic salmon, 187.5 g 315 0g 18g 38g 0mg 53mg 0g 0g\")]"
      ]
     },
     "execution_count": 32,
     "metadata": {},
     "output_type": "execute_result"
    }
   ],
   "source": [
    "def query_db(db, query, topN=10):\n",
    "    \"\"\"retrieve the nearest neighbour based on cosine similarity\"\"\"\n",
    "    docs = db.similarity_search(query, k=topN)\n",
    "    return docs\n",
    "\n",
    "query_db(db, 'salmon, zuchinni, noodles')"
   ]
  },
  {
   "cell_type": "markdown",
   "id": "816c83f9-a3bd-4e46-8c8b-3388b672cbad",
   "metadata": {},
   "source": [
    "Finally, we can test the RAG workflow with orchestration."
   ]
  },
  {
   "cell_type": "code",
   "execution_count": 30,
   "id": "901caefd",
   "metadata": {},
   "outputs": [],
   "source": [
    "def get_relevant_recipes(ingr_str):\n",
    "    rel_docs = query_db(db, ingr_str)\n",
    "    rel_docs = [d.page_content for d in rel_docs]\n",
    "    return rel_docs"
   ]
  },
  {
   "cell_type": "code",
   "execution_count": null,
   "id": "fdf112f6-ba4a-4fe6-8c52-28015d81d1e8",
   "metadata": {},
   "outputs": [],
   "source": [
    "ingr_str = 'salmon, zuchinni, noodles'\n",
    "relevant_context = get_relevant_recipes(ingr_str)\n",
    "result = orchestration_service.run(\n",
    "    template_values=[\n",
    "        TemplateValue(\n",
    "            name=\"ingr_string\",\n",
    "            value=ingr_str,\n",
    "        ),\n",
    "        TemplateValue(\n",
    "            name=\"sim_recipes\",\n",
    "            value='\\n\\n'.join(relevant_context),\n",
    "        ),\n",
    "    ]\n",
    ")\n",
    "\n",
    "print(result.orchestration_result.choices[0].message.content)"
   ]
  },
  {
   "cell_type": "markdown",
   "id": "bf7bc8ae-4ed2-468a-9094-7c842bd22ee8",
   "metadata": {},
   "source": [
    "# Summary"
   ]
  },
  {
   "cell_type": "markdown",
   "id": "24ae4510-d8b7-41cc-b8c6-9b7268137411",
   "metadata": {},
   "source": [
    "In this exercise, you learned how RAG can be used to overcome the context window limits of LLMs. In addition, we learned how to leverage HANA's vector engine to set up a RAG pipeline. Continue to [Exercise 7](./agents.ipynb) where you will learn how to build agentic AI workflows using the Langgraph framework in Python!"
   ]
  }
 ],
 "metadata": {
  "kernelspec": {
   "display_name": "Python 3 (ipykernel)",
   "language": "python",
   "name": "python3"
  },
  "language_info": {
   "codemirror_mode": {
    "name": "ipython",
    "version": 3
   },
   "file_extension": ".py",
   "mimetype": "text/x-python",
   "name": "python",
   "nbconvert_exporter": "python",
   "pygments_lexer": "ipython3",
   "version": "3.11.7"
  }
 },
 "nbformat": 4,
 "nbformat_minor": 5
}
