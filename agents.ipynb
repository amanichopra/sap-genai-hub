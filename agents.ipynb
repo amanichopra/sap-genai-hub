{
 "cells": [
  {
   "cell_type": "markdown",
   "id": "0e97e030",
   "metadata": {},
   "source": [
    "<a target=\"_blank\" href=\"https://colab.research.google.com/github/amanichopra/sap-genai-hub/blob/main/agents.ipynb\">\n",
    "  <img src=\"https://colab.research.google.com/assets/colab-badge.svg\" alt=\"Open In Colab\"/>\n",
    "</a>"
   ]
  },
  {
   "cell_type": "markdown",
   "id": "637c87e6-ce3e-418a-811a-58edb1793d1d",
   "metadata": {},
   "source": [
    "# Preparation"
   ]
  },
  {
   "cell_type": "markdown",
   "id": "bd414455",
   "metadata": {},
   "source": [
    "## Install Libraries"
   ]
  },
  {
   "cell_type": "code",
   "execution_count": 35,
   "id": "9d234a63",
   "metadata": {},
   "outputs": [
    {
     "name": "stdout",
     "output_type": "stream",
     "text": [
      "Defaulting to user installation because normal site-packages is not writeable\n",
      "Requirement already satisfied: generative-ai-hub-sdk[all] in /Users/I576044/Library/Python/3.11/lib/python/site-packages (4.10.2)\n",
      "Requirement already satisfied: overloading==0.5.0 in /Library/Frameworks/Python.framework/Versions/3.11/lib/python3.11/site-packages (from generative-ai-hub-sdk[all]) (0.5.0)\n",
      "Requirement already satisfied: packaging>=23.2 in /Users/I576044/Library/Python/3.11/lib/python/site-packages (from generative-ai-hub-sdk[all]) (23.2)\n",
      "Requirement already satisfied: openai>=1.58.1 in /Users/I576044/Library/Python/3.11/lib/python/site-packages (from generative-ai-hub-sdk[all]) (1.70.0)\n",
      "Requirement already satisfied: ai-core-sdk>=2.5.7 in /Users/I576044/Library/Python/3.11/lib/python/site-packages (from generative-ai-hub-sdk[all]) (2.5.7)\n",
      "Requirement already satisfied: dacite>=1.8.1 in /Library/Frameworks/Python.framework/Versions/3.11/lib/python3.11/site-packages (from generative-ai-hub-sdk[all]) (1.8.1)\n",
      "Requirement already satisfied: click>=8.1.7 in /Users/I576044/Library/Python/3.11/lib/python/site-packages (from generative-ai-hub-sdk[all]) (8.1.8)\n",
      "Requirement already satisfied: httpx>=0.27.0 in /Users/I576044/Library/Python/3.11/lib/python/site-packages (from generative-ai-hub-sdk[all]) (0.28.1)\n",
      "Requirement already satisfied: pydantic==2.10.6 in /Users/I576044/Library/Python/3.11/lib/python/site-packages (from generative-ai-hub-sdk[all]) (2.10.6)\n",
      "Requirement already satisfied: boto3==1.37.0 in /Users/I576044/Library/Python/3.11/lib/python/site-packages (from generative-ai-hub-sdk[all]) (1.37.0)\n",
      "Requirement already satisfied: langchain-aws==0.2.15 in /Users/I576044/Library/Python/3.11/lib/python/site-packages (from generative-ai-hub-sdk[all]) (0.2.15)\n",
      "Requirement already satisfied: google-cloud-aiplatform==1.83.0 in /Users/I576044/Library/Python/3.11/lib/python/site-packages (from generative-ai-hub-sdk[all]) (1.83.0)\n",
      "Requirement already satisfied: aioboto3==14.1.0 in /Users/I576044/Library/Python/3.11/lib/python/site-packages (from generative-ai-hub-sdk[all]) (14.1.0)\n",
      "Requirement already satisfied: langchain~=0.3.0 in /Users/I576044/Library/Python/3.11/lib/python/site-packages (from generative-ai-hub-sdk[all]) (0.3.22)\n",
      "Requirement already satisfied: langchain-community~=0.3.0 in /Users/I576044/Library/Python/3.11/lib/python/site-packages (from generative-ai-hub-sdk[all]) (0.3.20)\n",
      "Requirement already satisfied: langchain-google-vertexai==2.0.15 in /Users/I576044/Library/Python/3.11/lib/python/site-packages (from generative-ai-hub-sdk[all]) (2.0.15)\n",
      "Requirement already satisfied: langchain-openai>=0.3.7 in /Users/I576044/Library/Python/3.11/lib/python/site-packages (from generative-ai-hub-sdk[all]) (0.3.11)\n",
      "Requirement already satisfied: aiobotocore==2.21.1 in /Users/I576044/Library/Python/3.11/lib/python/site-packages (from aiobotocore[boto3]==2.21.1->aioboto3==14.1.0->generative-ai-hub-sdk[all]) (2.21.1)\n",
      "Requirement already satisfied: aiofiles>=23.2.1 in /Users/I576044/Library/Python/3.11/lib/python/site-packages (from aioboto3==14.1.0->generative-ai-hub-sdk[all]) (24.1.0)\n",
      "Requirement already satisfied: botocore<1.38.0,>=1.37.0 in /Users/I576044/Library/Python/3.11/lib/python/site-packages (from boto3==1.37.0->generative-ai-hub-sdk[all]) (1.37.1)\n",
      "Requirement already satisfied: jmespath<2.0.0,>=0.7.1 in /Library/Frameworks/Python.framework/Versions/3.11/lib/python3.11/site-packages (from boto3==1.37.0->generative-ai-hub-sdk[all]) (1.0.1)\n",
      "Requirement already satisfied: s3transfer<0.12.0,>=0.11.0 in /Users/I576044/Library/Python/3.11/lib/python/site-packages (from boto3==1.37.0->generative-ai-hub-sdk[all]) (0.11.3)\n",
      "Requirement already satisfied: google-api-core!=2.0.*,!=2.1.*,!=2.2.*,!=2.3.*,!=2.4.*,!=2.5.*,!=2.6.*,!=2.7.*,<3.0.0dev,>=1.34.1 in /Library/Frameworks/Python.framework/Versions/3.11/lib/python3.11/site-packages (from google-api-core[grpc]!=2.0.*,!=2.1.*,!=2.2.*,!=2.3.*,!=2.4.*,!=2.5.*,!=2.6.*,!=2.7.*,<3.0.0dev,>=1.34.1->google-cloud-aiplatform==1.83.0->generative-ai-hub-sdk[all]) (2.23.0)\n",
      "Requirement already satisfied: google-auth<3.0.0dev,>=2.14.1 in /Library/Frameworks/Python.framework/Versions/3.11/lib/python3.11/site-packages (from google-cloud-aiplatform==1.83.0->generative-ai-hub-sdk[all]) (2.36.0)\n",
      "Requirement already satisfied: proto-plus<2.0.0dev,>=1.22.3 in /Library/Frameworks/Python.framework/Versions/3.11/lib/python3.11/site-packages (from google-cloud-aiplatform==1.83.0->generative-ai-hub-sdk[all]) (1.25.0)\n",
      "Requirement already satisfied: protobuf!=4.21.0,!=4.21.1,!=4.21.2,!=4.21.3,!=4.21.4,!=4.21.5,<6.0.0dev,>=3.20.2 in /Library/Frameworks/Python.framework/Versions/3.11/lib/python3.11/site-packages (from google-cloud-aiplatform==1.83.0->generative-ai-hub-sdk[all]) (4.25.5)\n",
      "Requirement already satisfied: google-cloud-storage<3.0.0dev,>=1.32.0 in /Library/Frameworks/Python.framework/Versions/3.11/lib/python3.11/site-packages (from google-cloud-aiplatform==1.83.0->generative-ai-hub-sdk[all]) (2.18.2)\n",
      "Requirement already satisfied: google-cloud-bigquery!=3.20.0,<4.0.0dev,>=1.15.0 in /Library/Frameworks/Python.framework/Versions/3.11/lib/python3.11/site-packages (from google-cloud-aiplatform==1.83.0->generative-ai-hub-sdk[all]) (3.27.0)\n",
      "Requirement already satisfied: google-cloud-resource-manager<3.0.0dev,>=1.3.3 in /Library/Frameworks/Python.framework/Versions/3.11/lib/python3.11/site-packages (from google-cloud-aiplatform==1.83.0->generative-ai-hub-sdk[all]) (1.13.1)\n",
      "Requirement already satisfied: shapely<3.0.0dev in /Library/Frameworks/Python.framework/Versions/3.11/lib/python3.11/site-packages (from google-cloud-aiplatform==1.83.0->generative-ai-hub-sdk[all]) (2.0.6)\n",
      "Requirement already satisfied: typing-extensions in /Library/Frameworks/Python.framework/Versions/3.11/lib/python3.11/site-packages (from google-cloud-aiplatform==1.83.0->generative-ai-hub-sdk[all]) (4.12.2)\n",
      "Requirement already satisfied: docstring-parser<1 in /Library/Frameworks/Python.framework/Versions/3.11/lib/python3.11/site-packages (from google-cloud-aiplatform==1.83.0->generative-ai-hub-sdk[all]) (0.16)\n",
      "Requirement already satisfied: langchain-core<0.4.0,>=0.3.27 in /Users/I576044/Library/Python/3.11/lib/python/site-packages (from langchain-aws==0.2.15->generative-ai-hub-sdk[all]) (0.3.49)\n",
      "Requirement already satisfied: numpy<2,>=1 in /Library/Frameworks/Python.framework/Versions/3.11/lib/python3.11/site-packages (from langchain-aws==0.2.15->generative-ai-hub-sdk[all]) (1.26.3)\n",
      "Requirement already satisfied: httpx-sse<0.5.0,>=0.4.0 in /Users/I576044/Library/Python/3.11/lib/python/site-packages (from langchain-google-vertexai==2.0.15->generative-ai-hub-sdk[all]) (0.4.0)\n",
      "Requirement already satisfied: annotated-types>=0.6.0 in /Library/Frameworks/Python.framework/Versions/3.11/lib/python3.11/site-packages (from pydantic==2.10.6->generative-ai-hub-sdk[all]) (0.6.0)\n",
      "Requirement already satisfied: pydantic-core==2.27.2 in /Users/I576044/Library/Python/3.11/lib/python/site-packages (from pydantic==2.10.6->generative-ai-hub-sdk[all]) (2.27.2)\n",
      "Requirement already satisfied: aiohttp<4.0.0,>=3.9.2 in /Library/Frameworks/Python.framework/Versions/3.11/lib/python3.11/site-packages (from aiobotocore==2.21.1->aiobotocore[boto3]==2.21.1->aioboto3==14.1.0->generative-ai-hub-sdk[all]) (3.11.2)\n",
      "Requirement already satisfied: aioitertools<1.0.0,>=0.5.1 in /Users/I576044/Library/Python/3.11/lib/python/site-packages (from aiobotocore==2.21.1->aiobotocore[boto3]==2.21.1->aioboto3==14.1.0->generative-ai-hub-sdk[all]) (0.12.0)\n",
      "Requirement already satisfied: python-dateutil<3.0.0,>=2.1 in /Library/Frameworks/Python.framework/Versions/3.11/lib/python3.11/site-packages (from aiobotocore==2.21.1->aiobotocore[boto3]==2.21.1->aioboto3==14.1.0->generative-ai-hub-sdk[all]) (2.9.0.post0)\n",
      "Requirement already satisfied: multidict<7.0.0,>=6.0.0 in /Library/Frameworks/Python.framework/Versions/3.11/lib/python3.11/site-packages (from aiobotocore==2.21.1->aiobotocore[boto3]==2.21.1->aioboto3==14.1.0->generative-ai-hub-sdk[all]) (6.1.0)\n",
      "Requirement already satisfied: wrapt<2.0.0,>=1.10.10 in /Library/Frameworks/Python.framework/Versions/3.11/lib/python3.11/site-packages (from aiobotocore==2.21.1->aiobotocore[boto3]==2.21.1->aioboto3==14.1.0->generative-ai-hub-sdk[all]) (1.16.0)\n",
      "Requirement already satisfied: ai-api-client-sdk==2.4.6 in /Users/I576044/Library/Python/3.11/lib/python/site-packages (from ai-core-sdk>=2.5.7->generative-ai-hub-sdk[all]) (2.4.6)\n",
      "Requirement already satisfied: aenum~=3.1 in /Library/Frameworks/Python.framework/Versions/3.11/lib/python3.11/site-packages (from ai-api-client-sdk==2.4.6->ai-core-sdk>=2.5.7->generative-ai-hub-sdk[all]) (3.1.15)\n",
      "Requirement already satisfied: pyhumps~=3.0 in /Library/Frameworks/Python.framework/Versions/3.11/lib/python3.11/site-packages (from ai-api-client-sdk==2.4.6->ai-core-sdk>=2.5.7->generative-ai-hub-sdk[all]) (3.8.0)\n",
      "Requirement already satisfied: requests<3.0 in /Library/Frameworks/Python.framework/Versions/3.11/lib/python3.11/site-packages (from ai-api-client-sdk==2.4.6->ai-core-sdk>=2.5.7->generative-ai-hub-sdk[all]) (2.31.0)\n",
      "Requirement already satisfied: anyio in /Library/Frameworks/Python.framework/Versions/3.11/lib/python3.11/site-packages (from httpx>=0.27.0->generative-ai-hub-sdk[all]) (4.2.0)\n",
      "Requirement already satisfied: certifi in /Library/Frameworks/Python.framework/Versions/3.11/lib/python3.11/site-packages (from httpx>=0.27.0->generative-ai-hub-sdk[all]) (2024.2.2)\n",
      "Requirement already satisfied: httpcore==1.* in /Library/Frameworks/Python.framework/Versions/3.11/lib/python3.11/site-packages (from httpx>=0.27.0->generative-ai-hub-sdk[all]) (1.0.2)\n",
      "Requirement already satisfied: idna in /Library/Frameworks/Python.framework/Versions/3.11/lib/python3.11/site-packages (from httpx>=0.27.0->generative-ai-hub-sdk[all]) (3.6)\n",
      "Requirement already satisfied: h11<0.15,>=0.13 in /Library/Frameworks/Python.framework/Versions/3.11/lib/python3.11/site-packages (from httpcore==1.*->httpx>=0.27.0->generative-ai-hub-sdk[all]) (0.14.0)\n",
      "Requirement already satisfied: langchain-text-splitters<1.0.0,>=0.3.7 in /Users/I576044/Library/Python/3.11/lib/python/site-packages (from langchain~=0.3.0->generative-ai-hub-sdk[all]) (0.3.7)\n",
      "Requirement already satisfied: langsmith<0.4,>=0.1.17 in /Library/Frameworks/Python.framework/Versions/3.11/lib/python3.11/site-packages (from langchain~=0.3.0->generative-ai-hub-sdk[all]) (0.1.143)\n",
      "Requirement already satisfied: SQLAlchemy<3,>=1.4 in /Users/I576044/Library/Python/3.11/lib/python/site-packages (from langchain~=0.3.0->generative-ai-hub-sdk[all]) (2.0.40)\n",
      "Requirement already satisfied: PyYAML>=5.3 in /Library/Frameworks/Python.framework/Versions/3.11/lib/python3.11/site-packages (from langchain~=0.3.0->generative-ai-hub-sdk[all]) (6.0.1)\n",
      "Requirement already satisfied: tenacity!=8.4.0,<10,>=8.1.0 in /Library/Frameworks/Python.framework/Versions/3.11/lib/python3.11/site-packages (from langchain-community~=0.3.0->generative-ai-hub-sdk[all]) (8.2.3)\n",
      "Requirement already satisfied: dataclasses-json<0.7,>=0.5.7 in /Library/Frameworks/Python.framework/Versions/3.11/lib/python3.11/site-packages (from langchain-community~=0.3.0->generative-ai-hub-sdk[all]) (0.6.7)\n",
      "Requirement already satisfied: pydantic-settings<3.0.0,>=2.4.0 in /Users/I576044/Library/Python/3.11/lib/python/site-packages (from langchain-community~=0.3.0->generative-ai-hub-sdk[all]) (2.8.1)\n",
      "Requirement already satisfied: tiktoken<1,>=0.7 in /Library/Frameworks/Python.framework/Versions/3.11/lib/python3.11/site-packages (from langchain-openai>=0.3.7->generative-ai-hub-sdk[all]) (0.8.0)\n",
      "Requirement already satisfied: distro<2,>=1.7.0 in /Library/Frameworks/Python.framework/Versions/3.11/lib/python3.11/site-packages (from openai>=1.58.1->generative-ai-hub-sdk[all]) (1.9.0)\n",
      "Requirement already satisfied: jiter<1,>=0.4.0 in /Library/Frameworks/Python.framework/Versions/3.11/lib/python3.11/site-packages (from openai>=1.58.1->generative-ai-hub-sdk[all]) (0.7.1)\n",
      "Requirement already satisfied: sniffio in /Library/Frameworks/Python.framework/Versions/3.11/lib/python3.11/site-packages (from openai>=1.58.1->generative-ai-hub-sdk[all]) (1.3.0)\n",
      "Requirement already satisfied: tqdm>4 in /Library/Frameworks/Python.framework/Versions/3.11/lib/python3.11/site-packages (from openai>=1.58.1->generative-ai-hub-sdk[all]) (4.66.2)\n",
      "Requirement already satisfied: aiohappyeyeballs>=2.3.0 in /Library/Frameworks/Python.framework/Versions/3.11/lib/python3.11/site-packages (from aiohttp<4.0.0,>=3.9.2->aiobotocore==2.21.1->aiobotocore[boto3]==2.21.1->aioboto3==14.1.0->generative-ai-hub-sdk[all]) (2.4.3)\n",
      "Requirement already satisfied: aiosignal>=1.1.2 in /Library/Frameworks/Python.framework/Versions/3.11/lib/python3.11/site-packages (from aiohttp<4.0.0,>=3.9.2->aiobotocore==2.21.1->aiobotocore[boto3]==2.21.1->aioboto3==14.1.0->generative-ai-hub-sdk[all]) (1.3.1)\n",
      "Requirement already satisfied: attrs>=17.3.0 in /Library/Frameworks/Python.framework/Versions/3.11/lib/python3.11/site-packages (from aiohttp<4.0.0,>=3.9.2->aiobotocore==2.21.1->aiobotocore[boto3]==2.21.1->aioboto3==14.1.0->generative-ai-hub-sdk[all]) (23.2.0)\n",
      "Requirement already satisfied: frozenlist>=1.1.1 in /Library/Frameworks/Python.framework/Versions/3.11/lib/python3.11/site-packages (from aiohttp<4.0.0,>=3.9.2->aiobotocore==2.21.1->aiobotocore[boto3]==2.21.1->aioboto3==14.1.0->generative-ai-hub-sdk[all]) (1.5.0)\n",
      "Requirement already satisfied: propcache>=0.2.0 in /Library/Frameworks/Python.framework/Versions/3.11/lib/python3.11/site-packages (from aiohttp<4.0.0,>=3.9.2->aiobotocore==2.21.1->aiobotocore[boto3]==2.21.1->aioboto3==14.1.0->generative-ai-hub-sdk[all]) (0.2.0)\n",
      "Requirement already satisfied: yarl<2.0,>=1.17.0 in /Library/Frameworks/Python.framework/Versions/3.11/lib/python3.11/site-packages (from aiohttp<4.0.0,>=3.9.2->aiobotocore==2.21.1->aiobotocore[boto3]==2.21.1->aioboto3==14.1.0->generative-ai-hub-sdk[all]) (1.17.2)\n",
      "Requirement already satisfied: urllib3!=2.2.0,<3,>=1.25.4 in /Library/Frameworks/Python.framework/Versions/3.11/lib/python3.11/site-packages (from botocore<1.38.0,>=1.37.0->boto3==1.37.0->generative-ai-hub-sdk[all]) (2.2.3)\n",
      "Requirement already satisfied: marshmallow<4.0.0,>=3.18.0 in /Library/Frameworks/Python.framework/Versions/3.11/lib/python3.11/site-packages (from dataclasses-json<0.7,>=0.5.7->langchain-community~=0.3.0->generative-ai-hub-sdk[all]) (3.23.1)\n",
      "Requirement already satisfied: typing-inspect<1,>=0.4.0 in /Library/Frameworks/Python.framework/Versions/3.11/lib/python3.11/site-packages (from dataclasses-json<0.7,>=0.5.7->langchain-community~=0.3.0->generative-ai-hub-sdk[all]) (0.9.0)\n",
      "Requirement already satisfied: googleapis-common-protos<2.0.dev0,>=1.56.2 in /Library/Frameworks/Python.framework/Versions/3.11/lib/python3.11/site-packages (from google-api-core!=2.0.*,!=2.1.*,!=2.2.*,!=2.3.*,!=2.4.*,!=2.5.*,!=2.6.*,!=2.7.*,<3.0.0dev,>=1.34.1->google-api-core[grpc]!=2.0.*,!=2.1.*,!=2.2.*,!=2.3.*,!=2.4.*,!=2.5.*,!=2.6.*,!=2.7.*,<3.0.0dev,>=1.34.1->google-cloud-aiplatform==1.83.0->generative-ai-hub-sdk[all]) (1.66.0)\n",
      "Requirement already satisfied: grpcio<2.0dev,>=1.33.2 in /Library/Frameworks/Python.framework/Versions/3.11/lib/python3.11/site-packages (from google-api-core[grpc]!=2.0.*,!=2.1.*,!=2.2.*,!=2.3.*,!=2.4.*,!=2.5.*,!=2.6.*,!=2.7.*,<3.0.0dev,>=1.34.1->google-cloud-aiplatform==1.83.0->generative-ai-hub-sdk[all]) (1.68.0)\n",
      "Requirement already satisfied: grpcio-status<2.0.dev0,>=1.33.2 in /Library/Frameworks/Python.framework/Versions/3.11/lib/python3.11/site-packages (from google-api-core[grpc]!=2.0.*,!=2.1.*,!=2.2.*,!=2.3.*,!=2.4.*,!=2.5.*,!=2.6.*,!=2.7.*,<3.0.0dev,>=1.34.1->google-cloud-aiplatform==1.83.0->generative-ai-hub-sdk[all]) (1.62.3)\n",
      "Requirement already satisfied: cachetools<6.0,>=2.0.0 in /Library/Frameworks/Python.framework/Versions/3.11/lib/python3.11/site-packages (from google-auth<3.0.0dev,>=2.14.1->google-cloud-aiplatform==1.83.0->generative-ai-hub-sdk[all]) (5.5.0)\n",
      "Requirement already satisfied: pyasn1-modules>=0.2.1 in /Library/Frameworks/Python.framework/Versions/3.11/lib/python3.11/site-packages (from google-auth<3.0.0dev,>=2.14.1->google-cloud-aiplatform==1.83.0->generative-ai-hub-sdk[all]) (0.4.1)\n",
      "Requirement already satisfied: rsa<5,>=3.1.4 in /Library/Frameworks/Python.framework/Versions/3.11/lib/python3.11/site-packages (from google-auth<3.0.0dev,>=2.14.1->google-cloud-aiplatform==1.83.0->generative-ai-hub-sdk[all]) (4.9)\n",
      "Requirement already satisfied: google-cloud-core<3.0.0dev,>=2.4.1 in /Library/Frameworks/Python.framework/Versions/3.11/lib/python3.11/site-packages (from google-cloud-bigquery!=3.20.0,<4.0.0dev,>=1.15.0->google-cloud-aiplatform==1.83.0->generative-ai-hub-sdk[all]) (2.4.1)\n",
      "Requirement already satisfied: google-resumable-media<3.0dev,>=2.0.0 in /Library/Frameworks/Python.framework/Versions/3.11/lib/python3.11/site-packages (from google-cloud-bigquery!=3.20.0,<4.0.0dev,>=1.15.0->google-cloud-aiplatform==1.83.0->generative-ai-hub-sdk[all]) (2.7.2)\n",
      "Requirement already satisfied: grpc-google-iam-v1<1.0.0dev,>=0.12.4 in /Library/Frameworks/Python.framework/Versions/3.11/lib/python3.11/site-packages (from google-cloud-resource-manager<3.0.0dev,>=1.3.3->google-cloud-aiplatform==1.83.0->generative-ai-hub-sdk[all]) (0.13.1)\n",
      "Requirement already satisfied: google-crc32c<2.0dev,>=1.0 in /Library/Frameworks/Python.framework/Versions/3.11/lib/python3.11/site-packages (from google-cloud-storage<3.0.0dev,>=1.32.0->google-cloud-aiplatform==1.83.0->generative-ai-hub-sdk[all]) (1.6.0)\n",
      "Requirement already satisfied: jsonpatch<2.0,>=1.33 in /Library/Frameworks/Python.framework/Versions/3.11/lib/python3.11/site-packages (from langchain-core<0.4.0,>=0.3.27->langchain-aws==0.2.15->generative-ai-hub-sdk[all]) (1.33)\n",
      "Requirement already satisfied: orjson<4.0.0,>=3.9.14 in /Library/Frameworks/Python.framework/Versions/3.11/lib/python3.11/site-packages (from langsmith<0.4,>=0.1.17->langchain~=0.3.0->generative-ai-hub-sdk[all]) (3.10.11)\n",
      "Requirement already satisfied: requests-toolbelt<2.0.0,>=1.0.0 in /Library/Frameworks/Python.framework/Versions/3.11/lib/python3.11/site-packages (from langsmith<0.4,>=0.1.17->langchain~=0.3.0->generative-ai-hub-sdk[all]) (1.0.0)\n",
      "Requirement already satisfied: python-dotenv>=0.21.0 in /Library/Frameworks/Python.framework/Versions/3.11/lib/python3.11/site-packages (from pydantic-settings<3.0.0,>=2.4.0->langchain-community~=0.3.0->generative-ai-hub-sdk[all]) (1.0.1)\n",
      "Requirement already satisfied: charset-normalizer<4,>=2 in /Library/Frameworks/Python.framework/Versions/3.11/lib/python3.11/site-packages (from requests<3.0->ai-api-client-sdk==2.4.6->ai-core-sdk>=2.5.7->generative-ai-hub-sdk[all]) (3.3.2)\n",
      "Requirement already satisfied: regex>=2022.1.18 in /Library/Frameworks/Python.framework/Versions/3.11/lib/python3.11/site-packages (from tiktoken<1,>=0.7->langchain-openai>=0.3.7->generative-ai-hub-sdk[all]) (2023.12.25)\n",
      "Requirement already satisfied: jsonpointer>=1.9 in /Users/I576044/Library/Python/3.11/lib/python/site-packages (from jsonpatch<2.0,>=1.33->langchain-core<0.4.0,>=0.3.27->langchain-aws==0.2.15->generative-ai-hub-sdk[all]) (2.4)\n",
      "Requirement already satisfied: pyasn1<0.7.0,>=0.4.6 in /Library/Frameworks/Python.framework/Versions/3.11/lib/python3.11/site-packages (from pyasn1-modules>=0.2.1->google-auth<3.0.0dev,>=2.14.1->google-cloud-aiplatform==1.83.0->generative-ai-hub-sdk[all]) (0.6.1)\n",
      "Requirement already satisfied: six>=1.5 in /Library/Frameworks/Python.framework/Versions/3.11/lib/python3.11/site-packages (from python-dateutil<3.0.0,>=2.1->aiobotocore==2.21.1->aiobotocore[boto3]==2.21.1->aioboto3==14.1.0->generative-ai-hub-sdk[all]) (1.16.0)\n",
      "Requirement already satisfied: mypy-extensions>=0.3.0 in /Library/Frameworks/Python.framework/Versions/3.11/lib/python3.11/site-packages (from typing-inspect<1,>=0.4.0->dataclasses-json<0.7,>=0.5.7->langchain-community~=0.3.0->generative-ai-hub-sdk[all]) (1.0.0)\n",
      "\n",
      "\u001b[1m[\u001b[0m\u001b[34;49mnotice\u001b[0m\u001b[1;39;49m]\u001b[0m\u001b[39;49m A new release of pip is available: \u001b[0m\u001b[31;49m24.0\u001b[0m\u001b[39;49m -> \u001b[0m\u001b[32;49m25.0.1\u001b[0m\n",
      "\u001b[1m[\u001b[0m\u001b[34;49mnotice\u001b[0m\u001b[1;39;49m]\u001b[0m\u001b[39;49m To update, run: \u001b[0m\u001b[32;49mpip install --upgrade pip\u001b[0m\n",
      "Defaulting to user installation because normal site-packages is not writeable\n",
      "Requirement already satisfied: pdfplumber in /Library/Frameworks/Python.framework/Versions/3.11/lib/python3.11/site-packages (0.11.6)\n",
      "Requirement already satisfied: pdfminer.six==20250327 in /Library/Frameworks/Python.framework/Versions/3.11/lib/python3.11/site-packages (from pdfplumber) (20250327)\n",
      "Requirement already satisfied: Pillow>=9.1 in /Library/Frameworks/Python.framework/Versions/3.11/lib/python3.11/site-packages (from pdfplumber) (10.2.0)\n",
      "Requirement already satisfied: pypdfium2>=4.18.0 in /Library/Frameworks/Python.framework/Versions/3.11/lib/python3.11/site-packages (from pdfplumber) (4.30.1)\n",
      "Requirement already satisfied: charset-normalizer>=2.0.0 in /Library/Frameworks/Python.framework/Versions/3.11/lib/python3.11/site-packages (from pdfminer.six==20250327->pdfplumber) (3.3.2)\n",
      "Requirement already satisfied: cryptography>=36.0.0 in /Library/Frameworks/Python.framework/Versions/3.11/lib/python3.11/site-packages (from pdfminer.six==20250327->pdfplumber) (42.0.5)\n",
      "Requirement already satisfied: cffi>=1.12 in /Users/I576044/Library/Python/3.11/lib/python/site-packages (from cryptography>=36.0.0->pdfminer.six==20250327->pdfplumber) (1.16.0)\n",
      "Requirement already satisfied: pycparser in /Users/I576044/Library/Python/3.11/lib/python/site-packages (from cffi>=1.12->cryptography>=36.0.0->pdfminer.six==20250327->pdfplumber) (2.22)\n",
      "\n",
      "\u001b[1m[\u001b[0m\u001b[34;49mnotice\u001b[0m\u001b[1;39;49m]\u001b[0m\u001b[39;49m A new release of pip is available: \u001b[0m\u001b[31;49m24.0\u001b[0m\u001b[39;49m -> \u001b[0m\u001b[32;49m25.0.1\u001b[0m\n",
      "\u001b[1m[\u001b[0m\u001b[34;49mnotice\u001b[0m\u001b[1;39;49m]\u001b[0m\u001b[39;49m To update, run: \u001b[0m\u001b[32;49mpip install --upgrade pip\u001b[0m\n",
      "Defaulting to user installation because normal site-packages is not writeable\n",
      "Requirement already satisfied: hdbcli in /Library/Frameworks/Python.framework/Versions/3.11/lib/python3.11/site-packages (2.22.32)\n",
      "\n",
      "\u001b[1m[\u001b[0m\u001b[34;49mnotice\u001b[0m\u001b[1;39;49m]\u001b[0m\u001b[39;49m A new release of pip is available: \u001b[0m\u001b[31;49m24.0\u001b[0m\u001b[39;49m -> \u001b[0m\u001b[32;49m25.0.1\u001b[0m\n",
      "\u001b[1m[\u001b[0m\u001b[34;49mnotice\u001b[0m\u001b[1;39;49m]\u001b[0m\u001b[39;49m To update, run: \u001b[0m\u001b[32;49mpip install --upgrade pip\u001b[0m\n",
      "Defaulting to user installation because normal site-packages is not writeable\n",
      "Requirement already satisfied: langchain in /Users/I576044/Library/Python/3.11/lib/python/site-packages (0.3.22)\n",
      "Requirement already satisfied: langchain-core<1.0.0,>=0.3.49 in /Users/I576044/Library/Python/3.11/lib/python/site-packages (from langchain) (0.3.49)\n",
      "Requirement already satisfied: langchain-text-splitters<1.0.0,>=0.3.7 in /Users/I576044/Library/Python/3.11/lib/python/site-packages (from langchain) (0.3.7)\n",
      "Requirement already satisfied: langsmith<0.4,>=0.1.17 in /Library/Frameworks/Python.framework/Versions/3.11/lib/python3.11/site-packages (from langchain) (0.1.143)\n",
      "Requirement already satisfied: pydantic<3.0.0,>=2.7.4 in /Users/I576044/Library/Python/3.11/lib/python/site-packages (from langchain) (2.10.6)\n",
      "Requirement already satisfied: SQLAlchemy<3,>=1.4 in /Users/I576044/Library/Python/3.11/lib/python/site-packages (from langchain) (2.0.40)\n",
      "Requirement already satisfied: requests<3,>=2 in /Library/Frameworks/Python.framework/Versions/3.11/lib/python3.11/site-packages (from langchain) (2.31.0)\n",
      "Requirement already satisfied: PyYAML>=5.3 in /Library/Frameworks/Python.framework/Versions/3.11/lib/python3.11/site-packages (from langchain) (6.0.1)\n",
      "Requirement already satisfied: tenacity!=8.4.0,<10.0.0,>=8.1.0 in /Library/Frameworks/Python.framework/Versions/3.11/lib/python3.11/site-packages (from langchain-core<1.0.0,>=0.3.49->langchain) (8.2.3)\n",
      "Requirement already satisfied: jsonpatch<2.0,>=1.33 in /Library/Frameworks/Python.framework/Versions/3.11/lib/python3.11/site-packages (from langchain-core<1.0.0,>=0.3.49->langchain) (1.33)\n",
      "Requirement already satisfied: packaging<25,>=23.2 in /Users/I576044/Library/Python/3.11/lib/python/site-packages (from langchain-core<1.0.0,>=0.3.49->langchain) (23.2)\n",
      "Requirement already satisfied: typing-extensions>=4.7 in /Library/Frameworks/Python.framework/Versions/3.11/lib/python3.11/site-packages (from langchain-core<1.0.0,>=0.3.49->langchain) (4.12.2)\n",
      "Requirement already satisfied: httpx<1,>=0.23.0 in /Users/I576044/Library/Python/3.11/lib/python/site-packages (from langsmith<0.4,>=0.1.17->langchain) (0.28.1)\n",
      "Requirement already satisfied: orjson<4.0.0,>=3.9.14 in /Library/Frameworks/Python.framework/Versions/3.11/lib/python3.11/site-packages (from langsmith<0.4,>=0.1.17->langchain) (3.10.11)\n",
      "Requirement already satisfied: requests-toolbelt<2.0.0,>=1.0.0 in /Library/Frameworks/Python.framework/Versions/3.11/lib/python3.11/site-packages (from langsmith<0.4,>=0.1.17->langchain) (1.0.0)\n",
      "Requirement already satisfied: annotated-types>=0.6.0 in /Library/Frameworks/Python.framework/Versions/3.11/lib/python3.11/site-packages (from pydantic<3.0.0,>=2.7.4->langchain) (0.6.0)\n",
      "Requirement already satisfied: pydantic-core==2.27.2 in /Users/I576044/Library/Python/3.11/lib/python/site-packages (from pydantic<3.0.0,>=2.7.4->langchain) (2.27.2)\n",
      "Requirement already satisfied: charset-normalizer<4,>=2 in /Library/Frameworks/Python.framework/Versions/3.11/lib/python3.11/site-packages (from requests<3,>=2->langchain) (3.3.2)\n",
      "Requirement already satisfied: idna<4,>=2.5 in /Library/Frameworks/Python.framework/Versions/3.11/lib/python3.11/site-packages (from requests<3,>=2->langchain) (3.6)\n",
      "Requirement already satisfied: urllib3<3,>=1.21.1 in /Library/Frameworks/Python.framework/Versions/3.11/lib/python3.11/site-packages (from requests<3,>=2->langchain) (2.2.3)\n",
      "Requirement already satisfied: certifi>=2017.4.17 in /Library/Frameworks/Python.framework/Versions/3.11/lib/python3.11/site-packages (from requests<3,>=2->langchain) (2024.2.2)\n",
      "Requirement already satisfied: anyio in /Library/Frameworks/Python.framework/Versions/3.11/lib/python3.11/site-packages (from httpx<1,>=0.23.0->langsmith<0.4,>=0.1.17->langchain) (4.2.0)\n",
      "Requirement already satisfied: httpcore==1.* in /Library/Frameworks/Python.framework/Versions/3.11/lib/python3.11/site-packages (from httpx<1,>=0.23.0->langsmith<0.4,>=0.1.17->langchain) (1.0.2)\n",
      "Requirement already satisfied: h11<0.15,>=0.13 in /Library/Frameworks/Python.framework/Versions/3.11/lib/python3.11/site-packages (from httpcore==1.*->httpx<1,>=0.23.0->langsmith<0.4,>=0.1.17->langchain) (0.14.0)\n",
      "Requirement already satisfied: jsonpointer>=1.9 in /Users/I576044/Library/Python/3.11/lib/python/site-packages (from jsonpatch<2.0,>=1.33->langchain-core<1.0.0,>=0.3.49->langchain) (2.4)\n",
      "Requirement already satisfied: sniffio>=1.1 in /Library/Frameworks/Python.framework/Versions/3.11/lib/python3.11/site-packages (from anyio->httpx<1,>=0.23.0->langsmith<0.4,>=0.1.17->langchain) (1.3.0)\n",
      "\n",
      "\u001b[1m[\u001b[0m\u001b[34;49mnotice\u001b[0m\u001b[1;39;49m]\u001b[0m\u001b[39;49m A new release of pip is available: \u001b[0m\u001b[31;49m24.0\u001b[0m\u001b[39;49m -> \u001b[0m\u001b[32;49m25.0.1\u001b[0m\n",
      "\u001b[1m[\u001b[0m\u001b[34;49mnotice\u001b[0m\u001b[1;39;49m]\u001b[0m\u001b[39;49m To update, run: \u001b[0m\u001b[32;49mpip install --upgrade pip\u001b[0m\n",
      "Defaulting to user installation because normal site-packages is not writeable\n",
      "Requirement already satisfied: boto3 in /Users/I576044/Library/Python/3.11/lib/python/site-packages (1.37.0)\n",
      "Requirement already satisfied: botocore<1.38.0,>=1.37.0 in /Users/I576044/Library/Python/3.11/lib/python/site-packages (from boto3) (1.37.1)\n",
      "Requirement already satisfied: jmespath<2.0.0,>=0.7.1 in /Library/Frameworks/Python.framework/Versions/3.11/lib/python3.11/site-packages (from boto3) (1.0.1)\n",
      "Requirement already satisfied: s3transfer<0.12.0,>=0.11.0 in /Users/I576044/Library/Python/3.11/lib/python/site-packages (from boto3) (0.11.3)\n",
      "Requirement already satisfied: python-dateutil<3.0.0,>=2.1 in /Library/Frameworks/Python.framework/Versions/3.11/lib/python3.11/site-packages (from botocore<1.38.0,>=1.37.0->boto3) (2.9.0.post0)\n",
      "Requirement already satisfied: urllib3!=2.2.0,<3,>=1.25.4 in /Library/Frameworks/Python.framework/Versions/3.11/lib/python3.11/site-packages (from botocore<1.38.0,>=1.37.0->boto3) (2.2.3)\n",
      "Requirement already satisfied: six>=1.5 in /Library/Frameworks/Python.framework/Versions/3.11/lib/python3.11/site-packages (from python-dateutil<3.0.0,>=2.1->botocore<1.38.0,>=1.37.0->boto3) (1.16.0)\n",
      "\n",
      "\u001b[1m[\u001b[0m\u001b[34;49mnotice\u001b[0m\u001b[1;39;49m]\u001b[0m\u001b[39;49m A new release of pip is available: \u001b[0m\u001b[31;49m24.0\u001b[0m\u001b[39;49m -> \u001b[0m\u001b[32;49m25.0.1\u001b[0m\n",
      "\u001b[1m[\u001b[0m\u001b[34;49mnotice\u001b[0m\u001b[1;39;49m]\u001b[0m\u001b[39;49m To update, run: \u001b[0m\u001b[32;49mpip install --upgrade pip\u001b[0m\n"
     ]
    }
   ],
   "source": [
    "!pip install \"generative-ai-hub-sdk[all]\"\n",
    "!pip install langgraph langchain-openai\n",
    "!pip install pygraphviz"
   ]
  },
  {
   "cell_type": "markdown",
   "id": "3ee09bfd-3ac5-4eb5-85a4-902ceb22cc27",
   "metadata": {},
   "source": [
    "## Authentication"
   ]
  },
  {
   "cell_type": "markdown",
   "id": "3da77e21-8ce3-462a-82bd-9b455f4b70e4",
   "metadata": {},
   "source": [
    "Before requests to orchestration can be issued, we need to provide authentication details to the SDK. This can be done either via a configuration file or via the environment. Make sure to read the [Generative AI Hub SDK docs](https://help.sap.com/doc/generative-ai-hub-sdk/CLOUD/en-US/index.html) for more details. Below you will find an example for authenticating via environment variables using this very notebook. Ensure to store credentials in a `.env` file for the below command to work."
   ]
  },
  {
   "cell_type": "code",
   "execution_count": 135,
   "id": "15a9c85d",
   "metadata": {},
   "outputs": [
    {
     "data": {
      "text/plain": [
       "True"
      ]
     },
     "execution_count": 135,
     "metadata": {},
     "output_type": "execute_result"
    }
   ],
   "source": [
    "import os\n",
    "from dotenv import load_dotenv\n",
    "\n",
    "load_dotenv()"
   ]
  },
  {
   "cell_type": "markdown",
   "id": "1e8f1dfa-cd15-452c-a97e-23df5c546eef",
   "metadata": {},
   "source": [
    "# Agents"
   ]
  },
  {
   "cell_type": "markdown",
   "id": "34ef9443",
   "metadata": {},
   "source": [
    "We will build an AI Agent that is an expert at making personalized meal plans using the Langgraph orchestration [framework](https://www.langchain.com/langgraph). Langchain is a leading framework for building LLM-based apps, by executing sequential actions, aka \"chains\". However, we are restricted to only created DAGs. With AI agents becoming popular, there is increased demand for interactions that involve cycles (e.g. reasoning by LLMs). Thus, Langchain released a new framework, Langgraph to allow for building cyclic graphs. We will incorporate many concepts from the previous exercises including the orchestration service from the Generative AI Hub and RAG, which was covered in the last exercise. "
   ]
  },
  {
   "cell_type": "markdown",
   "id": "a8a7c183",
   "metadata": {},
   "source": [
    "We will represent an agent by a graph containining nodes, edges, and state. The nodes are functions which can be LLM calls or standard function/tool calls, the edges connect the nodes together to create chains of events, and the state is essentially the agent's memory and is accesible from every node in the graph. First, we will intialize a state."
   ]
  },
  {
   "cell_type": "code",
   "execution_count": 93,
   "id": "d821cf82",
   "metadata": {},
   "outputs": [],
   "source": [
    "from typing import TypedDict, List\n",
    "\n",
    "class RecipeState(TypedDict):\n",
    "    ingredients: List[str]\n",
    "    retrieved_recipes: List[str]\n",
    "    generated_recipe: str\n",
    "    is_complete: bool\n",
    "    user_email: str"
   ]
  },
  {
   "cell_type": "markdown",
   "id": "aab1845f",
   "metadata": {},
   "source": [
    "Now, let's define our HANA DB connection. We will need this by one of the nodes to perform RAG to retrive similar meals based on the user-provided ingredient list."
   ]
  },
  {
   "cell_type": "code",
   "execution_count": 47,
   "id": "9062c312",
   "metadata": {},
   "outputs": [],
   "source": [
    "from gen_ai_hub.proxy.langchain.openai import OpenAIEmbeddings\n",
    "from langchain_community.vectorstores.hanavector import HanaDB\n",
    "from hdbcli import dbapi\n",
    "\n",
    "embedding_mod = OpenAIEmbeddings(proxy_model_name='text-embedding-3-small')\n",
    "\n",
    "conn = dbapi.connect(\n",
    "    address=os.environ.get(\"HANA_HOST\"),\n",
    "    port=os.environ.get(\"HANA_PORT\"),\n",
    "    user=os.environ.get(\"HANA_USER\"),\n",
    "    password=os.environ.get(\"HANA_PASSWORD\"),\n",
    "    autocommit=True,\n",
    "    sslValidateCertificate=True,\n",
    ")\n",
    "\n",
    "db = HanaDB(\n",
    "    embedding=embedding_mod, connection=conn, table_name=\"INGREDIENT_EMBEDDINGS\"\n",
    ")"
   ]
  },
  {
   "cell_type": "markdown",
   "id": "892b0375",
   "metadata": {},
   "source": [
    "Now, let's define a function which calls an LLM via the orchestration service."
   ]
  },
  {
   "cell_type": "code",
   "execution_count": 114,
   "id": "beb02879",
   "metadata": {},
   "outputs": [],
   "source": [
    "from gen_ai_hub.orchestration.models.message import SystemMessage, UserMessage\n",
    "from gen_ai_hub.orchestration.models.template import Template\n",
    "from gen_ai_hub.orchestration.models.config import OrchestrationConfig\n",
    "from gen_ai_hub.orchestration.service import OrchestrationService\n",
    "from gen_ai_hub.orchestration.models.llm import LLM\n",
    "\n",
    "def call_llm_via_orchestration(system_prompt, user_prompt, llm='o3-mini'):\n",
    "    template = Template(\n",
    "        messages=[\n",
    "            SystemMessage(system_prompt),\n",
    "            UserMessage(\n",
    "                user_prompt,\n",
    "            ),\n",
    "        ]\n",
    "    )\n",
    "    config = OrchestrationConfig(\n",
    "        llm=LLM(llm),\n",
    "        filtering=None,\n",
    "        template=template\n",
    "    )\n",
    "    orchestration_service = OrchestrationService(\n",
    "        deployment_id=os.environ[\"AICORE_ORCH_DEPLOYMENT_ID\"],\n",
    "        config=config,\n",
    "    )\n",
    "    result = orchestration_service.run()\n",
    "    return result.orchestration_result.choices[0].message.content\n",
    "    "
   ]
  },
  {
   "cell_type": "markdown",
   "id": "eeb8c663",
   "metadata": {},
   "source": [
    "Let's now define the nodes in the agent graph. \n",
    "1. `retreive_recipes`: retrieves meals from the HANA vector DB that are similar to the user-provided ingredients.\n",
    "2. `generate_recipe`: generates a recipe using an LLM based on the ingredients provided by the user and similar meals.\n",
    "3. `check_ingredients`: checks if ingredients provided by the user are contained in the generated recipe.\n",
    "4. `send_email`: sends an email to the user containing the final generated recipe."
   ]
  },
  {
   "cell_type": "code",
   "execution_count": 115,
   "id": "053da0a6",
   "metadata": {},
   "outputs": [],
   "source": [
    "from msgraph import GraphServiceClient\n",
    "from msgraph.generated.users.item.send_mail.send_mail_post_request_body import SendMailPostRequestBody\n",
    "from msgraph.generated.models.message import Message\n",
    "from msgraph.generated.models.item_body import ItemBody\n",
    "from msgraph.generated.models.body_type import BodyType\n",
    "from msgraph.generated.models.recipient import Recipient\n",
    "from msgraph.generated.models.email_address import EmailAddress\n",
    "import os\n",
    "from azure.identity.aio import ClientSecretCredential\n",
    "from bs4 import BeautifulSoup\n",
    "import asyncio\n",
    "\n",
    "# helper function to send emails using ms graph\n",
    "async def send_email_helper(recipient_email, html):\n",
    "    # Process the notification data\n",
    "    scopes = ['https://graph.microsoft.com/.default']\n",
    "\n",
    "    # Multi-tenant apps can use \"common\",\n",
    "    # single-tenant apps must use the tenant ID from the Azure portal\n",
    "    tenant_id = os.environ.get('MS_TENANT_ID')\n",
    "\n",
    "    # Values from app registration\n",
    "    client_id = os.environ.get('MS_CLIENT_ID')\n",
    "    client_secret = os.environ.get('MS_CLIENT_SECRET')\n",
    "\n",
    "    # azure.identity.aio\n",
    "    credential = ClientSecretCredential(\n",
    "    tenant_id=tenant_id,\n",
    "    client_id=client_id,\n",
    "    client_secret=client_secret)\n",
    "\n",
    "    graph_client = GraphServiceClient(credential, scopes) # type: ignore\n",
    "\n",
    "    request_body = SendMailPostRequestBody(\n",
    "    message = Message(\n",
    "        subject = f\"Generated Recipe\",\n",
    "        body = ItemBody(\n",
    "            content_type = BodyType.Html,\n",
    "            content = html,\n",
    "        ),\n",
    "        to_recipients = [\n",
    "            Recipient(\n",
    "                email_address = EmailAddress(\n",
    "                    address = recipient_email,\n",
    "                ),\n",
    "            ),\n",
    "        ]\n",
    "    ),\n",
    "    save_to_sent_items = False,\n",
    "    )\n",
    "    await graph_client.users.by_user_id(os.environ.get('MS_INGESTION_EMAIL')).send_mail.post(request_body)\n",
    "    return True\n",
    "\n",
    "# helper function to replace html template with llm generated content to send in email\n",
    "def get_html(generated_recipe, ingr, sim_meals):\n",
    "    with open(\"./email_template.html\", \"r\", encoding=\"utf-8\") as file:\n",
    "            soup = BeautifulSoup(file, \"html.parser\")\n",
    "    soup.find(id='ingr').string = ingr\n",
    "    soup.find(id='sim-meals').string = sim_meals\n",
    "    soup.find(id='gen-recipe').string = generated_recipe\n",
    "    return str(soup)"
   ]
  },
  {
   "cell_type": "code",
   "execution_count": 137,
   "id": "ff9c2f00",
   "metadata": {},
   "outputs": [],
   "source": [
    "# Retrieve recipes from HANA DB\n",
    "def retrieve_recipes(state: RecipeState) -> RecipeState:\n",
    "    print(f'Rerieving meals for ingredients: {state[\"ingredients\"]}')\n",
    "    ingredient_str = ', '.join(state['ingredients'])\n",
    "    if 'is_complete' not in state: \n",
    "        similar_recipes = db.similarity_search(ingredient_str, k=10)\n",
    "    else:\n",
    "        similar_recipes = db.similarity_search(ingredient_str, k=20) # generate more recipes since the original retrived recipes may have not been enough\n",
    "    similar_recipes = [d.page_content for d in similar_recipes]\n",
    "    return {**state, \"retrieved_recipes\": similar_recipes}\n",
    "\n",
    "# Generate a new recipe based on similar recipes\n",
    "def generate_recipe(state: RecipeState) -> RecipeState:\n",
    "    print(f\"Generating recipe using retrieved recipes...\")\n",
    "    system_prompt = 'You are a nutrition and meal-planning expert whose job is to generate personalized recipes given a list of meals that the user has cooked in the past and a list of ingredients that should be in the generated recipe.'\n",
    "    retrieve_recipes_str = '\\n\\n'.join(state['retrieved_recipes'])\n",
    "    user_prompt = f\"Generate a recipe given the following recipes that the user has generated in the past: {retrieve_recipes_str}. Here are the ingredients that the recipe should contain: {state['ingredients']}\"\n",
    "    llm_response = call_llm_via_orchestration(system_prompt, user_prompt)\n",
    "    return {**state, \"generated_recipe\": llm_response}\n",
    "\n",
    "# Check if all ingredients are present in the generated recipe\n",
    "def check_ingredients(state: RecipeState) -> RecipeState:\n",
    "    print(f\"Checking if generated recipe contains all the user's preferred ingredients...\")\n",
    "    system_prompt = 'Your job is to check if the given recipe contains ingredients from the given list of ingredients. Return only a true/false answer.'\n",
    "    user_prompt = f\"Here is the generated recipe: {state['generated_recipe']}\\nHere are the ingredients: {state['ingredients']}\"\n",
    "    llm_response = call_llm_via_orchestration(system_prompt, user_prompt)\n",
    "    if 'true' in llm_response.lower():\n",
    "        print('All ingredients in generated recipe.')\n",
    "        return {**state, \"is_complete\": True}\n",
    "    print('Generated recipe missing ingredients.')\n",
    "    return {**state, \"is_complete\": False}\n",
    "\n",
    "# Send the final recipe via email\n",
    "async def send_email(state: RecipeState) -> RecipeState:\n",
    "    print(f\"Sending recipe to {state['user_email']}...\")\n",
    "    html = get_html(state['generated_recipe'], ', '.join(state['ingredients']), '\\n\\n'.join(state['retrieved_recipes']))\n",
    "    await send_email_helper(state['user_email'], html)\n",
    "    print(f\"Email sent successfully.\")\n",
    "    return state"
   ]
  },
  {
   "cell_type": "markdown",
   "id": "cf0b4ccd",
   "metadata": {},
   "source": [
    "Finally, let's define the graph."
   ]
  },
  {
   "cell_type": "code",
   "execution_count": 138,
   "id": "930be078",
   "metadata": {},
   "outputs": [],
   "source": [
    "from langgraph.graph import StateGraph, START, END\n",
    "graph = StateGraph(RecipeState)\n",
    "\n",
    "graph.add_node(\"retrieve_recipes\", retrieve_recipes)\n",
    "graph.add_node(\"generate_recipe\", generate_recipe)\n",
    "graph.add_node(\"check_ingredients\", check_ingredients)\n",
    "graph.add_node(\"send_email\", send_email)\n",
    "\n",
    "\n",
    "# Define how nodes transition\n",
    "graph.add_edge(START, \"retrieve_recipes\")\n",
    "\n",
    "graph.add_edge(\"retrieve_recipes\", \"generate_recipe\")\n",
    "graph.add_edge(\"generate_recipe\", \"check_ingredients\")\n",
    "\n",
    "def route_based_on_check(state: RecipeState) -> str:\n",
    "    if state[\"is_complete\"]:\n",
    "        return \"send_email\"\n",
    "    else:\n",
    "        return \"retrieve_recipes\"\n",
    "\n",
    "graph.add_conditional_edges(\"check_ingredients\", route_based_on_check, {\n",
    "        \"send_email\": \"send_email\",\n",
    "        \"retrieve_recipes\": \"retrieve_recipes\"\n",
    "    })\n",
    "\n",
    "graph.add_edge(\"check_ingredients\", \"send_email\")\n",
    "\n",
    "# After sending email, end the graph\n",
    "graph.add_edge(\"send_email\", END)\n",
    "\n",
    "# Compile the graph\n",
    "app = graph.compile()"
   ]
  },
  {
   "cell_type": "code",
   "execution_count": 139,
   "id": "26c6cdd2",
   "metadata": {},
   "outputs": [
    {
     "data": {
      "image/png": "[encoded data removed]",
      "text/plain": [
       "<IPython.core.display.Image object>"
      ]
     },
     "execution_count": 139,
     "metadata": {},
     "output_type": "execute_result"
    }
   ],
   "source": [
    "from IPython.display import Image\n",
    "Image(app.get_graph().draw_png())"
   ]
  },
  {
   "cell_type": "markdown",
   "id": "6ef1159f",
   "metadata": {},
   "source": [
    "Now, let's run the agent with an example input."
   ]
  },
  {
   "cell_type": "code",
   "execution_count": 140,
   "id": "e9e1e042",
   "metadata": {},
   "outputs": [
    {
     "name": "stdout",
     "output_type": "stream",
     "text": [
      "Rerieving meals for ingredients: ['oats', 'pumpkin', 'chia seeds']\n",
      "Generating recipe using retrieved recipes...\n",
      "Checking if generated recipe contains all the user's preferred ingredients...\n",
      "All ingredients in generated recipe.\n",
      "Sending recipe to choppermanster@gmail.com...\n",
      "Email sent successfully.\n",
      "\n",
      "=== Final State ===\n",
      "{'ingredients': ['oats', 'pumpkin', 'chia seeds'], 'retrieved_recipes': [\"Ingredients:\\nBob's Red Mill - Steel Cut Oats, 0.13 cup (46 grams) 85 15g 2g 4g 0mg 0mg 0g 3g\\nChia seeds, 4 tsp 97 8g 6g 3g 0mg 3mg 0g 7g\\nJuicy Dates - dates, 30 gram 80 18g 0g 0g 0mg 0mg 17g 3g\\nTrader Joe's - Organic Unsweetened Coconut Chips,\\nTrader Joe's - Raw Almond Butter - Crunchy, No Salt, 4\", \"Ingredients:\\nBob's Red Mill - Steel Cut Oats, 0.13 cup (46 grams) 85 15g 2g 4g 0mg 0mg 0g 3g\\nHemp Seed (Hemp Hearts) - Trader Joe's Raw Shelled,\\nJuicy Dates - dates, 30 gram 80 18g 0g 0g 0mg 0mg 17g 3g\\nKirkland - Cinamon, 2 tsp 12 4g 0g 0g 0mg 1mg 0g 3g\\nPowder Vanilla Bean Flavor , 2 Scoops (51g)\\nPumpkin purée - Pumpkin purée, 120 g 40 10g 0g 1g -- 5mg 3g 3g\\nTrader Joe's - Raw Almond Butter - Crunchy, No Salt,\", \"Ingredients:\\nBob's Red Mill - Steel Cut Oats, 0.13 cup (46 grams) 85 15g 2g 4g 0mg 0mg 0g 3g\\nChia seeds, 5 tsp 122 11g 8g 4g 0mg 4mg 0g 9g\\nJuicy Dates - dates, 30 gram 80 18g 0g 0g 0mg 0mg 17g 3g\\nPowder Vanilla Bean Flavor , 2 Scoops (51g)\\nRapunzel Organic Cocoa Powder - Cocoa Powder, 2\\nTrader Joe's - Raw Almond Butter - Crunchy, No Salt, 6\", \"Ingredients:\\nBob's Red Mill - Steel Cut Oats, 0.13 cup (46 grams) 85 15g 2g 4g 0mg 0mg 0g 3g\\nIsolate, 1 scoop (30.1g)\\nPomegranate Seeds - Pomegranate Seeds, 140 gr 85 20g 0g 1g 0mg -- 20g 1g\\nPumpkin purée - Pumpkin purée, 120 g 40 10g 0g 1g -- 5mg 3g 3g\\nRapunzel Organic Cocoa Powder - Cocoa Powder, 2\\nTrader Joe's - Raw Almond Butter - Crunchy, No Salt, 6\", \"Ingredients:\\nBob's Red Mill - Steel Cut Oats, 0.13 cup (46 grams) 85 15g 2g 4g 0mg 0mg 0g 3g\\nChia seeds, 4 tsp 97 8g 6g 3g 0mg 3mg 0g 7g\\nFlaxseed - Flaxseed, golden, ground, 2 tbsp ground 74 4g 6g 3g 0mg 4mg 0g 4g\\nKirkland - Cinamon, 2 tsp 12 4g 0g 0g 0mg 1mg 0g 3g\\nKirkland Signature - Organic Blueberries (Frozen), 1\\nPowder Vanilla Bean Flavor , 2 Scoops (51g)\\nTrader Joe's - Organic Light String Cheese, 3 stick 180 3g 8g 18g 45mg 540mg -- --\\nTrader Joe's - Raw Almond Butter - Crunchy, No Salt, 4\\nalter eco - no sugar added cashew butter granola, 30\", \"Ingredients:\\nBob's Red Mill - Steel Cut Oats, 0.13 cup (46 grams) 85 15g 2g 4g 0mg 0mg 0g 3g\\nKirkland - Cinamon, 2 tsp 12 4g 0g 0g 0mg 1mg 0g 3g\\nKirkland Signature - Organic Blueberries (Frozen), 1\\nPowder Vanilla Bean Flavor , 2 Scoops (51g)\\nPumpkin purée - Pumpkin purée, 120 g 40 10g 0g 1g -- 5mg 3g 3g\\nTrader Joe's - Raw Almond Butter - Crunchy, No Salt,\", \"Ingredients:\\nBob's Red Mill - Steel Cut Oats, 0.13 cup (46 grams) 85 15g 2g 4g 0mg 0mg 0g 3g\\nKirkland - Cinamon, 2 tsp 12 4g 0g 0g 0mg 1mg 0g 3g\\nKirkland Signature - Organic Blueberries (Frozen), 1\\nPowder Vanilla Bean Flavor , 2 Scoops (51g)\\nPumpkin purée - Pumpkin purée, 120 g 40 10g 0g 1g -- 5mg 3g 3g\\nTrader Joe's - Raw Almond Butter - Crunchy, No Salt, 4\\nalter eco - no sugar added cashew butter granola, 30\", \"Ingredients:\\nApple, 1 medium 95 25g 0g 0g 0mg 2mg 19g 4g\\nBob's Red Mill - Steel Cut Oats, 0.13 cup (46 grams) 85 15g 2g 4g 0mg 0mg 0g 3g\\nHemp Seed (Hemp Hearts) - Trader Joe's Raw Shelled,\\nKirkland - Cinamon, 2 tsp 12 4g 0g 0g 0mg 1mg 0g 3g\\nPowder Vanilla Bean Flavor , 2 Scoops (51g)\\nPumpkin purée - Pumpkin purée, 120 g 40 10g 0g 1g -- 5mg 3g 3g\\nRapunzel Organic Cocoa Powder - Cocoa Powder, 2\\nTrader Joe's - Raw Almond Butter - Crunchy, No Salt,\\nalter eco - no sugar added cashew butter granola, 60\", \"Ingredients:\\nBob's Red Mill - Steel Cut Oats, 0.13 cup (46 grams) 85 15g 2g 4g 0mg 0mg 0g 3g\\nIsolate, 1 scoop (30.1g)\\nJuicy Dates - dates, 30 gram 80 18g 0g 0g 0mg 0mg 17g 3g\\nPumpkin purée - Pumpkin purée, 120 g 40 10g 0g 1g -- 5mg 3g 3g\\nRapunzel Organic Cocoa Powder - Cocoa Powder, 2\\nTrader Joe's - Raw Almond Butter - Crunchy, No Salt, 6\\nTrader Joe's - Raw Large Hazelnuts, 0.25 cup (30 g) 180 5g 16g 5g 0mg 0mg 1g 4g\", \"Ingredients:\\nBob's Red Mill - Steel Cut Oats, 0.13 cup (46 grams) 85 15g 2g 4g 0mg 0mg 0g 3g\\nFlaxseed - Flaxseed, golden, ground, 3 tbsp ground 111 6g 9g 4g 0mg 6mg 0g 6g\\nJuicy Dates - dates, 30 gram 80 18g 0g 0g 0mg 0mg 17g 3g\\nKirkland - Cinamon, 2 tsp 12 4g 0g 0g 0mg 1mg 0g 3g\\nPowder Vanilla Bean Flavor , 2 Scoops (51g)\\nPumpkin purée - Pumpkin purée, 120 g 40 10g 0g 1g -- 5mg 3g 3g\\nTrader Joe's - Raw Almond Butter - Crunchy, No Salt, 4\\nalter eco - no sugar added cashew butter granola, 30\"], 'generated_recipe': 'Below is a warm, comforting breakfast recipe that highlights the three required ingredients—oats, pumpkin, and chia seeds—while drawing inspiration from your past creations. This Pumpkin Chia Steel Cut Oatmeal is hearty, flavorful, and perfect for starting your day with a nutritious boost.\\n\\n• Ingredients\\n\\u2003– ½ cup Bob’s Red Mill Steel Cut Oats  \\n\\u2003– 2 cups water (or a mix of water and unsweetened almond milk for creaminess)  \\n\\u2003– ½ cup pumpkin purée (plain, unsweetened)  \\n\\u2003– 1–2 tablespoons chia seeds (adjust based on your texture preference)  \\n\\u2003– ½ teaspoon cinnamon (or to taste)  \\n\\u2003– 1 teaspoon vanilla extract (or Powder Vanilla Bean Flavor if you prefer)  \\n\\u2003– A pinch of salt  \\n\\u2003– Optional add-ins for extra flavor and texture:  \\n\\u2003\\u2003▪ A drizzle of maple syrup or honey  \\n\\u2003\\u2003▪ A spoonful of raw almond butter  \\n\\u2003\\u2003▪ A handful of chopped nuts or granola on top\\n\\n• Instructions\\n1. Warm the Liquid:  \\n\\u2003• In a medium saucepan, bring 2 cups of water (or water/almond milk blend) to a boil over medium-high heat. A pinch of salt can be added to enhance the flavors.\\n\\n2. Cook the Oats:  \\n\\u2003• Stir in ½ cup steel cut oats. Once the water returns to a light simmer, reduce the heat to low.  \\n\\u2003• Cover and let the oats gently simmer for about 20–30 minutes, stirring occasionally. (For a chewier texture, aim for the shorter time; longer cooking yields a creamier consistency.)\\n\\n3. Mix in Pumpkin & Spices:  \\n\\u2003• Once the oats have softened and reached your desired consistency, stir in the ½ cup pumpkin purée.  \\n\\u2003• Add the cinnamon and vanilla extract. Mix thoroughly so that the pumpkin is evenly distributed throughout the oats.\\n\\n4. Stir in Chia Seeds:  \\n\\u2003• Remove the pan from heat and stir in 1–2 tablespoons of chia seeds. The seeds will slightly thicken the oatmeal and add a pleasant texture along with a boost of omega fatty acids.\\n\\u2003• (Note: If you prefer a more “set” texture from the chia, you can let the oatmeal sit for an extra 5 minutes to allow the seeds to swell further.)\\n\\n5. Taste and Sweeten:  \\n\\u2003• Taste your oatmeal and, if desired, add a dash of maple syrup or honey for natural sweetness. Adjust cinnamon if needed.\\n\\n6. Serve and Garnish:  \\n\\u2003• Spoon your warm Pumpkin Chia Steel Cut Oatmeal into a bowl.  \\n\\u2003• Enhance with optional toppings such as a drizzle of raw almond butter, chopped nuts, or even a sprinkle of granola for crunch.\\n\\nEnjoy this nutrient-dense bowl that combines the fiber-rich oats, vitamin-packed pumpkin, and protein- and omega-3-packed chia seeds—a wholesome start to your day!', 'is_complete': True, 'user_email': 'choppermanster@gmail.com'}\n"
     ]
    }
   ],
   "source": [
    "start_state = {\n",
    "    \"ingredients\": [\"oats\", \"pumpkin\", \"chia seeds\"],\n",
    "    \"user_email\": \"choppermanster@gmail.com\",\n",
    "}\n",
    "\n",
    "result = await app.ainvoke(start_state)\n",
    "print(\"\\n=== Final State ===\")\n",
    "print(result)"
   ]
  },
  {
   "cell_type": "markdown",
   "id": "bf7bc8ae-4ed2-468a-9094-7c842bd22ee8",
   "metadata": {},
   "source": [
    "# Summary"
   ]
  },
  {
   "cell_type": "markdown",
   "id": "24ae4510-d8b7-41cc-b8c6-9b7268137411",
   "metadata": {},
   "source": [
    "In this exercise, we learned how to create an AI agent using the Langgraph framework integrated with the Generative AI Hub. This completes the final exercise. Thanks for participating!"
   ]
  }
 ],
 "metadata": {
  "kernelspec": {
   "display_name": "Python 3 (ipykernel)",
   "language": "python",
   "name": "python3"
  },
  "language_info": {
   "codemirror_mode": {
    "name": "ipython",
    "version": 3
   },
   "file_extension": ".py",
   "mimetype": "text/x-python",
   "name": "python",
   "nbconvert_exporter": "python",
   "pygments_lexer": "ipython3",
   "version": "3.11.7"
  }
 },
 "nbformat": 4,
 "nbformat_minor": 5
}
