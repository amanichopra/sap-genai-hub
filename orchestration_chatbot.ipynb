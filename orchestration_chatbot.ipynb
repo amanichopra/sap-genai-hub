{
 "cells": [
  {
   "cell_type": "markdown",
   "id": "4682e802",
   "metadata": {},
   "source": [
    "<a target=\"_blank\" href=\"https://colab.research.google.com/github/amanichopra/sap-genai-hub/blob/main/orchestration_chatbot.ipynb\">\n",
    "  <img src=\"https://colab.research.google.com/assets/colab-badge.svg\" alt=\"Open In Colab\"/>\n",
    "</a>"
   ]
  },
  {
   "cell_type": "markdown",
   "id": "b0fb77cb",
   "metadata": {},
   "source": [
    "# Preparation"
   ]
  },
  {
   "cell_type": "markdown",
   "id": "7c9ddc77",
   "metadata": {},
   "source": [
    "## Install Libraries"
   ]
  },
  {
   "cell_type": "code",
   "execution_count": 7,
   "id": "e654a727",
   "metadata": {},
   "outputs": [
    {
     "name": "stdout",
     "output_type": "stream",
     "text": [
      "Defaulting to user installation because normal site-packages is not writeable\n",
      "Requirement already satisfied: generative-ai-hub-sdk[all] in /Users/I576044/Library/Python/3.11/lib/python/site-packages (4.10.2)\n",
      "Requirement already satisfied: overloading==0.5.0 in /Library/Frameworks/Python.framework/Versions/3.11/lib/python3.11/site-packages (from generative-ai-hub-sdk[all]) (0.5.0)\n",
      "Requirement already satisfied: packaging>=23.2 in /Users/I576044/Library/Python/3.11/lib/python/site-packages (from generative-ai-hub-sdk[all]) (23.2)\n",
      "Requirement already satisfied: openai>=1.58.1 in /Users/I576044/Library/Python/3.11/lib/python/site-packages (from generative-ai-hub-sdk[all]) (1.70.0)\n",
      "Requirement already satisfied: ai-core-sdk>=2.5.7 in /Users/I576044/Library/Python/3.11/lib/python/site-packages (from generative-ai-hub-sdk[all]) (2.5.7)\n",
      "Requirement already satisfied: dacite>=1.8.1 in /Library/Frameworks/Python.framework/Versions/3.11/lib/python3.11/site-packages (from generative-ai-hub-sdk[all]) (1.8.1)\n",
      "Requirement already satisfied: click>=8.1.7 in /Users/I576044/Library/Python/3.11/lib/python/site-packages (from generative-ai-hub-sdk[all]) (8.1.8)\n",
      "Requirement already satisfied: httpx>=0.27.0 in /Users/I576044/Library/Python/3.11/lib/python/site-packages (from generative-ai-hub-sdk[all]) (0.28.1)\n",
      "Requirement already satisfied: pydantic==2.10.6 in /Users/I576044/Library/Python/3.11/lib/python/site-packages (from generative-ai-hub-sdk[all]) (2.10.6)\n",
      "Requirement already satisfied: boto3==1.37.0 in /Users/I576044/Library/Python/3.11/lib/python/site-packages (from generative-ai-hub-sdk[all]) (1.37.0)\n",
      "Requirement already satisfied: langchain-aws==0.2.15 in /Users/I576044/Library/Python/3.11/lib/python/site-packages (from generative-ai-hub-sdk[all]) (0.2.15)\n",
      "Requirement already satisfied: google-cloud-aiplatform==1.83.0 in /Users/I576044/Library/Python/3.11/lib/python/site-packages (from generative-ai-hub-sdk[all]) (1.83.0)\n",
      "Requirement already satisfied: aioboto3==14.1.0 in /Users/I576044/Library/Python/3.11/lib/python/site-packages (from generative-ai-hub-sdk[all]) (14.1.0)\n",
      "Requirement already satisfied: langchain~=0.3.0 in /Users/I576044/Library/Python/3.11/lib/python/site-packages (from generative-ai-hub-sdk[all]) (0.3.22)\n",
      "Requirement already satisfied: langchain-community~=0.3.0 in /Users/I576044/Library/Python/3.11/lib/python/site-packages (from generative-ai-hub-sdk[all]) (0.3.20)\n",
      "Requirement already satisfied: langchain-google-vertexai==2.0.15 in /Users/I576044/Library/Python/3.11/lib/python/site-packages (from generative-ai-hub-sdk[all]) (2.0.15)\n",
      "Requirement already satisfied: langchain-openai>=0.3.7 in /Users/I576044/Library/Python/3.11/lib/python/site-packages (from generative-ai-hub-sdk[all]) (0.3.11)\n",
      "Requirement already satisfied: aiobotocore==2.21.1 in /Users/I576044/Library/Python/3.11/lib/python/site-packages (from aiobotocore[boto3]==2.21.1->aioboto3==14.1.0->generative-ai-hub-sdk[all]) (2.21.1)\n",
      "Requirement already satisfied: aiofiles>=23.2.1 in /Users/I576044/Library/Python/3.11/lib/python/site-packages (from aioboto3==14.1.0->generative-ai-hub-sdk[all]) (24.1.0)\n",
      "Requirement already satisfied: botocore<1.38.0,>=1.37.0 in /Users/I576044/Library/Python/3.11/lib/python/site-packages (from boto3==1.37.0->generative-ai-hub-sdk[all]) (1.37.1)\n",
      "Requirement already satisfied: jmespath<2.0.0,>=0.7.1 in /Library/Frameworks/Python.framework/Versions/3.11/lib/python3.11/site-packages (from boto3==1.37.0->generative-ai-hub-sdk[all]) (1.0.1)\n",
      "Requirement already satisfied: s3transfer<0.12.0,>=0.11.0 in /Users/I576044/Library/Python/3.11/lib/python/site-packages (from boto3==1.37.0->generative-ai-hub-sdk[all]) (0.11.3)\n",
      "Requirement already satisfied: google-api-core!=2.0.*,!=2.1.*,!=2.2.*,!=2.3.*,!=2.4.*,!=2.5.*,!=2.6.*,!=2.7.*,<3.0.0dev,>=1.34.1 in /Library/Frameworks/Python.framework/Versions/3.11/lib/python3.11/site-packages (from google-api-core[grpc]!=2.0.*,!=2.1.*,!=2.2.*,!=2.3.*,!=2.4.*,!=2.5.*,!=2.6.*,!=2.7.*,<3.0.0dev,>=1.34.1->google-cloud-aiplatform==1.83.0->generative-ai-hub-sdk[all]) (2.23.0)\n",
      "Requirement already satisfied: google-auth<3.0.0dev,>=2.14.1 in /Library/Frameworks/Python.framework/Versions/3.11/lib/python3.11/site-packages (from google-cloud-aiplatform==1.83.0->generative-ai-hub-sdk[all]) (2.36.0)\n",
      "Requirement already satisfied: proto-plus<2.0.0dev,>=1.22.3 in /Library/Frameworks/Python.framework/Versions/3.11/lib/python3.11/site-packages (from google-cloud-aiplatform==1.83.0->generative-ai-hub-sdk[all]) (1.25.0)\n",
      "Requirement already satisfied: protobuf!=4.21.0,!=4.21.1,!=4.21.2,!=4.21.3,!=4.21.4,!=4.21.5,<6.0.0dev,>=3.20.2 in /Library/Frameworks/Python.framework/Versions/3.11/lib/python3.11/site-packages (from google-cloud-aiplatform==1.83.0->generative-ai-hub-sdk[all]) (4.25.5)\n",
      "Requirement already satisfied: google-cloud-storage<3.0.0dev,>=1.32.0 in /Library/Frameworks/Python.framework/Versions/3.11/lib/python3.11/site-packages (from google-cloud-aiplatform==1.83.0->generative-ai-hub-sdk[all]) (2.18.2)\n",
      "Requirement already satisfied: google-cloud-bigquery!=3.20.0,<4.0.0dev,>=1.15.0 in /Library/Frameworks/Python.framework/Versions/3.11/lib/python3.11/site-packages (from google-cloud-aiplatform==1.83.0->generative-ai-hub-sdk[all]) (3.27.0)\n",
      "Requirement already satisfied: google-cloud-resource-manager<3.0.0dev,>=1.3.3 in /Library/Frameworks/Python.framework/Versions/3.11/lib/python3.11/site-packages (from google-cloud-aiplatform==1.83.0->generative-ai-hub-sdk[all]) (1.13.1)\n",
      "Requirement already satisfied: shapely<3.0.0dev in /Library/Frameworks/Python.framework/Versions/3.11/lib/python3.11/site-packages (from google-cloud-aiplatform==1.83.0->generative-ai-hub-sdk[all]) (2.0.6)\n",
      "Requirement already satisfied: typing-extensions in /Library/Frameworks/Python.framework/Versions/3.11/lib/python3.11/site-packages (from google-cloud-aiplatform==1.83.0->generative-ai-hub-sdk[all]) (4.12.2)\n",
      "Requirement already satisfied: docstring-parser<1 in /Library/Frameworks/Python.framework/Versions/3.11/lib/python3.11/site-packages (from google-cloud-aiplatform==1.83.0->generative-ai-hub-sdk[all]) (0.16)\n",
      "Requirement already satisfied: langchain-core<0.4.0,>=0.3.27 in /Users/I576044/Library/Python/3.11/lib/python/site-packages (from langchain-aws==0.2.15->generative-ai-hub-sdk[all]) (0.3.49)\n",
      "Requirement already satisfied: numpy<2,>=1 in /Library/Frameworks/Python.framework/Versions/3.11/lib/python3.11/site-packages (from langchain-aws==0.2.15->generative-ai-hub-sdk[all]) (1.26.3)\n",
      "Requirement already satisfied: httpx-sse<0.5.0,>=0.4.0 in /Users/I576044/Library/Python/3.11/lib/python/site-packages (from langchain-google-vertexai==2.0.15->generative-ai-hub-sdk[all]) (0.4.0)\n",
      "Requirement already satisfied: annotated-types>=0.6.0 in /Library/Frameworks/Python.framework/Versions/3.11/lib/python3.11/site-packages (from pydantic==2.10.6->generative-ai-hub-sdk[all]) (0.6.0)\n",
      "Requirement already satisfied: pydantic-core==2.27.2 in /Users/I576044/Library/Python/3.11/lib/python/site-packages (from pydantic==2.10.6->generative-ai-hub-sdk[all]) (2.27.2)\n",
      "Requirement already satisfied: aiohttp<4.0.0,>=3.9.2 in /Library/Frameworks/Python.framework/Versions/3.11/lib/python3.11/site-packages (from aiobotocore==2.21.1->aiobotocore[boto3]==2.21.1->aioboto3==14.1.0->generative-ai-hub-sdk[all]) (3.11.2)\n",
      "Requirement already satisfied: aioitertools<1.0.0,>=0.5.1 in /Users/I576044/Library/Python/3.11/lib/python/site-packages (from aiobotocore==2.21.1->aiobotocore[boto3]==2.21.1->aioboto3==14.1.0->generative-ai-hub-sdk[all]) (0.12.0)\n",
      "Requirement already satisfied: python-dateutil<3.0.0,>=2.1 in /Library/Frameworks/Python.framework/Versions/3.11/lib/python3.11/site-packages (from aiobotocore==2.21.1->aiobotocore[boto3]==2.21.1->aioboto3==14.1.0->generative-ai-hub-sdk[all]) (2.9.0.post0)\n",
      "Requirement already satisfied: multidict<7.0.0,>=6.0.0 in /Library/Frameworks/Python.framework/Versions/3.11/lib/python3.11/site-packages (from aiobotocore==2.21.1->aiobotocore[boto3]==2.21.1->aioboto3==14.1.0->generative-ai-hub-sdk[all]) (6.1.0)\n",
      "Requirement already satisfied: wrapt<2.0.0,>=1.10.10 in /Library/Frameworks/Python.framework/Versions/3.11/lib/python3.11/site-packages (from aiobotocore==2.21.1->aiobotocore[boto3]==2.21.1->aioboto3==14.1.0->generative-ai-hub-sdk[all]) (1.16.0)\n",
      "Requirement already satisfied: ai-api-client-sdk==2.4.6 in /Users/I576044/Library/Python/3.11/lib/python/site-packages (from ai-core-sdk>=2.5.7->generative-ai-hub-sdk[all]) (2.4.6)\n",
      "Requirement already satisfied: aenum~=3.1 in /Library/Frameworks/Python.framework/Versions/3.11/lib/python3.11/site-packages (from ai-api-client-sdk==2.4.6->ai-core-sdk>=2.5.7->generative-ai-hub-sdk[all]) (3.1.15)\n",
      "Requirement already satisfied: pyhumps~=3.0 in /Library/Frameworks/Python.framework/Versions/3.11/lib/python3.11/site-packages (from ai-api-client-sdk==2.4.6->ai-core-sdk>=2.5.7->generative-ai-hub-sdk[all]) (3.8.0)\n",
      "Requirement already satisfied: requests<3.0 in /Library/Frameworks/Python.framework/Versions/3.11/lib/python3.11/site-packages (from ai-api-client-sdk==2.4.6->ai-core-sdk>=2.5.7->generative-ai-hub-sdk[all]) (2.31.0)\n",
      "Requirement already satisfied: anyio in /Library/Frameworks/Python.framework/Versions/3.11/lib/python3.11/site-packages (from httpx>=0.27.0->generative-ai-hub-sdk[all]) (4.2.0)\n",
      "Requirement already satisfied: certifi in /Library/Frameworks/Python.framework/Versions/3.11/lib/python3.11/site-packages (from httpx>=0.27.0->generative-ai-hub-sdk[all]) (2024.2.2)\n",
      "Requirement already satisfied: httpcore==1.* in /Library/Frameworks/Python.framework/Versions/3.11/lib/python3.11/site-packages (from httpx>=0.27.0->generative-ai-hub-sdk[all]) (1.0.2)\n",
      "Requirement already satisfied: idna in /Library/Frameworks/Python.framework/Versions/3.11/lib/python3.11/site-packages (from httpx>=0.27.0->generative-ai-hub-sdk[all]) (3.6)\n",
      "Requirement already satisfied: h11<0.15,>=0.13 in /Library/Frameworks/Python.framework/Versions/3.11/lib/python3.11/site-packages (from httpcore==1.*->httpx>=0.27.0->generative-ai-hub-sdk[all]) (0.14.0)\n",
      "Requirement already satisfied: langchain-text-splitters<1.0.0,>=0.3.7 in /Users/I576044/Library/Python/3.11/lib/python/site-packages (from langchain~=0.3.0->generative-ai-hub-sdk[all]) (0.3.7)\n",
      "Requirement already satisfied: langsmith<0.4,>=0.1.17 in /Library/Frameworks/Python.framework/Versions/3.11/lib/python3.11/site-packages (from langchain~=0.3.0->generative-ai-hub-sdk[all]) (0.1.143)\n",
      "Requirement already satisfied: SQLAlchemy<3,>=1.4 in /Library/Frameworks/Python.framework/Versions/3.11/lib/python3.11/site-packages (from langchain~=0.3.0->generative-ai-hub-sdk[all]) (2.0.36)\n",
      "Requirement already satisfied: PyYAML>=5.3 in /Library/Frameworks/Python.framework/Versions/3.11/lib/python3.11/site-packages (from langchain~=0.3.0->generative-ai-hub-sdk[all]) (6.0.1)\n",
      "Requirement already satisfied: tenacity!=8.4.0,<10,>=8.1.0 in /Library/Frameworks/Python.framework/Versions/3.11/lib/python3.11/site-packages (from langchain-community~=0.3.0->generative-ai-hub-sdk[all]) (8.2.3)\n",
      "Requirement already satisfied: dataclasses-json<0.7,>=0.5.7 in /Library/Frameworks/Python.framework/Versions/3.11/lib/python3.11/site-packages (from langchain-community~=0.3.0->generative-ai-hub-sdk[all]) (0.6.7)\n",
      "Requirement already satisfied: pydantic-settings<3.0.0,>=2.4.0 in /Users/I576044/Library/Python/3.11/lib/python/site-packages (from langchain-community~=0.3.0->generative-ai-hub-sdk[all]) (2.8.1)\n",
      "Requirement already satisfied: tiktoken<1,>=0.7 in /Library/Frameworks/Python.framework/Versions/3.11/lib/python3.11/site-packages (from langchain-openai>=0.3.7->generative-ai-hub-sdk[all]) (0.8.0)\n",
      "Requirement already satisfied: distro<2,>=1.7.0 in /Library/Frameworks/Python.framework/Versions/3.11/lib/python3.11/site-packages (from openai>=1.58.1->generative-ai-hub-sdk[all]) (1.9.0)\n",
      "Requirement already satisfied: jiter<1,>=0.4.0 in /Library/Frameworks/Python.framework/Versions/3.11/lib/python3.11/site-packages (from openai>=1.58.1->generative-ai-hub-sdk[all]) (0.7.1)\n",
      "Requirement already satisfied: sniffio in /Library/Frameworks/Python.framework/Versions/3.11/lib/python3.11/site-packages (from openai>=1.58.1->generative-ai-hub-sdk[all]) (1.3.0)\n",
      "Requirement already satisfied: tqdm>4 in /Library/Frameworks/Python.framework/Versions/3.11/lib/python3.11/site-packages (from openai>=1.58.1->generative-ai-hub-sdk[all]) (4.66.2)\n",
      "Requirement already satisfied: aiohappyeyeballs>=2.3.0 in /Library/Frameworks/Python.framework/Versions/3.11/lib/python3.11/site-packages (from aiohttp<4.0.0,>=3.9.2->aiobotocore==2.21.1->aiobotocore[boto3]==2.21.1->aioboto3==14.1.0->generative-ai-hub-sdk[all]) (2.4.3)\n",
      "Requirement already satisfied: aiosignal>=1.1.2 in /Library/Frameworks/Python.framework/Versions/3.11/lib/python3.11/site-packages (from aiohttp<4.0.0,>=3.9.2->aiobotocore==2.21.1->aiobotocore[boto3]==2.21.1->aioboto3==14.1.0->generative-ai-hub-sdk[all]) (1.3.1)\n",
      "Requirement already satisfied: attrs>=17.3.0 in /Library/Frameworks/Python.framework/Versions/3.11/lib/python3.11/site-packages (from aiohttp<4.0.0,>=3.9.2->aiobotocore==2.21.1->aiobotocore[boto3]==2.21.1->aioboto3==14.1.0->generative-ai-hub-sdk[all]) (23.2.0)\n",
      "Requirement already satisfied: frozenlist>=1.1.1 in /Library/Frameworks/Python.framework/Versions/3.11/lib/python3.11/site-packages (from aiohttp<4.0.0,>=3.9.2->aiobotocore==2.21.1->aiobotocore[boto3]==2.21.1->aioboto3==14.1.0->generative-ai-hub-sdk[all]) (1.5.0)\n",
      "Requirement already satisfied: propcache>=0.2.0 in /Library/Frameworks/Python.framework/Versions/3.11/lib/python3.11/site-packages (from aiohttp<4.0.0,>=3.9.2->aiobotocore==2.21.1->aiobotocore[boto3]==2.21.1->aioboto3==14.1.0->generative-ai-hub-sdk[all]) (0.2.0)\n",
      "Requirement already satisfied: yarl<2.0,>=1.17.0 in /Library/Frameworks/Python.framework/Versions/3.11/lib/python3.11/site-packages (from aiohttp<4.0.0,>=3.9.2->aiobotocore==2.21.1->aiobotocore[boto3]==2.21.1->aioboto3==14.1.0->generative-ai-hub-sdk[all]) (1.17.2)\n",
      "Requirement already satisfied: urllib3!=2.2.0,<3,>=1.25.4 in /Library/Frameworks/Python.framework/Versions/3.11/lib/python3.11/site-packages (from botocore<1.38.0,>=1.37.0->boto3==1.37.0->generative-ai-hub-sdk[all]) (2.2.3)\n",
      "Requirement already satisfied: marshmallow<4.0.0,>=3.18.0 in /Library/Frameworks/Python.framework/Versions/3.11/lib/python3.11/site-packages (from dataclasses-json<0.7,>=0.5.7->langchain-community~=0.3.0->generative-ai-hub-sdk[all]) (3.23.1)\n",
      "Requirement already satisfied: typing-inspect<1,>=0.4.0 in /Library/Frameworks/Python.framework/Versions/3.11/lib/python3.11/site-packages (from dataclasses-json<0.7,>=0.5.7->langchain-community~=0.3.0->generative-ai-hub-sdk[all]) (0.9.0)\n",
      "Requirement already satisfied: googleapis-common-protos<2.0.dev0,>=1.56.2 in /Library/Frameworks/Python.framework/Versions/3.11/lib/python3.11/site-packages (from google-api-core!=2.0.*,!=2.1.*,!=2.2.*,!=2.3.*,!=2.4.*,!=2.5.*,!=2.6.*,!=2.7.*,<3.0.0dev,>=1.34.1->google-api-core[grpc]!=2.0.*,!=2.1.*,!=2.2.*,!=2.3.*,!=2.4.*,!=2.5.*,!=2.6.*,!=2.7.*,<3.0.0dev,>=1.34.1->google-cloud-aiplatform==1.83.0->generative-ai-hub-sdk[all]) (1.66.0)\n",
      "Requirement already satisfied: grpcio<2.0dev,>=1.33.2 in /Library/Frameworks/Python.framework/Versions/3.11/lib/python3.11/site-packages (from google-api-core[grpc]!=2.0.*,!=2.1.*,!=2.2.*,!=2.3.*,!=2.4.*,!=2.5.*,!=2.6.*,!=2.7.*,<3.0.0dev,>=1.34.1->google-cloud-aiplatform==1.83.0->generative-ai-hub-sdk[all]) (1.68.0)\n",
      "Requirement already satisfied: grpcio-status<2.0.dev0,>=1.33.2 in /Library/Frameworks/Python.framework/Versions/3.11/lib/python3.11/site-packages (from google-api-core[grpc]!=2.0.*,!=2.1.*,!=2.2.*,!=2.3.*,!=2.4.*,!=2.5.*,!=2.6.*,!=2.7.*,<3.0.0dev,>=1.34.1->google-cloud-aiplatform==1.83.0->generative-ai-hub-sdk[all]) (1.62.3)\n",
      "Requirement already satisfied: cachetools<6.0,>=2.0.0 in /Library/Frameworks/Python.framework/Versions/3.11/lib/python3.11/site-packages (from google-auth<3.0.0dev,>=2.14.1->google-cloud-aiplatform==1.83.0->generative-ai-hub-sdk[all]) (5.5.0)\n",
      "Requirement already satisfied: pyasn1-modules>=0.2.1 in /Library/Frameworks/Python.framework/Versions/3.11/lib/python3.11/site-packages (from google-auth<3.0.0dev,>=2.14.1->google-cloud-aiplatform==1.83.0->generative-ai-hub-sdk[all]) (0.4.1)\n",
      "Requirement already satisfied: rsa<5,>=3.1.4 in /Library/Frameworks/Python.framework/Versions/3.11/lib/python3.11/site-packages (from google-auth<3.0.0dev,>=2.14.1->google-cloud-aiplatform==1.83.0->generative-ai-hub-sdk[all]) (4.9)\n",
      "Requirement already satisfied: google-cloud-core<3.0.0dev,>=2.4.1 in /Library/Frameworks/Python.framework/Versions/3.11/lib/python3.11/site-packages (from google-cloud-bigquery!=3.20.0,<4.0.0dev,>=1.15.0->google-cloud-aiplatform==1.83.0->generative-ai-hub-sdk[all]) (2.4.1)\n",
      "Requirement already satisfied: google-resumable-media<3.0dev,>=2.0.0 in /Library/Frameworks/Python.framework/Versions/3.11/lib/python3.11/site-packages (from google-cloud-bigquery!=3.20.0,<4.0.0dev,>=1.15.0->google-cloud-aiplatform==1.83.0->generative-ai-hub-sdk[all]) (2.7.2)\n",
      "Requirement already satisfied: grpc-google-iam-v1<1.0.0dev,>=0.12.4 in /Library/Frameworks/Python.framework/Versions/3.11/lib/python3.11/site-packages (from google-cloud-resource-manager<3.0.0dev,>=1.3.3->google-cloud-aiplatform==1.83.0->generative-ai-hub-sdk[all]) (0.13.1)\n",
      "Requirement already satisfied: google-crc32c<2.0dev,>=1.0 in /Library/Frameworks/Python.framework/Versions/3.11/lib/python3.11/site-packages (from google-cloud-storage<3.0.0dev,>=1.32.0->google-cloud-aiplatform==1.83.0->generative-ai-hub-sdk[all]) (1.6.0)\n",
      "Requirement already satisfied: jsonpatch<2.0,>=1.33 in /Library/Frameworks/Python.framework/Versions/3.11/lib/python3.11/site-packages (from langchain-core<0.4.0,>=0.3.27->langchain-aws==0.2.15->generative-ai-hub-sdk[all]) (1.33)\n",
      "Requirement already satisfied: orjson<4.0.0,>=3.9.14 in /Library/Frameworks/Python.framework/Versions/3.11/lib/python3.11/site-packages (from langsmith<0.4,>=0.1.17->langchain~=0.3.0->generative-ai-hub-sdk[all]) (3.10.11)\n",
      "Requirement already satisfied: requests-toolbelt<2.0.0,>=1.0.0 in /Library/Frameworks/Python.framework/Versions/3.11/lib/python3.11/site-packages (from langsmith<0.4,>=0.1.17->langchain~=0.3.0->generative-ai-hub-sdk[all]) (1.0.0)\n",
      "Requirement already satisfied: python-dotenv>=0.21.0 in /Library/Frameworks/Python.framework/Versions/3.11/lib/python3.11/site-packages (from pydantic-settings<3.0.0,>=2.4.0->langchain-community~=0.3.0->generative-ai-hub-sdk[all]) (1.0.1)\n",
      "Requirement already satisfied: charset-normalizer<4,>=2 in /Library/Frameworks/Python.framework/Versions/3.11/lib/python3.11/site-packages (from requests<3.0->ai-api-client-sdk==2.4.6->ai-core-sdk>=2.5.7->generative-ai-hub-sdk[all]) (3.3.2)\n",
      "Requirement already satisfied: regex>=2022.1.18 in /Library/Frameworks/Python.framework/Versions/3.11/lib/python3.11/site-packages (from tiktoken<1,>=0.7->langchain-openai>=0.3.7->generative-ai-hub-sdk[all]) (2023.12.25)\n",
      "Requirement already satisfied: jsonpointer>=1.9 in /Users/I576044/Library/Python/3.11/lib/python/site-packages (from jsonpatch<2.0,>=1.33->langchain-core<0.4.0,>=0.3.27->langchain-aws==0.2.15->generative-ai-hub-sdk[all]) (2.4)\n",
      "Requirement already satisfied: pyasn1<0.7.0,>=0.4.6 in /Library/Frameworks/Python.framework/Versions/3.11/lib/python3.11/site-packages (from pyasn1-modules>=0.2.1->google-auth<3.0.0dev,>=2.14.1->google-cloud-aiplatform==1.83.0->generative-ai-hub-sdk[all]) (0.6.1)\n",
      "Requirement already satisfied: six>=1.5 in /Library/Frameworks/Python.framework/Versions/3.11/lib/python3.11/site-packages (from python-dateutil<3.0.0,>=2.1->aiobotocore==2.21.1->aiobotocore[boto3]==2.21.1->aioboto3==14.1.0->generative-ai-hub-sdk[all]) (1.16.0)\n",
      "Requirement already satisfied: mypy-extensions>=0.3.0 in /Library/Frameworks/Python.framework/Versions/3.11/lib/python3.11/site-packages (from typing-inspect<1,>=0.4.0->dataclasses-json<0.7,>=0.5.7->langchain-community~=0.3.0->generative-ai-hub-sdk[all]) (1.0.0)\n",
      "\n",
      "\u001b[1m[\u001b[0m\u001b[34;49mnotice\u001b[0m\u001b[1;39;49m]\u001b[0m\u001b[39;49m A new release of pip is available: \u001b[0m\u001b[31;49m24.0\u001b[0m\u001b[39;49m -> \u001b[0m\u001b[32;49m25.0.1\u001b[0m\n",
      "\u001b[1m[\u001b[0m\u001b[34;49mnotice\u001b[0m\u001b[1;39;49m]\u001b[0m\u001b[39;49m To update, run: \u001b[0m\u001b[32;49mpip install --upgrade pip\u001b[0m\n",
      "Defaulting to user installation because normal site-packages is not writeable\n",
      "Collecting myfitnesspal\n",
      "  Downloading myfitnesspal-2.1.2-py3-none-any.whl.metadata (927 bytes)\n",
      "Collecting blessed<2.0,>=1.8.5 (from myfitnesspal)\n",
      "  Downloading blessed-1.20.0-py2.py3-none-any.whl.metadata (13 kB)\n",
      "Requirement already satisfied: lxml<6,>=5.0.2 in /Users/I576044/Library/Python/3.11/lib/python/site-packages (from myfitnesspal) (5.3.1)\n",
      "Collecting measurement<4.0,>=3.2.0 (from myfitnesspal)\n",
      "  Downloading measurement-3.2.2-py3-none-any.whl.metadata (3.6 kB)\n",
      "Requirement already satisfied: python-dateutil<3,>=2.4 in /Library/Frameworks/Python.framework/Versions/3.11/lib/python3.11/site-packages (from myfitnesspal) (2.9.0.post0)\n",
      "Requirement already satisfied: requests<3,>=2.17.0 in /Library/Frameworks/Python.framework/Versions/3.11/lib/python3.11/site-packages (from myfitnesspal) (2.31.0)\n",
      "Collecting rich<13,>=12 (from myfitnesspal)\n",
      "  Downloading rich-12.6.0-py3-none-any.whl.metadata (18 kB)\n",
      "Collecting browser_cookie3<1,>=0.16.1 (from myfitnesspal)\n",
      "  Downloading browser_cookie3-0.20.1-py3-none-any.whl.metadata (713 bytes)\n",
      "Collecting cloudscraper<2,>=1.2.71 (from myfitnesspal)\n",
      "  Downloading cloudscraper-1.2.71-py2.py3-none-any.whl.metadata (19 kB)\n",
      "Requirement already satisfied: typing-extensions==4.12.2 in /Library/Frameworks/Python.framework/Versions/3.11/lib/python3.11/site-packages (from myfitnesspal) (4.12.2)\n",
      "Requirement already satisfied: wcwidth>=0.1.4 in /Users/I576044/Library/Python/3.11/lib/python/site-packages (from blessed<2.0,>=1.8.5->myfitnesspal) (0.2.13)\n",
      "Requirement already satisfied: six>=1.9.0 in /Library/Frameworks/Python.framework/Versions/3.11/lib/python3.11/site-packages (from blessed<2.0,>=1.8.5->myfitnesspal) (1.16.0)\n",
      "Collecting lz4 (from browser_cookie3<1,>=0.16.1->myfitnesspal)\n",
      "  Downloading lz4-4.4.4-cp311-cp311-macosx_11_0_arm64.whl.metadata (3.8 kB)\n",
      "Collecting pycryptodomex (from browser_cookie3<1,>=0.16.1->myfitnesspal)\n",
      "  Downloading pycryptodomex-3.22.0-cp37-abi3-macosx_10_9_universal2.whl.metadata (3.4 kB)\n",
      "Requirement already satisfied: pyparsing>=2.4.7 in /Library/Frameworks/Python.framework/Versions/3.11/lib/python3.11/site-packages (from cloudscraper<2,>=1.2.71->myfitnesspal) (3.1.1)\n",
      "Requirement already satisfied: requests-toolbelt>=0.9.1 in /Library/Frameworks/Python.framework/Versions/3.11/lib/python3.11/site-packages (from cloudscraper<2,>=1.2.71->myfitnesspal) (1.0.0)\n",
      "Requirement already satisfied: sympy in /Library/Frameworks/Python.framework/Versions/3.11/lib/python3.11/site-packages (from measurement<4.0,>=3.2.0->myfitnesspal) (1.12)\n",
      "Requirement already satisfied: charset-normalizer<4,>=2 in /Library/Frameworks/Python.framework/Versions/3.11/lib/python3.11/site-packages (from requests<3,>=2.17.0->myfitnesspal) (3.3.2)\n",
      "Requirement already satisfied: idna<4,>=2.5 in /Library/Frameworks/Python.framework/Versions/3.11/lib/python3.11/site-packages (from requests<3,>=2.17.0->myfitnesspal) (3.6)\n",
      "Requirement already satisfied: urllib3<3,>=1.21.1 in /Library/Frameworks/Python.framework/Versions/3.11/lib/python3.11/site-packages (from requests<3,>=2.17.0->myfitnesspal) (2.2.3)\n",
      "Requirement already satisfied: certifi>=2017.4.17 in /Library/Frameworks/Python.framework/Versions/3.11/lib/python3.11/site-packages (from requests<3,>=2.17.0->myfitnesspal) (2024.2.2)\n",
      "Collecting commonmark<0.10.0,>=0.9.0 (from rich<13,>=12->myfitnesspal)\n",
      "  Downloading commonmark-0.9.1-py2.py3-none-any.whl.metadata (5.7 kB)\n",
      "Requirement already satisfied: pygments<3.0.0,>=2.6.0 in /Users/I576044/Library/Python/3.11/lib/python/site-packages (from rich<13,>=12->myfitnesspal) (2.17.2)\n",
      "Requirement already satisfied: mpmath>=0.19 in /Library/Frameworks/Python.framework/Versions/3.11/lib/python3.11/site-packages (from sympy->measurement<4.0,>=3.2.0->myfitnesspal) (1.3.0)\n",
      "Downloading myfitnesspal-2.1.2-py3-none-any.whl (25 kB)\n",
      "Downloading blessed-1.20.0-py2.py3-none-any.whl (58 kB)\n",
      "\u001b[2K   \u001b[90m━━━━━━━━━━━━━━━━━━━━━━━━━━━━━━━━━━━━━━━━\u001b[0m \u001b[32m58.4/58.4 kB\u001b[0m \u001b[31m1.6 MB/s\u001b[0m eta \u001b[36m0:00:00\u001b[0m\n",
      "\u001b[?25hDownloading browser_cookie3-0.20.1-py3-none-any.whl (17 kB)\n",
      "Downloading cloudscraper-1.2.71-py2.py3-none-any.whl (99 kB)\n",
      "\u001b[2K   \u001b[90m━━━━━━━━━━━━━━━━━━━━━━━━━━━━━━━━━━━━━━━━\u001b[0m \u001b[32m99.7/99.7 kB\u001b[0m \u001b[31m2.0 MB/s\u001b[0m eta \u001b[36m0:00:00\u001b[0ma \u001b[36m0:00:01\u001b[0m\n",
      "\u001b[?25hDownloading measurement-3.2.2-py3-none-any.whl (17 kB)\n",
      "Downloading rich-12.6.0-py3-none-any.whl (237 kB)\n",
      "\u001b[2K   \u001b[90m━━━━━━━━━━━━━━━━━━━━━━━━━━━━━━━━━━━━━━━━\u001b[0m \u001b[32m237.5/237.5 kB\u001b[0m \u001b[31m2.3 MB/s\u001b[0m eta \u001b[36m0:00:00\u001b[0ma \u001b[36m0:00:01\u001b[0m\n",
      "\u001b[?25hDownloading commonmark-0.9.1-py2.py3-none-any.whl (51 kB)\n",
      "\u001b[2K   \u001b[90m━━━━━━━━━━━━━━━━━━━━━━━━━━━━━━━━━━━━━━━━\u001b[0m \u001b[32m51.1/51.1 kB\u001b[0m \u001b[31m2.0 MB/s\u001b[0m eta \u001b[36m0:00:00\u001b[0m\n",
      "\u001b[?25hDownloading lz4-4.4.4-cp311-cp311-macosx_11_0_arm64.whl (189 kB)\n",
      "\u001b[2K   \u001b[90m━━━━━━━━━━━━━━━━━━━━━━━━━━━━━━━━━━━━━━━━\u001b[0m \u001b[32m189.7/189.7 kB\u001b[0m \u001b[31m2.7 MB/s\u001b[0m eta \u001b[36m0:00:00\u001b[0m \u001b[36m0:00:01\u001b[0m\n",
      "\u001b[?25hDownloading pycryptodomex-3.22.0-cp37-abi3-macosx_10_9_universal2.whl (2.5 MB)\n",
      "\u001b[2K   \u001b[90m━━━━━━━━━━━━━━━━━━━━━━━━━━━━━━━━━━━━━━━━\u001b[0m \u001b[32m2.5/2.5 MB\u001b[0m \u001b[31m4.3 MB/s\u001b[0m eta \u001b[36m0:00:00\u001b[0m00:01\u001b[0m00:01\u001b[0m\n",
      "\u001b[?25hInstalling collected packages: commonmark, rich, pycryptodomex, lz4, blessed, measurement, browser_cookie3, cloudscraper, myfitnesspal\n",
      "Successfully installed blessed-1.20.0 browser_cookie3-0.20.1 cloudscraper-1.2.71 commonmark-0.9.1 lz4-4.4.4 measurement-3.2.2 myfitnesspal-2.1.2 pycryptodomex-3.22.0 rich-12.6.0\n",
      "\n",
      "\u001b[1m[\u001b[0m\u001b[34;49mnotice\u001b[0m\u001b[1;39;49m]\u001b[0m\u001b[39;49m A new release of pip is available: \u001b[0m\u001b[31;49m24.0\u001b[0m\u001b[39;49m -> \u001b[0m\u001b[32;49m25.0.1\u001b[0m\n",
      "\u001b[1m[\u001b[0m\u001b[34;49mnotice\u001b[0m\u001b[1;39;49m]\u001b[0m\u001b[39;49m To update, run: \u001b[0m\u001b[32;49mpip install --upgrade pip\u001b[0m\n"
     ]
    }
   ],
   "source": [
    "!pip install -U \"generative-ai-hub-sdk[all]\"\n",
    "!pip install \"numpy<2.0.0\" --force-reinstall"
   ]
  },
  {
   "cell_type": "markdown",
   "id": "4a7cac30",
   "metadata": {},
   "source": [
    "Now, make sure to reset the runtime. In Google Colab, you can do this by clicking `Runtime` and `Restart Session`, as shown here:\n",
    "\n",
    "<img src=\"assets/colab_restart_session.png\" style=\"width:500px\">\n",
    "\n",
    "Now, you can continue by running the below cells. The packages have already been installed into the runtime before restarting."
   ]
  },
  {
   "cell_type": "markdown",
   "id": "589bf7c4",
   "metadata": {},
   "source": [
    "## Authentication"
   ]
  },
  {
   "cell_type": "markdown",
   "id": "b864175e",
   "metadata": {},
   "source": [
    "Before requests to orchestration can be issued, we need to provide authentication details to the SDK. This can be done either via a configuration file or via the environment. Make sure to read the [Generative AI Hub SDK docs](https://help.sap.com/doc/generative-ai-hub-sdk/CLOUD/en-US/index.html) for more details. Below you will find an example for authenticating via environment variables using this very notebook. Ensure to store credentials in a file called `env_vars.env` file for the below command to work. If using Google Colab, you can place this file in the project folder by clicking the folder icon on the left and dropping the file in the workspace as shown:\n",
    "\n",
    "<img src=\"./assets/upload_env.png\" style=\"width:500px\">"
   ]
  },
  {
   "cell_type": "code",
   "execution_count": 8,
   "id": "8ffb6b34",
   "metadata": {},
   "outputs": [
    {
     "data": {
      "text/plain": [
       "True"
      ]
     },
     "execution_count": 8,
     "metadata": {},
     "output_type": "execute_result"
    }
   ],
   "source": [
    "import os\n",
    "from dotenv import load_dotenv\n",
    "\n",
    "load_dotenv(dotenv_path='env_vars.env')"
   ]
  },
  {
   "cell_type": "markdown",
   "id": "7ae93e38-6452-483c-81eb-91c3d64246bc",
   "metadata": {},
   "source": [
    "# Building a Chatbot Using the Orchestration Service"
   ]
  },
  {
   "cell_type": "markdown",
   "id": "5765115a-307b-453a-9fd4-222183564bf8",
   "metadata": {},
   "source": [
    "We will now combine templating and content filtering in a chatbot. Additionally we will make use of the orchestration services history capability."
   ]
  },
  {
   "cell_type": "markdown",
   "id": "5fe29833-0b77-45cb-926a-ce371c99056a",
   "metadata": {},
   "source": [
    "We start with building the chatbot class. This class will be responsible for providing the template for the user query and managing the history. Note that the `chat` method uses the `history` parameter to send along the history to the orchestration service."
   ]
  },
  {
   "cell_type": "code",
   "execution_count": 3,
   "id": "5d2dc5f8-6e6f-4726-80bc-737a076bcfeb",
   "metadata": {},
   "outputs": [],
   "source": [
    "from typing import List\n",
    "\n",
    "from gen_ai_hub.orchestration.models.message import Message, SystemMessage, UserMessage\n",
    "from gen_ai_hub.orchestration.models.template import Template, TemplateValue\n",
    "from gen_ai_hub.orchestration.service import OrchestrationService\n",
    "\n",
    "\n",
    "class OrchestrationChatbot:\n",
    "    def __init__(self, orchestration_service: OrchestrationService):\n",
    "        self.service = orchestration_service\n",
    "        self.service.config.template = Template(\n",
    "            messages=[\n",
    "                SystemMessage(\"You are a helpful chatbot assistant.\"),\n",
    "                UserMessage(\"{{?user_query}}\"),\n",
    "            ],\n",
    "        )\n",
    "        self.history: List[Message] = []\n",
    "\n",
    "    def chat(self, user_input):\n",
    "        response = self.service.run(\n",
    "            template_values=[\n",
    "                TemplateValue(name=\"user_query\", value=user_input),\n",
    "            ],\n",
    "            history=self.history,\n",
    "        )\n",
    "\n",
    "        message = response.orchestration_result.choices[0].message\n",
    "\n",
    "        self.history = response.module_results.templating\n",
    "        self.history.append(message)\n",
    "\n",
    "        return message.content"
   ]
  },
  {
   "cell_type": "markdown",
   "id": "b4df3010-e28c-4677-b09e-4747855ce346",
   "metadata": {},
   "source": [
    "Next up we will create an orchestration configuration. Next to the model parameter we also pass a content filter for input and output to ensure a nice conversation."
   ]
  },
  {
   "cell_type": "code",
   "execution_count": 4,
   "id": "e4b88013-88e0-4b09-904e-ee2d39bb881d",
   "metadata": {},
   "outputs": [],
   "source": [
    "from gen_ai_hub.orchestration.models.azure_content_filter import AzureContentFilter, AzureThreshold\n",
    "from gen_ai_hub.orchestration.models.llama_guard_3_filter import LlamaGuard38bFilter\n",
    "from gen_ai_hub.orchestration.models.config import OrchestrationConfig\n",
    "from gen_ai_hub.orchestration.service import OrchestrationService\n",
    "from gen_ai_hub.orchestration.models.llm import LLM\n",
    "from gen_ai_hub.orchestration.models.content_filtering import ContentFiltering, InputFiltering\n",
    "\n",
    "input_content_filter_azure = AzureContentFilter(\n",
    "    hate=AzureThreshold.ALLOW_SAFE,\n",
    "    sexual=AzureThreshold.ALLOW_SAFE,\n",
    "    self_harm=AzureThreshold.ALLOW_SAFE,\n",
    "    violence=AzureThreshold.ALLOW_SAFE,\n",
    ")\n",
    "\n",
    "input_content_filter_llama = LlamaGuard38bFilter(violent_crimes=False, \n",
    "                                                 non_violent_crimes=False, \n",
    "                                                 sex_crimes=False, \n",
    "                                                 child_exploitation=False, \n",
    "                                                 defamation=False, \n",
    "                                                 specialized_advice=False, \n",
    "                                                 privacy=False, \n",
    "                                                 intellectual_property=False, \n",
    "                                                 indiscriminate_weapons=False, \n",
    "                                                 hate=True, \n",
    "                                                 self_harm=False, \n",
    "                                                 sexual_content=False, \n",
    "                                                 elections=False, \n",
    "                                                 code_interpreter_abuse=False)\n",
    "\n",
    "config = OrchestrationConfig(\n",
    "    llm=LLM('gemini-1.5-flash'),\n",
    "    filtering=ContentFiltering(\n",
    "        input_filtering=InputFiltering(filters=[input_content_filter_azure, input_content_filter_llama])\n",
    "    ),\n",
    "    template=None\n",
    ")\n",
    "\n",
    "orchestration_service = OrchestrationService(\n",
    "    deployment_id=os.environ[\"AICORE_ORCH_DEPLOYMENT_ID\"],\n",
    "    config=config,\n",
    ")"
   ]
  },
  {
   "cell_type": "markdown",
   "id": "b00e7648-742c-48dd-b97a-d5463388d152",
   "metadata": {},
   "source": [
    "Lets chat with our bot and test if it is able to recall a conversation!"
   ]
  },
  {
   "cell_type": "code",
   "execution_count": 5,
   "id": "4bccdf7a-f67a-4730-b206-d7b429ddbd74",
   "metadata": {},
   "outputs": [],
   "source": [
    "bot = OrchestrationChatbot(orchestration_service=orchestration_service)"
   ]
  },
  {
   "cell_type": "code",
   "execution_count": 16,
   "id": "5f3e6a6e-9a56-4158-9748-21ca13f34126",
   "metadata": {},
   "outputs": [
    {
     "name": "stdout",
     "output_type": "stream",
     "text": [
      "Hello Aman! I'm doing well, thank you for asking. It's nice to meet you.  How are you today?\n",
      "\n"
     ]
    }
   ],
   "source": [
    "print(bot.chat(\"Hello, how are you? My name is Aman.\"))"
   ]
  },
  {
   "cell_type": "code",
   "execution_count": 17,
   "id": "0ae3fc17-5d36-48e7-847a-67be6fc402b3",
   "metadata": {},
   "outputs": [
    {
     "name": "stdout",
     "output_type": "stream",
     "text": [
      "I don't have access to real-time information, including weather forecasts. To find out what the weather is like today, please check a local weather website or app.\n",
      "\n"
     ]
    }
   ],
   "source": [
    "print(bot.chat(\"What's the weather like today?\"))"
   ]
  },
  {
   "cell_type": "code",
   "execution_count": 18,
   "id": "93fa8a0b-319c-4c1d-9f35-a8aded75bf1a",
   "metadata": {},
   "outputs": [
    {
     "name": "stdout",
     "output_type": "stream",
     "text": [
      "Yes, your first question was \"Hello, how are you?\"\n",
      "\n"
     ]
    }
   ],
   "source": [
    "print(bot.chat(\"Can you remember what I first asked you?\"))"
   ]
  },
  {
   "cell_type": "code",
   "execution_count": 19,
   "id": "2a967b1f",
   "metadata": {},
   "outputs": [
    {
     "name": "stdout",
     "output_type": "stream",
     "text": [
      "You told me your name is Aman.\n",
      "\n"
     ]
    }
   ],
   "source": [
    "print(bot.chat(\"What about my name?\"))"
   ]
  },
  {
   "cell_type": "markdown",
   "id": "db711813-490e-4021-ad92-bca3f26ef0c1",
   "metadata": {},
   "source": [
    "# Summary"
   ]
  },
  {
   "cell_type": "markdown",
   "id": "3497c99b-176d-4307-ba01-f7bbcb708411",
   "metadata": {},
   "source": [
    "In this exercise, you got hands-on experience on how to use orchestration in complex scenarios. Next, you can try building a Gen AI application with Orchestration in [Exercise 5](./orchestration_app/README.md) or continue with building a RAG pipeline in [Exercise 6](./RAG.ipynb)."
   ]
  }
 ],
 "metadata": {
  "kernelspec": {
   "display_name": "Python 3 (ipykernel)",
   "language": "python",
   "name": "python3"
  },
  "language_info": {
   "codemirror_mode": {
    "name": "ipython",
    "version": 3
   },
   "file_extension": ".py",
   "mimetype": "text/x-python",
   "name": "python",
   "nbconvert_exporter": "python",
   "pygments_lexer": "ipython3",
   "version": "3.11.7"
  }
 },
 "nbformat": 4,
 "nbformat_minor": 5
}
